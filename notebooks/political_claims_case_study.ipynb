{
 "cells": [
  {
   "cell_type": "code",
   "execution_count": 1,
   "id": "6aeacc11",
   "metadata": {},
   "outputs": [
    {
     "name": "stdout",
     "output_type": "stream",
     "text": [
      "/mmfs1/gscratch/xlab/alisaliu/ambient\n"
     ]
    }
   ],
   "source": [
    "from pathlib import Path\n",
    "\n",
    "while Path.cwd().name != 'ambient':\n",
    "    %cd .."
   ]
  },
  {
   "cell_type": "code",
   "execution_count": 2,
   "id": "5baf7695",
   "metadata": {},
   "outputs": [],
   "source": [
    "import pandas as pd\n",
    "from tqdm import tqdm\n",
    "import matplotlib.pyplot as plt\n",
    "import seaborn as sns\n",
    "from generation.gpt3_generation import request\n",
    "from utils.utils import sigmoid, predict_nli\n",
    "from utils.constants import NLI_LABELS\n",
    "import numpy as np\n",
    "from transformers import RobertaTokenizer, RobertaForSequenceClassification\n",
    "from sklearn.metrics import confusion_matrix, recall_score, precision_score, f1_score"
   ]
  },
  {
   "cell_type": "code",
   "execution_count": 3,
   "id": "94bbf341",
   "metadata": {},
   "outputs": [],
   "source": [
    "multilabel_model = RobertaForSequenceClassification.from_pretrained('models/roberta-large-wanli-multilabel').to('cuda')\n",
    "tokenizer = RobertaTokenizer.from_pretrained('models/roberta-large-wanli-multilabel')"
   ]
  },
  {
   "cell_type": "markdown",
   "id": "989c2727",
   "metadata": {},
   "source": [
    "## detection"
   ]
  },
  {
   "cell_type": "code",
   "execution_count": 3,
   "id": "1e3099dd",
   "metadata": {},
   "outputs": [],
   "source": [
    "def paraphrase_gpt3(sentence, n, top_p=0.9, engine='text-davinci-003'):\n",
    "    generations = set()\n",
    "    for i in range(n):\n",
    "        instruction = 'Paraphrase the text.'\n",
    "        context = f'{instruction}\\n\\n{sentence}\\nParaphrase: '\n",
    "        generation = request(\n",
    "            prompt=context,\n",
    "            model=engine,\n",
    "            top_p=top_p,\n",
    "            n=1,\n",
    "            stop=None,\n",
    "            return_only_text=True\n",
    "        )\n",
    "        \n",
    "        generation = generation.replace('Paraphrase:', '').strip()\n",
    "        generations.add(generation)\n",
    "\n",
    "    generations.discard('')\n",
    "    generations.discard(sentence)\n",
    "    return generations"
   ]
  },
  {
   "cell_type": "code",
   "execution_count": 5,
   "id": "8872ee30",
   "metadata": {},
   "outputs": [],
   "source": [
    "claims_df = pd.read_json('data/claim-decomp/dev.jsonl', lines=True)"
   ]
  },
  {
   "cell_type": "code",
   "execution_count": 6,
   "id": "19f2229e",
   "metadata": {},
   "outputs": [
    {
     "name": "stderr",
     "output_type": "stream",
     "text": [
      "100%|██████████| 200/200 [14:31<00:00,  4.36s/it]\n"
     ]
    }
   ],
   "source": [
    "strings_to_remove = ['Says that', 'Says', '“', '\"', '”', '(', ')']\n",
    "\n",
    "claims_df['cleaned_claim'] = None\n",
    "claims_df['ambiguity_score'] = None\n",
    "claims_df['paraphrases'] = None\n",
    "claims_df['paraphrases'] = claims_df['paraphrases'].astype('object')\n",
    "for i, row in tqdm(claims_df.iterrows(), total=len(claims_df.index)):\n",
    "    claim = row['claim']\n",
    "    for s in strings_to_remove:\n",
    "        claim = claim.replace(s, '')\n",
    "    claim = claim.strip()\n",
    "    claim = claim[0].upper() + claim[1:]\n",
    "    paraphrases = paraphrase_gpt3(claim, n=5, engine='text-davinci-003', top_p=0.4)\n",
    "    scores = []\n",
    "    for paraphrase in paraphrases:\n",
    "        probs = predict_nli(claim, paraphrase, multilabel_model, tokenizer)\n",
    "        s = sorted([p for p in probs.values()], reverse=True)[1]\n",
    "        scores.append(s)\n",
    "    claims_df.at[i, 'cleaned_claim'] = claim\n",
    "    claims_df.at[i, 'paraphrases'] = [(p,s) for p,s in zip(paraphrases, scores)]\n",
    "    claims_df.at[i, 'ambiguity_score'] = np.nanmax(scores)"
   ]
  },
  {
   "cell_type": "code",
   "execution_count": null,
   "id": "98171dc0",
   "metadata": {},
   "outputs": [],
   "source": [
    "claims_df.to_json('political-claims/results.jsonl', lines=True, orient='records')"
   ]
  },
  {
   "cell_type": "markdown",
   "id": "44e6e4d2",
   "metadata": {},
   "source": [
    "## analysis"
   ]
  },
  {
   "cell_type": "code",
   "execution_count": 4,
   "id": "3d33c82d",
   "metadata": {},
   "outputs": [],
   "source": [
    "annotations = pd.read_csv('political-claims/dev-annotations.csv').drop('notes', axis=1)\n",
    "claims_df = pd.read_json('political-claims/results.jsonl', lines=True)[['example_id', 'label', 'claim', 'cleaned_claim', 'ambiguity_score', 'paraphrases']]"
   ]
  },
  {
   "cell_type": "code",
   "execution_count": 5,
   "id": "0a28d19c",
   "metadata": {
    "scrolled": true
   },
   "outputs": [
    {
     "data": {
      "text/html": [
       "<div>\n",
       "<style scoped>\n",
       "    .dataframe tbody tr th:only-of-type {\n",
       "        vertical-align: middle;\n",
       "    }\n",
       "\n",
       "    .dataframe tbody tr th {\n",
       "        vertical-align: top;\n",
       "    }\n",
       "\n",
       "    .dataframe thead th {\n",
       "        text-align: right;\n",
       "    }\n",
       "</style>\n",
       "<table border=\"1\" class=\"dataframe\">\n",
       "  <thead>\n",
       "    <tr style=\"text-align: right;\">\n",
       "      <th></th>\n",
       "      <th>example_id</th>\n",
       "      <th>label</th>\n",
       "      <th>claim</th>\n",
       "      <th>ambiguity_score</th>\n",
       "      <th>paraphrases</th>\n",
       "      <th>annotation</th>\n",
       "    </tr>\n",
       "  </thead>\n",
       "  <tbody>\n",
       "    <tr>\n",
       "      <th>0</th>\n",
       "      <td>8057719209342304749</td>\n",
       "      <td>false</td>\n",
       "      <td>With voting by mail, you get thousands and tho...</td>\n",
       "      <td>0.847081</td>\n",
       "      <td>[[With voting by mail, people can fill out bal...</td>\n",
       "      <td>f</td>\n",
       "    </tr>\n",
       "    <tr>\n",
       "      <th>1</th>\n",
       "      <td>-3333998957238197422</td>\n",
       "      <td>barely-true</td>\n",
       "      <td>I’ve already traveled to Washington, D.C., and...</td>\n",
       "      <td>0.094361</td>\n",
       "      <td>[[I have already gone to Washington, D.C. and ...</td>\n",
       "      <td>f</td>\n",
       "    </tr>\n",
       "    <tr>\n",
       "      <th>2</th>\n",
       "      <td>-5816336384767541299</td>\n",
       "      <td>barely-true</td>\n",
       "      <td>When San Francisco banned plastic grocery bags...</td>\n",
       "      <td>0.018198</td>\n",
       "      <td>[[The number of people going to the ER with fo...</td>\n",
       "      <td>a</td>\n",
       "    </tr>\n",
       "  </tbody>\n",
       "</table>\n",
       "</div>"
      ],
      "text/plain": [
       "            example_id        label  \\\n",
       "0  8057719209342304749        false   \n",
       "1 -3333998957238197422  barely-true   \n",
       "2 -5816336384767541299  barely-true   \n",
       "\n",
       "                                               claim  ambiguity_score  \\\n",
       "0  With voting by mail, you get thousands and tho...         0.847081   \n",
       "1  I’ve already traveled to Washington, D.C., and...         0.094361   \n",
       "2  When San Francisco banned plastic grocery bags...         0.018198   \n",
       "\n",
       "                                         paraphrases annotation  \n",
       "0  [[With voting by mail, people can fill out bal...          f  \n",
       "1  [[I have already gone to Washington, D.C. and ...          f  \n",
       "2  [[The number of people going to the ER with fo...          a  "
      ]
     },
     "execution_count": 5,
     "metadata": {},
     "output_type": "execute_result"
    }
   ],
   "source": [
    "results_df = claims_df.merge(annotations[['claim', 'annotation']], how='inner', on='claim')\n",
    "results_df = results_df.drop('claim', axis=1).rename({'cleaned_claim': 'claim'}, axis=1)\n",
    "results_df.head(3)"
   ]
  },
  {
   "cell_type": "code",
   "execution_count": 6,
   "id": "4b318865",
   "metadata": {},
   "outputs": [
    {
     "name": "stdout",
     "output_type": "stream",
     "text": [
      "0.12403100775193798\n",
      "0.8888888888888888\n",
      "0.21768707482993196\n"
     ]
    }
   ],
   "source": [
    "precisions = []\n",
    "recalls = []\n",
    "f1s = []\n",
    "t = sigmoid(-1.97) # mean threshold tuned on AmbiEnt dev set from §5 (see Table 11)\n",
    "y_pred = [1 if a > t else 0 for a in results_df.ambiguity_score]\n",
    "y_true = [1 if a == 'a' else 0 for a in results_df.annotation]\n",
    "print(precision_score(y_true, y_pred))\n",
    "print(recall_score(y_true, y_pred))\n",
    "print(f1_score(y_true, y_pred))"
   ]
  },
  {
   "cell_type": "code",
   "execution_count": 7,
   "id": "9ab93e02",
   "metadata": {},
   "outputs": [
    {
     "name": "stdout",
     "output_type": "stream",
     "text": [
      "{'contradiction': 0.007283803541213274, 'entailment': 0.9960212111473083, 'neutral': 0.1750793308019638}\n"
     ]
    },
    {
     "name": "stderr",
     "output_type": "stream",
     "text": [
      "/gscratch/cse/alisaliu/miniconda3/envs/nli/lib/python3.9/site-packages/seaborn/_decorators.py:36: FutureWarning: Pass the following variables as keyword args: x, y. From version 0.12, the only valid positional argument will be `data`, and passing other arguments without an explicit keyword will result in an error or misinterpretation.\n",
      "  warnings.warn(\n"
     ]
    },
    {
     "data": {
      "image/png": "[encoded data removed]",
      "text/plain": [
       "<Figure size 288x144 with 1 Axes>"
      ]
     },
     "metadata": {},
     "output_type": "display_data"
    }
   ],
   "source": [
    "sns.set_style('white')\n",
    "sns.set_palette('muted')\n",
    "red = sns.color_palette('muted')[3]\n",
    "green = sns.color_palette('muted')[2]\n",
    "gray = sns.color_palette('muted')[-3]\n",
    "\n",
    "premise = 'Donald Trump even said, on his very first day in office, he would require every school in America to let people carry guns into our classrooms.'\n",
    "hypothesis = \"Donald Trump said on his first day in office that every school in America would have to allow people to carry guns in classrooms.\"\n",
    "probs = predict_nli(premise, hypothesis, multilabel_model, tokenizer)\n",
    "print(probs)\n",
    "x = list(probs.values())\n",
    "fig, ax = plt.subplots(figsize=(4,2))\n",
    "sns.barplot(x, NLI_LABELS, order=['entailment', 'neutral', 'contradiction'], palette=[green, gray, red])\n",
    "ax.set_xlim(right=1)\n",
    "plt.tight_layout()\n",
    "plt.savefig('figures/multilabel_pred.png', dpi=300)"
   ]
  },
  {
   "cell_type": "code",
   "execution_count": null,
   "id": "8ab2dce5",
   "metadata": {},
   "outputs": [],
   "source": []
  }
 ],
 "metadata": {
  "kernelspec": {
   "display_name": "Python 3 (ipykernel)",
   "language": "python",
   "name": "python3"
  },
  "language_info": {
   "codemirror_mode": {
    "name": "ipython",
    "version": 3
   },
   "file_extension": ".py",
   "mimetype": "text/x-python",
   "name": "python",
   "nbconvert_exporter": "python",
   "pygments_lexer": "ipython3",
   "version": "3.9.5"
  }
 },
 "nbformat": 4,
 "nbformat_minor": 5
}
