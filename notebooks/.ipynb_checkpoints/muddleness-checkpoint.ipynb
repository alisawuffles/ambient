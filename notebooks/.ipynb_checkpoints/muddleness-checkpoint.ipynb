{
 "cells": [
  {
   "cell_type": "code",
   "execution_count": 1,
   "id": "e5e33dce",
   "metadata": {},
   "outputs": [
    {
     "name": "stdout",
     "output_type": "stream",
     "text": [
      "/mmfs1/gscratch/xlab/alisaliu/ambignli\n"
     ]
    }
   ],
   "source": [
    "from pathlib import Path\n",
    "\n",
    "while Path.cwd().name != 'ambignli':\n",
    "    %cd .."
   ]
  },
  {
   "cell_type": "code",
   "execution_count": 2,
   "id": "b4c3e679",
   "metadata": {},
   "outputs": [],
   "source": [
    "import numpy as np\n",
    "import pandas as pd\n",
    "import os\n",
    "from collections import defaultdict\n",
    "from itertools import combinations\n",
    "from utils.constants import id2label, NLI_LABELS\n",
    "import seaborn as sns\n",
    "import matplotlib.pyplot as plt\n",
    "from evaluation.pmi import cross_entropy\n",
    "from generation.gpt3_generation import request\n",
    "import seaborn as sns\n",
    "import matplotlib.pyplot as plt\n",
    "from tqdm import tqdm"
   ]
  },
  {
   "cell_type": "code",
   "execution_count": 27,
   "id": "1b0b79af",
   "metadata": {},
   "outputs": [],
   "source": [
    "ambiguous_sentence = \"I am afraid that the meeting tomorrow will be canceled.\"\n",
    "disambiguations = ['I am scared that the meeting tomorrow will be canceled.', 'Regrettably, the meeting tomorrow will be canceled.']\n",
    "# ambiguous_sentence = \"I saw a crane on my walk.\"\n",
    "# disambiguations = ['I saw a construction crane on my walk.', 'I saw a crane, as in a bird, on my walk.']"
   ]
  },
  {
   "cell_type": "code",
   "execution_count": 59,
   "id": "ad1a539f",
   "metadata": {},
   "outputs": [],
   "source": [
    "continuation = \" I will call you as soon as I have a new date.\""
   ]
  },
  {
   "cell_type": "code",
   "execution_count": 60,
   "id": "b3a60ba8",
   "metadata": {},
   "outputs": [
    {
     "data": {
      "text/plain": [
       "[23.915353001, 27.152454472000002]"
      ]
     },
     "execution_count": 60,
     "metadata": {},
     "output_type": "execute_result"
    }
   ],
   "source": [
    "cross_entropy(disambiguations, [continuation]*2, engine='davinci')"
   ]
  },
  {
   "cell_type": "code",
   "execution_count": 61,
   "id": "22feec57",
   "metadata": {},
   "outputs": [],
   "source": [
    "prompts = disambiguations.copy()\n",
    "inputs, outputs = [], []\n",
    "continuation_tokens = continuation.split(' ')[1:]\n",
    "for token in continuation_tokens:\n",
    "    for i, prompt in enumerate(prompts):\n",
    "        inputs.append(prompt)\n",
    "        outputs.append(' ' + token)\n",
    "        prompt += ' ' + token\n",
    "        prompts[i] = prompt"
   ]
  },
  {
   "cell_type": "code",
   "execution_count": 62,
   "id": "c93f3337",
   "metadata": {},
   "outputs": [],
   "source": [
    "ces = cross_entropy(inputs, outputs, engine='davinci')"
   ]
  },
  {
   "cell_type": "code",
   "execution_count": 63,
   "id": "19452232",
   "metadata": {},
   "outputs": [],
   "source": [
    "y = []\n",
    "for ce1, ce2 in zip(ces[::2], ces[1::2]):\n",
    "    y.append(ce1-ce2)"
   ]
  },
  {
   "cell_type": "code",
   "execution_count": 68,
   "id": "a0014740",
   "metadata": {},
   "outputs": [
    {
     "data": {
      "image/png": "[encoded data removed]",
      "text/plain": [
       "<Figure size 432x288 with 1 Axes>"
      ]
     },
     "metadata": {
      "needs_background": "light"
     },
     "output_type": "display_data"
    }
   ],
   "source": [
    "fig, ax = plt.subplots()\n",
    "sns.lineplot(x=range(len(y)), y=y)\n",
    "ax.axhline(y=0.0, color='gray', linestyle='--')\n",
    "ax.set_xticks(range(len(continuation_tokens)))\n",
    "ax.set_xticklabels(continuation_tokens, rotation=30)\n",
    "ax.set_ylabel('log P(c|x2) - log P(c|x1)')\n",
    "ax.set_title(f'{ambiguous_sentence}\\nx1: {disambiguations[0]}\\nx2: {disambiguations[1]}')\n",
    "plt.savefig(f'results/muddleness_plots/{\"_\".join(continuation.strip().split(\" \"))}')"
   ]
  },
  {
   "cell_type": "code",
   "execution_count": null,
   "id": "e53e24f7",
   "metadata": {},
   "outputs": [],
   "source": [
    "GPT3_BATCH_SIZE=128\n",
    "gpt3_gens = request(\n",
    "    prompt='\"' + ambiguous_sentence,\n",
    "    top_p=0.6,\n",
    "    model='davinci',\n",
    "    return_only_text=True,\n",
    "    n=GPT3_BATCH_SIZE,\n",
    "    stop=[',\"', '.', '\\n']                    \n",
    ")"
   ]
  },
  {
   "cell_type": "code",
   "execution_count": null,
   "id": "0bf79906",
   "metadata": {},
   "outputs": [],
   "source": [
    "x1 = cross_entropy([disambiguations[0]] * GPT3_BATCH_SIZE, gpt3_gens, engine='davinci')\n",
    "x2 = cross_entropy([disambiguations[1]] * GPT3_BATCH_SIZE, gpt3_gens, engine='davinci')\n",
    "# negative number means that x1 is preferred\n",
    "# x1 preferred -> a is smaller -> number is negative\n",
    "# log P(c|x2) - log P(c|x1)\n",
    "d = [a-b for a,b in zip(x1,x2)]"
   ]
  },
  {
   "cell_type": "code",
   "execution_count": null,
   "id": "1b185d39",
   "metadata": {},
   "outputs": [],
   "source": [
    "pd.DataFrame(list(zip([disambiguations[0]] * GPT3_BATCH_SIZE, [disambiguations[1]] * GPT3_BATCH_SIZE, gpt3_gens, d)), columns=['x1', 'x2', 'continuation', 'log_prob_diff']).to_csv('analysis/I_am_afraid_that_the_meeting_tomorrow_will_be_canceled.csv', index=False)"
   ]
  },
  {
   "cell_type": "code",
   "execution_count": null,
   "id": "3219b2e9",
   "metadata": {},
   "outputs": [],
   "source": [
    "fig, ax = plt.subplots()\n",
    "# sns.histplot(x1, color=sns.color_palette('muted')[0], label=disambiguations[0], kde=True, stat='density')\n",
    "# sns.histplot(x2, color=sns.color_palette('muted')[1], label=disambiguations[1], kde=True, stat='density')\n",
    "sns.histplot(d, kde=True)\n",
    "ax.legend()\n",
    "ax.set_xlabel('log P(c|x)')"
   ]
  },
  {
   "cell_type": "code",
   "execution_count": null,
   "id": "226ecf05",
   "metadata": {},
   "outputs": [],
   "source": [
    "disambiguations[0]"
   ]
  },
  {
   "cell_type": "code",
   "execution_count": null,
   "id": "3ba430cb",
   "metadata": {},
   "outputs": [],
   "source": [
    "disambiguations[1]"
   ]
  },
  {
   "cell_type": "code",
   "execution_count": null,
   "id": "df343e67",
   "metadata": {},
   "outputs": [],
   "source": [
    "c = ' I will let you know when I have rescheduled.'\n",
    "cross_entropy(['\"' + ambiguous_sentence], [c], engine='davinci')"
   ]
  },
  {
   "cell_type": "code",
   "execution_count": null,
   "id": "5cdaf1fc",
   "metadata": {},
   "outputs": [],
   "source": [
    "cross_entropy(['\"I am scared that the meeting tomorrow will be canceled.'], [c], engine='davinci')"
   ]
  },
  {
   "cell_type": "code",
   "execution_count": null,
   "id": "6ef33cb3",
   "metadata": {},
   "outputs": [],
   "source": [
    "cross_entropy(['\"Regrettably, the meeting tomorrow will be canceled.'], [c], engine='davinci')"
   ]
  },
  {
   "cell_type": "code",
   "execution_count": null,
   "id": "9918abe6",
   "metadata": {},
   "outputs": [],
   "source": [
    "gpt3_gens"
   ]
  },
  {
   "cell_type": "code",
   "execution_count": null,
   "id": "22b4e680",
   "metadata": {},
   "outputs": [],
   "source": [
    "annotations = pd.read_csv('analysis/I_am_afraid_that_the_meeting_tomorrow_will_be_canceled.csv')\n",
    "annotations.head(3)"
   ]
  },
  {
   "cell_type": "code",
   "execution_count": null,
   "id": "de3f146b",
   "metadata": {},
   "outputs": [],
   "source": [
    "annotations['interpretation assumed'].value_counts()"
   ]
  },
  {
   "cell_type": "code",
   "execution_count": null,
   "id": "16197c9b",
   "metadata": {},
   "outputs": [],
   "source": [
    "sns.histplot(data=annotations, x='log_prob_diff', hue='interpretation assumed', kde=True)"
   ]
  },
  {
   "cell_type": "code",
   "execution_count": null,
   "id": "71660b6f",
   "metadata": {},
   "outputs": [],
   "source": []
  }
 ],
 "metadata": {
  "kernelspec": {
   "display_name": "Python 3 (ipykernel)",
   "language": "python",
   "name": "python3"
  },
  "language_info": {
   "codemirror_mode": {
    "name": "ipython",
    "version": 3
   },
   "file_extension": ".py",
   "mimetype": "text/x-python",
   "name": "python",
   "nbconvert_exporter": "python",
   "pygments_lexer": "ipython3",
   "version": "3.9.5"
  }
 },
 "nbformat": 4,
 "nbformat_minor": 5
}
