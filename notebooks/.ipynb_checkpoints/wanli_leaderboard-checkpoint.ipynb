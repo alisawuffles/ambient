{
 "cells": [
  {
   "cell_type": "code",
   "execution_count": 1,
   "id": "db0a1ebf",
   "metadata": {},
   "outputs": [
    {
     "name": "stdout",
     "output_type": "stream",
     "text": [
      "/mmfs1/gscratch/xlab/alisaliu/ambignli\n",
      "/mmfs1/gscratch/xlab/alisaliu/wanli\n"
     ]
    }
   ],
   "source": [
    "from pathlib import Path\n",
    "\n",
    "while Path.cwd().name != 'ambignli':\n",
    "    %cd ..\n",
    "\n",
    "%cd '../wanli'"
   ]
  },
  {
   "cell_type": "code",
   "execution_count": 7,
   "id": "39a4c196",
   "metadata": {},
   "outputs": [],
   "source": [
    "import pandas as pd\n",
    "from tqdm import tqdm\n",
    "from utils.constants import NLI_LABELS\n",
    "from utils.utils import predict_nli\n",
    "import random\n",
    "from transformers import RobertaTokenizer, RobertaForSequenceClassification"
   ]
  },
  {
   "cell_type": "code",
   "execution_count": 5,
   "id": "860dbe46",
   "metadata": {},
   "outputs": [],
   "source": [
    "test_df = pd.read_json('data/wanli/test.jsonl', lines=True)\n",
    "# test_df.drop(['pairID', 'gold', 'genre'], axis=1).to_json('data/wanli/leaderboard_data/examples.jsonl', lines=True, orient='records')"
   ]
  },
  {
   "cell_type": "code",
   "execution_count": null,
   "id": "699d5eea",
   "metadata": {},
   "outputs": [],
   "source": [
    "test_df[['id', 'gold']].to_json('data/wanli/leaderboard_data/answers.jsonl', lines=True, orient='records')"
   ]
  },
  {
   "cell_type": "code",
   "execution_count": null,
   "id": "3544ed57",
   "metadata": {},
   "outputs": [],
   "source": [
    "preds_df = test_df[['id']]\n",
    "preds_df['prediction'] = random.choices(NLI_LABELS, k=len(preds_df))\n",
    "preds_df.to_csv('data/wanli/leaderboard_data/dummy_predictions.csv', index=False, header=None)"
   ]
  },
  {
   "cell_type": "code",
   "execution_count": null,
   "id": "5091b62e",
   "metadata": {},
   "outputs": [],
   "source": [
    "sum(preds_df['prediction'] == test_df['gold'])/len(test_df)"
   ]
  },
  {
   "cell_type": "code",
   "execution_count": 28,
   "id": "e5d3042b",
   "metadata": {},
   "outputs": [],
   "source": [
    "model_name = 'anli-wanli'\n",
    "model = RobertaForSequenceClassification.from_pretrained(f'models/roberta-large-{model_name}').to('cuda')\n",
    "tokenizer = RobertaTokenizer.from_pretrained(f'models/roberta-large-{model_name}')"
   ]
  },
  {
   "cell_type": "code",
   "execution_count": 29,
   "id": "3e7676de",
   "metadata": {},
   "outputs": [
    {
     "name": "stderr",
     "output_type": "stream",
     "text": [
      "100%|██████████| 5000/5000 [01:17<00:00, 64.45it/s]\n"
     ]
    }
   ],
   "source": [
    "preds = []\n",
    "for i, row in tqdm(test_df.iterrows(), total=len(test_df.index)):\n",
    "    probs = predict_nli(row['premise'], row['hypothesis'], model, tokenizer)\n",
    "    pred = max(probs, key=probs.get).lower()\n",
    "    preds.append((row['id'], pred))"
   ]
  },
  {
   "cell_type": "code",
   "execution_count": 32,
   "id": "f7c15ed4",
   "metadata": {},
   "outputs": [
    {
     "data": {
      "text/plain": [
       "0.754"
      ]
     },
     "execution_count": 32,
     "metadata": {},
     "output_type": "execute_result"
    }
   ],
   "source": [
    "sum(preds_df['prediction'] == test_df['gold'])/len(test_df)"
   ]
  },
  {
   "cell_type": "code",
   "execution_count": 33,
   "id": "a7e59cf0",
   "metadata": {},
   "outputs": [],
   "source": [
    "preds_df = pd.DataFrame(preds, columns=['id', 'prediction'])\n",
    "pd.DataFrame(preds).to_csv(f'data/wanli/leaderboard_data/roberta-large-{model_name}_predictions.csv', index=False, header=None)"
   ]
  },
  {
   "cell_type": "code",
   "execution_count": 34,
   "id": "ae9363c8",
   "metadata": {},
   "outputs": [
    {
     "data": {
      "text/html": [
       "<div>\n",
       "<style scoped>\n",
       "    .dataframe tbody tr th:only-of-type {\n",
       "        vertical-align: middle;\n",
       "    }\n",
       "\n",
       "    .dataframe tbody tr th {\n",
       "        vertical-align: top;\n",
       "    }\n",
       "\n",
       "    .dataframe thead th {\n",
       "        text-align: right;\n",
       "    }\n",
       "</style>\n",
       "<table border=\"1\" class=\"dataframe\">\n",
       "  <thead>\n",
       "    <tr style=\"text-align: right;\">\n",
       "      <th></th>\n",
       "      <th>id</th>\n",
       "      <th>prediction</th>\n",
       "    </tr>\n",
       "  </thead>\n",
       "  <tbody>\n",
       "    <tr>\n",
       "      <th>0</th>\n",
       "      <td>259676</td>\n",
       "      <td>neutral</td>\n",
       "    </tr>\n",
       "    <tr>\n",
       "      <th>1</th>\n",
       "      <td>88755</td>\n",
       "      <td>neutral</td>\n",
       "    </tr>\n",
       "    <tr>\n",
       "      <th>2</th>\n",
       "      <td>270193</td>\n",
       "      <td>entailment</td>\n",
       "    </tr>\n",
       "    <tr>\n",
       "      <th>3</th>\n",
       "      <td>164269</td>\n",
       "      <td>entailment</td>\n",
       "    </tr>\n",
       "    <tr>\n",
       "      <th>4</th>\n",
       "      <td>6435</td>\n",
       "      <td>entailment</td>\n",
       "    </tr>\n",
       "    <tr>\n",
       "      <th>...</th>\n",
       "      <td>...</td>\n",
       "      <td>...</td>\n",
       "    </tr>\n",
       "    <tr>\n",
       "      <th>4995</th>\n",
       "      <td>80354</td>\n",
       "      <td>neutral</td>\n",
       "    </tr>\n",
       "    <tr>\n",
       "      <th>4996</th>\n",
       "      <td>210832</td>\n",
       "      <td>entailment</td>\n",
       "    </tr>\n",
       "    <tr>\n",
       "      <th>4997</th>\n",
       "      <td>30924</td>\n",
       "      <td>entailment</td>\n",
       "    </tr>\n",
       "    <tr>\n",
       "      <th>4998</th>\n",
       "      <td>369387</td>\n",
       "      <td>neutral</td>\n",
       "    </tr>\n",
       "    <tr>\n",
       "      <th>4999</th>\n",
       "      <td>212442</td>\n",
       "      <td>entailment</td>\n",
       "    </tr>\n",
       "  </tbody>\n",
       "</table>\n",
       "<p>5000 rows × 2 columns</p>\n",
       "</div>"
      ],
      "text/plain": [
       "          id  prediction\n",
       "0     259676     neutral\n",
       "1      88755     neutral\n",
       "2     270193  entailment\n",
       "3     164269  entailment\n",
       "4       6435  entailment\n",
       "...      ...         ...\n",
       "4995   80354     neutral\n",
       "4996  210832  entailment\n",
       "4997   30924  entailment\n",
       "4998  369387     neutral\n",
       "4999  212442  entailment\n",
       "\n",
       "[5000 rows x 2 columns]"
      ]
     },
     "execution_count": 34,
     "metadata": {},
     "output_type": "execute_result"
    }
   ],
   "source": [
    "preds_df"
   ]
  },
  {
   "cell_type": "code",
   "execution_count": null,
   "id": "f478b85e",
   "metadata": {},
   "outputs": [],
   "source": []
  }
 ],
 "metadata": {
  "kernelspec": {
   "display_name": "Python 3 (ipykernel)",
   "language": "python",
   "name": "python3"
  },
  "language_info": {
   "codemirror_mode": {
    "name": "ipython",
    "version": 3
   },
   "file_extension": ".py",
   "mimetype": "text/x-python",
   "name": "python",
   "nbconvert_exporter": "python",
   "pygments_lexer": "ipython3",
   "version": "3.9.5"
  }
 },
 "nbformat": 4,
 "nbformat_minor": 5
}
