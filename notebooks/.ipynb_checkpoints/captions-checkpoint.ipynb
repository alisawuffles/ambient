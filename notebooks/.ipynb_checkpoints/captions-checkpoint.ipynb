{
 "cells": [
  {
   "cell_type": "code",
   "execution_count": 1,
   "id": "498ddcc4",
   "metadata": {},
   "outputs": [
    {
     "name": "stdout",
     "output_type": "stream",
     "text": [
      "/mmfs1/gscratch/xlab/alisaliu/ambignli\n"
     ]
    }
   ],
   "source": [
    "from pathlib import Path\n",
    "\n",
    "while Path.cwd().name != 'ambignli':\n",
    "    %cd .."
   ]
  },
  {
   "cell_type": "code",
   "execution_count": 4,
   "id": "5c1a12f4",
   "metadata": {},
   "outputs": [],
   "source": [
    "from generation.gpt3_generation import request\n",
    "import random\n",
    "from tqdm import tqdm\n",
    "import pandas as pd\n",
    "import numpy as np\n",
    "from collections import Counter\n",
    "import peewee\n",
    "from conceptnet_lite import edges_for, Label\n",
    "import conceptnet_lite"
   ]
  },
  {
   "cell_type": "code",
   "execution_count": 6,
   "id": "7111d798",
   "metadata": {},
   "outputs": [],
   "source": [
    "conceptnet_lite.connect(\"/gscratch/scrubbed/alisaliu/conceptnet.db\")"
   ]
  },
  {
   "cell_type": "code",
   "execution_count": 25,
   "id": "1115b43e",
   "metadata": {},
   "outputs": [],
   "source": [
    "instruction = \"For each word, provide two disambiguations.\\n\\n\"\n",
    "def construct_prompt(ambiguous_words_dict):\n",
    "    prompt = instruction\n",
    "    in_context_examples = random.sample(ambiguous_words_dict.items(), 3)\n",
    "    for word, disambiguations in in_context_examples:\n",
    "        prompt += f'The word \"{word}\" has two meanings: {disambiguations[0]} and {disambiguations[1]}\\n'\n",
    "    prompt += 'The word'\n",
    "    return prompt"
   ]
  },
  {
   "cell_type": "code",
   "execution_count": 26,
   "id": "953598ba",
   "metadata": {},
   "outputs": [],
   "source": [
    "def in_conceptnet(word):\n",
    "    word = '_'.join(word.split(' '))\n",
    "    try:\n",
    "        edges = edges_for(Label.get(text=word).concepts, same_language=True)\n",
    "        if len(edges) == 0:\n",
    "            return False\n",
    "    except peewee.DoesNotExist:\n",
    "        return False\n",
    "    return True"
   ]
  },
  {
   "cell_type": "code",
   "execution_count": 27,
   "id": "339fc636",
   "metadata": {},
   "outputs": [],
   "source": [
    "def get_outgoing_edges(concept):    \n",
    "    edges = edges_for(Label.get(text=concept).concepts, same_language=True)\n",
    "    outgoing_edges = []\n",
    "    for e in edges:\n",
    "        if e.start.text == concept:\n",
    "            outgoing_edges.append(e)\n",
    "    return outgoing_edges"
   ]
  },
  {
   "cell_type": "code",
   "execution_count": 28,
   "id": "5d24d091",
   "metadata": {},
   "outputs": [],
   "source": [
    "def get_incoming_edges(concept):    \n",
    "    edges = edges_for(Label.get(text=concept).concepts, same_language=True)\n",
    "    incoming_edges = []\n",
    "    for e in edges:\n",
    "        if e.end.text == concept:\n",
    "            incoming_edges.append(e)\n",
    "    return incoming_edges"
   ]
  },
  {
   "cell_type": "code",
   "execution_count": 29,
   "id": "f629f6d8",
   "metadata": {},
   "outputs": [],
   "source": [
    "def print_edges(concept):\n",
    "    edges = edges_for(Label.get(text=concept).concepts, same_language=True)\n",
    "    for e in edges:\n",
    "        print(f'{e.start.text} -- {e.relation.name} ({e.etc[\"weight\"]}) --> {e.end.text}')"
   ]
  },
  {
   "cell_type": "code",
   "execution_count": 31,
   "id": "87016b83",
   "metadata": {},
   "outputs": [],
   "source": [
    "def trim_generation(word):\n",
    "    if word.startswith('a '):\n",
    "        return word[2:]\n",
    "    else:\n",
    "        return word"
   ]
  },
  {
   "cell_type": "code",
   "execution_count": 47,
   "id": "5d470d95",
   "metadata": {},
   "outputs": [],
   "source": [
    "ambiguous_words_dict = {\n",
    "    'mouse': ['computer mouse', 'house mouse'],\n",
    "    'bow': ['violin bow', 'hair bow'],\n",
    "    'trunk': ['elephant trunk', 'car trunk'],\n",
    "    'bass': ['sea bass', 'double bass'],\n",
    "    'crane': ['construction crane', 'whooping crane'],\n",
    "    'jam': ['strawberry jam', 'traffic jam']\n",
    "}"
   ]
  },
  {
   "cell_type": "code",
   "execution_count": 48,
   "id": "be081e52",
   "metadata": {},
   "outputs": [
    {
     "name": "stderr",
     "output_type": "stream",
     "text": [
      "  0%|          | 0/100 [00:00<?, ?it/s]/tmp/ipykernel_55133/1265375546.py:4: DeprecationWarning: Sampling from a set deprecated\n",
      "since Python 3.9 and will be removed in a subsequent version.\n",
      "  in_context_examples = random.sample(ambiguous_words_dict.items(), 3)\n",
      "  4%|▍         | 4/100 [00:04<01:44,  1.09s/it]\n"
     ]
    },
    {
     "ename": "KeyboardInterrupt",
     "evalue": "",
     "output_type": "error",
     "traceback": [
      "\u001b[0;31m---------------------------------------------------------------------------\u001b[0m",
      "\u001b[0;31mKeyboardInterrupt\u001b[0m                         Traceback (most recent call last)",
      "\u001b[0;32m/tmp/ipykernel_55133/2004776668.py\u001b[0m in \u001b[0;36m<module>\u001b[0;34m\u001b[0m\n\u001b[1;32m      2\u001b[0m \u001b[0;32mfor\u001b[0m \u001b[0mi\u001b[0m \u001b[0;32min\u001b[0m \u001b[0mtqdm\u001b[0m\u001b[0;34m(\u001b[0m\u001b[0mrange\u001b[0m\u001b[0;34m(\u001b[0m\u001b[0;36m100\u001b[0m\u001b[0;34m)\u001b[0m\u001b[0;34m)\u001b[0m\u001b[0;34m:\u001b[0m\u001b[0;34m\u001b[0m\u001b[0;34m\u001b[0m\u001b[0m\n\u001b[1;32m      3\u001b[0m     \u001b[0mprompt\u001b[0m \u001b[0;34m=\u001b[0m \u001b[0mconstruct_prompt\u001b[0m\u001b[0;34m(\u001b[0m\u001b[0mambiguous_words_dict\u001b[0m\u001b[0;34m)\u001b[0m\u001b[0;34m\u001b[0m\u001b[0;34m\u001b[0m\u001b[0m\n\u001b[0;32m----> 4\u001b[0;31m     gen = request(\n\u001b[0m\u001b[1;32m      5\u001b[0m         \u001b[0mprompt\u001b[0m\u001b[0;34m=\u001b[0m\u001b[0mprompt\u001b[0m\u001b[0;34m,\u001b[0m\u001b[0;34m\u001b[0m\u001b[0;34m\u001b[0m\u001b[0m\n\u001b[1;32m      6\u001b[0m         \u001b[0mtop_p\u001b[0m\u001b[0;34m=\u001b[0m\u001b[0;36m0.8\u001b[0m\u001b[0;34m,\u001b[0m\u001b[0;34m\u001b[0m\u001b[0;34m\u001b[0m\u001b[0m\n",
      "\u001b[0;32m/mmfs1/gscratch/xlab/alisaliu/ambignli/generation/gpt3_generation.py\u001b[0m in \u001b[0;36mrequest\u001b[0;34m(prompt, model, max_tokens, temperature, top_p, logprobs, echo, n, stop, presence_penalty, frequency_penalty, return_only_text)\u001b[0m\n\u001b[1;32m     23\u001b[0m     \u001b[0;32mwhile\u001b[0m \u001b[0;32mTrue\u001b[0m\u001b[0;34m:\u001b[0m\u001b[0;34m\u001b[0m\u001b[0;34m\u001b[0m\u001b[0m\n\u001b[1;32m     24\u001b[0m         \u001b[0;32mtry\u001b[0m\u001b[0;34m:\u001b[0m\u001b[0;34m\u001b[0m\u001b[0;34m\u001b[0m\u001b[0m\n\u001b[0;32m---> 25\u001b[0;31m             response = openai.Completion.create(\n\u001b[0m\u001b[1;32m     26\u001b[0m                 \u001b[0mmodel\u001b[0m\u001b[0;34m=\u001b[0m\u001b[0mmodel\u001b[0m\u001b[0;34m,\u001b[0m\u001b[0;34m\u001b[0m\u001b[0;34m\u001b[0m\u001b[0m\n\u001b[1;32m     27\u001b[0m                 \u001b[0mprompt\u001b[0m\u001b[0;34m=\u001b[0m\u001b[0mprompt\u001b[0m\u001b[0;34m,\u001b[0m\u001b[0;34m\u001b[0m\u001b[0;34m\u001b[0m\u001b[0m\n",
      "\u001b[0;32m/gscratch/cse/alisaliu/miniconda3/envs/nli/lib/python3.9/site-packages/openai/api_resources/completion.py\u001b[0m in \u001b[0;36mcreate\u001b[0;34m(cls, *args, **kwargs)\u001b[0m\n\u001b[1;32m     23\u001b[0m         \u001b[0;32mwhile\u001b[0m \u001b[0;32mTrue\u001b[0m\u001b[0;34m:\u001b[0m\u001b[0;34m\u001b[0m\u001b[0;34m\u001b[0m\u001b[0m\n\u001b[1;32m     24\u001b[0m             \u001b[0;32mtry\u001b[0m\u001b[0;34m:\u001b[0m\u001b[0;34m\u001b[0m\u001b[0;34m\u001b[0m\u001b[0m\n\u001b[0;32m---> 25\u001b[0;31m                 \u001b[0;32mreturn\u001b[0m \u001b[0msuper\u001b[0m\u001b[0;34m(\u001b[0m\u001b[0;34m)\u001b[0m\u001b[0;34m.\u001b[0m\u001b[0mcreate\u001b[0m\u001b[0;34m(\u001b[0m\u001b[0;34m*\u001b[0m\u001b[0margs\u001b[0m\u001b[0;34m,\u001b[0m \u001b[0;34m**\u001b[0m\u001b[0mkwargs\u001b[0m\u001b[0;34m)\u001b[0m\u001b[0;34m\u001b[0m\u001b[0;34m\u001b[0m\u001b[0m\n\u001b[0m\u001b[1;32m     26\u001b[0m             \u001b[0;32mexcept\u001b[0m \u001b[0mTryAgain\u001b[0m \u001b[0;32mas\u001b[0m \u001b[0me\u001b[0m\u001b[0;34m:\u001b[0m\u001b[0;34m\u001b[0m\u001b[0;34m\u001b[0m\u001b[0m\n\u001b[1;32m     27\u001b[0m                 \u001b[0;32mif\u001b[0m \u001b[0mtimeout\u001b[0m \u001b[0;32mis\u001b[0m \u001b[0;32mnot\u001b[0m \u001b[0;32mNone\u001b[0m \u001b[0;32mand\u001b[0m \u001b[0mtime\u001b[0m\u001b[0;34m.\u001b[0m\u001b[0mtime\u001b[0m\u001b[0;34m(\u001b[0m\u001b[0;34m)\u001b[0m \u001b[0;34m>\u001b[0m \u001b[0mstart\u001b[0m \u001b[0;34m+\u001b[0m \u001b[0mtimeout\u001b[0m\u001b[0;34m:\u001b[0m\u001b[0;34m\u001b[0m\u001b[0;34m\u001b[0m\u001b[0m\n",
      "\u001b[0;32m/gscratch/cse/alisaliu/miniconda3/envs/nli/lib/python3.9/site-packages/openai/api_resources/abstract/engine_api_resource.py\u001b[0m in \u001b[0;36mcreate\u001b[0;34m(cls, api_key, api_base, api_type, request_id, api_version, organization, **params)\u001b[0m\n\u001b[1;32m    113\u001b[0m         )\n\u001b[1;32m    114\u001b[0m         \u001b[0murl\u001b[0m \u001b[0;34m=\u001b[0m \u001b[0mcls\u001b[0m\u001b[0;34m.\u001b[0m\u001b[0mclass_url\u001b[0m\u001b[0;34m(\u001b[0m\u001b[0mengine\u001b[0m\u001b[0;34m,\u001b[0m \u001b[0mapi_type\u001b[0m\u001b[0;34m,\u001b[0m \u001b[0mapi_version\u001b[0m\u001b[0;34m)\u001b[0m\u001b[0;34m\u001b[0m\u001b[0;34m\u001b[0m\u001b[0m\n\u001b[0;32m--> 115\u001b[0;31m         response, _, api_key = requestor.request(\n\u001b[0m\u001b[1;32m    116\u001b[0m             \u001b[0;34m\"post\"\u001b[0m\u001b[0;34m,\u001b[0m\u001b[0;34m\u001b[0m\u001b[0;34m\u001b[0m\u001b[0m\n\u001b[1;32m    117\u001b[0m             \u001b[0murl\u001b[0m\u001b[0;34m,\u001b[0m\u001b[0;34m\u001b[0m\u001b[0;34m\u001b[0m\u001b[0m\n",
      "\u001b[0;32m/gscratch/cse/alisaliu/miniconda3/envs/nli/lib/python3.9/site-packages/openai/api_requestor.py\u001b[0m in \u001b[0;36mrequest\u001b[0;34m(self, method, url, params, headers, files, stream, request_id, request_timeout)\u001b[0m\n\u001b[1;32m    169\u001b[0m         \u001b[0mrequest_timeout\u001b[0m\u001b[0;34m:\u001b[0m \u001b[0mOptional\u001b[0m\u001b[0;34m[\u001b[0m\u001b[0mUnion\u001b[0m\u001b[0;34m[\u001b[0m\u001b[0mfloat\u001b[0m\u001b[0;34m,\u001b[0m \u001b[0mTuple\u001b[0m\u001b[0;34m[\u001b[0m\u001b[0mfloat\u001b[0m\u001b[0;34m,\u001b[0m \u001b[0mfloat\u001b[0m\u001b[0;34m]\u001b[0m\u001b[0;34m]\u001b[0m\u001b[0;34m]\u001b[0m \u001b[0;34m=\u001b[0m \u001b[0;32mNone\u001b[0m\u001b[0;34m,\u001b[0m\u001b[0;34m\u001b[0m\u001b[0;34m\u001b[0m\u001b[0m\n\u001b[1;32m    170\u001b[0m     ) -> Tuple[Union[OpenAIResponse, Iterator[OpenAIResponse]], bool, str]:\n\u001b[0;32m--> 171\u001b[0;31m         result = self.request_raw(\n\u001b[0m\u001b[1;32m    172\u001b[0m             \u001b[0mmethod\u001b[0m\u001b[0;34m.\u001b[0m\u001b[0mlower\u001b[0m\u001b[0;34m(\u001b[0m\u001b[0;34m)\u001b[0m\u001b[0;34m,\u001b[0m\u001b[0;34m\u001b[0m\u001b[0;34m\u001b[0m\u001b[0m\n\u001b[1;32m    173\u001b[0m             \u001b[0murl\u001b[0m\u001b[0;34m,\u001b[0m\u001b[0;34m\u001b[0m\u001b[0;34m\u001b[0m\u001b[0m\n",
      "\u001b[0;32m/gscratch/cse/alisaliu/miniconda3/envs/nli/lib/python3.9/site-packages/openai/api_requestor.py\u001b[0m in \u001b[0;36mrequest_raw\u001b[0;34m(self, method, url, params, supplied_headers, files, stream, request_id, request_timeout)\u001b[0m\n\u001b[1;32m    354\u001b[0m             \u001b[0m_thread_context\u001b[0m\u001b[0;34m.\u001b[0m\u001b[0msession\u001b[0m \u001b[0;34m=\u001b[0m \u001b[0m_make_session\u001b[0m\u001b[0;34m(\u001b[0m\u001b[0;34m)\u001b[0m\u001b[0;34m\u001b[0m\u001b[0;34m\u001b[0m\u001b[0m\n\u001b[1;32m    355\u001b[0m         \u001b[0;32mtry\u001b[0m\u001b[0;34m:\u001b[0m\u001b[0;34m\u001b[0m\u001b[0;34m\u001b[0m\u001b[0m\n\u001b[0;32m--> 356\u001b[0;31m             result = _thread_context.session.request(\n\u001b[0m\u001b[1;32m    357\u001b[0m                 \u001b[0mmethod\u001b[0m\u001b[0;34m,\u001b[0m\u001b[0;34m\u001b[0m\u001b[0;34m\u001b[0m\u001b[0m\n\u001b[1;32m    358\u001b[0m                 \u001b[0mabs_url\u001b[0m\u001b[0;34m,\u001b[0m\u001b[0;34m\u001b[0m\u001b[0;34m\u001b[0m\u001b[0m\n",
      "\u001b[0;32m/gscratch/cse/alisaliu/miniconda3/envs/nli/lib/python3.9/site-packages/requests/sessions.py\u001b[0m in \u001b[0;36mrequest\u001b[0;34m(self, method, url, params, data, headers, cookies, files, auth, timeout, allow_redirects, proxies, hooks, stream, verify, cert, json)\u001b[0m\n\u001b[1;32m    540\u001b[0m         }\n\u001b[1;32m    541\u001b[0m         \u001b[0msend_kwargs\u001b[0m\u001b[0;34m.\u001b[0m\u001b[0mupdate\u001b[0m\u001b[0;34m(\u001b[0m\u001b[0msettings\u001b[0m\u001b[0;34m)\u001b[0m\u001b[0;34m\u001b[0m\u001b[0;34m\u001b[0m\u001b[0m\n\u001b[0;32m--> 542\u001b[0;31m         \u001b[0mresp\u001b[0m \u001b[0;34m=\u001b[0m \u001b[0mself\u001b[0m\u001b[0;34m.\u001b[0m\u001b[0msend\u001b[0m\u001b[0;34m(\u001b[0m\u001b[0mprep\u001b[0m\u001b[0;34m,\u001b[0m \u001b[0;34m**\u001b[0m\u001b[0msend_kwargs\u001b[0m\u001b[0;34m)\u001b[0m\u001b[0;34m\u001b[0m\u001b[0;34m\u001b[0m\u001b[0m\n\u001b[0m\u001b[1;32m    543\u001b[0m \u001b[0;34m\u001b[0m\u001b[0m\n\u001b[1;32m    544\u001b[0m         \u001b[0;32mreturn\u001b[0m \u001b[0mresp\u001b[0m\u001b[0;34m\u001b[0m\u001b[0;34m\u001b[0m\u001b[0m\n",
      "\u001b[0;32m/gscratch/cse/alisaliu/miniconda3/envs/nli/lib/python3.9/site-packages/requests/sessions.py\u001b[0m in \u001b[0;36msend\u001b[0;34m(self, request, **kwargs)\u001b[0m\n\u001b[1;32m    653\u001b[0m \u001b[0;34m\u001b[0m\u001b[0m\n\u001b[1;32m    654\u001b[0m         \u001b[0;31m# Send the request\u001b[0m\u001b[0;34m\u001b[0m\u001b[0;34m\u001b[0m\u001b[0;34m\u001b[0m\u001b[0m\n\u001b[0;32m--> 655\u001b[0;31m         \u001b[0mr\u001b[0m \u001b[0;34m=\u001b[0m \u001b[0madapter\u001b[0m\u001b[0;34m.\u001b[0m\u001b[0msend\u001b[0m\u001b[0;34m(\u001b[0m\u001b[0mrequest\u001b[0m\u001b[0;34m,\u001b[0m \u001b[0;34m**\u001b[0m\u001b[0mkwargs\u001b[0m\u001b[0;34m)\u001b[0m\u001b[0;34m\u001b[0m\u001b[0;34m\u001b[0m\u001b[0m\n\u001b[0m\u001b[1;32m    656\u001b[0m \u001b[0;34m\u001b[0m\u001b[0m\n\u001b[1;32m    657\u001b[0m         \u001b[0;31m# Total elapsed time of the request (approximately)\u001b[0m\u001b[0;34m\u001b[0m\u001b[0;34m\u001b[0m\u001b[0;34m\u001b[0m\u001b[0m\n",
      "\u001b[0;32m/gscratch/cse/alisaliu/miniconda3/envs/nli/lib/python3.9/site-packages/requests/adapters.py\u001b[0m in \u001b[0;36msend\u001b[0;34m(self, request, stream, timeout, verify, cert, proxies)\u001b[0m\n\u001b[1;32m    437\u001b[0m         \u001b[0;32mtry\u001b[0m\u001b[0;34m:\u001b[0m\u001b[0;34m\u001b[0m\u001b[0;34m\u001b[0m\u001b[0m\n\u001b[1;32m    438\u001b[0m             \u001b[0;32mif\u001b[0m \u001b[0;32mnot\u001b[0m \u001b[0mchunked\u001b[0m\u001b[0;34m:\u001b[0m\u001b[0;34m\u001b[0m\u001b[0;34m\u001b[0m\u001b[0m\n\u001b[0;32m--> 439\u001b[0;31m                 resp = conn.urlopen(\n\u001b[0m\u001b[1;32m    440\u001b[0m                     \u001b[0mmethod\u001b[0m\u001b[0;34m=\u001b[0m\u001b[0mrequest\u001b[0m\u001b[0;34m.\u001b[0m\u001b[0mmethod\u001b[0m\u001b[0;34m,\u001b[0m\u001b[0;34m\u001b[0m\u001b[0;34m\u001b[0m\u001b[0m\n\u001b[1;32m    441\u001b[0m                     \u001b[0murl\u001b[0m\u001b[0;34m=\u001b[0m\u001b[0murl\u001b[0m\u001b[0;34m,\u001b[0m\u001b[0;34m\u001b[0m\u001b[0;34m\u001b[0m\u001b[0m\n",
      "\u001b[0;32m/gscratch/cse/alisaliu/miniconda3/envs/nli/lib/python3.9/site-packages/urllib3/connectionpool.py\u001b[0m in \u001b[0;36murlopen\u001b[0;34m(self, method, url, body, headers, retries, redirect, assert_same_host, timeout, pool_timeout, release_conn, chunked, body_pos, **response_kw)\u001b[0m\n\u001b[1;32m    697\u001b[0m \u001b[0;34m\u001b[0m\u001b[0m\n\u001b[1;32m    698\u001b[0m             \u001b[0;31m# Make the request on the httplib connection object.\u001b[0m\u001b[0;34m\u001b[0m\u001b[0;34m\u001b[0m\u001b[0;34m\u001b[0m\u001b[0m\n\u001b[0;32m--> 699\u001b[0;31m             httplib_response = self._make_request(\n\u001b[0m\u001b[1;32m    700\u001b[0m                 \u001b[0mconn\u001b[0m\u001b[0;34m,\u001b[0m\u001b[0;34m\u001b[0m\u001b[0;34m\u001b[0m\u001b[0m\n\u001b[1;32m    701\u001b[0m                 \u001b[0mmethod\u001b[0m\u001b[0;34m,\u001b[0m\u001b[0;34m\u001b[0m\u001b[0;34m\u001b[0m\u001b[0m\n",
      "\u001b[0;32m/gscratch/cse/alisaliu/miniconda3/envs/nli/lib/python3.9/site-packages/urllib3/connectionpool.py\u001b[0m in \u001b[0;36m_make_request\u001b[0;34m(self, conn, method, url, timeout, chunked, **httplib_request_kw)\u001b[0m\n\u001b[1;32m    443\u001b[0m                     \u001b[0;31m# Python 3 (including for exceptions like SystemExit).\u001b[0m\u001b[0;34m\u001b[0m\u001b[0;34m\u001b[0m\u001b[0;34m\u001b[0m\u001b[0m\n\u001b[1;32m    444\u001b[0m                     \u001b[0;31m# Otherwise it looks like a bug in the code.\u001b[0m\u001b[0;34m\u001b[0m\u001b[0;34m\u001b[0m\u001b[0;34m\u001b[0m\u001b[0m\n\u001b[0;32m--> 445\u001b[0;31m                     \u001b[0msix\u001b[0m\u001b[0;34m.\u001b[0m\u001b[0mraise_from\u001b[0m\u001b[0;34m(\u001b[0m\u001b[0me\u001b[0m\u001b[0;34m,\u001b[0m \u001b[0;32mNone\u001b[0m\u001b[0;34m)\u001b[0m\u001b[0;34m\u001b[0m\u001b[0;34m\u001b[0m\u001b[0m\n\u001b[0m\u001b[1;32m    446\u001b[0m         \u001b[0;32mexcept\u001b[0m \u001b[0;34m(\u001b[0m\u001b[0mSocketTimeout\u001b[0m\u001b[0;34m,\u001b[0m \u001b[0mBaseSSLError\u001b[0m\u001b[0;34m,\u001b[0m \u001b[0mSocketError\u001b[0m\u001b[0;34m)\u001b[0m \u001b[0;32mas\u001b[0m \u001b[0me\u001b[0m\u001b[0;34m:\u001b[0m\u001b[0;34m\u001b[0m\u001b[0;34m\u001b[0m\u001b[0m\n\u001b[1;32m    447\u001b[0m             \u001b[0mself\u001b[0m\u001b[0;34m.\u001b[0m\u001b[0m_raise_timeout\u001b[0m\u001b[0;34m(\u001b[0m\u001b[0merr\u001b[0m\u001b[0;34m=\u001b[0m\u001b[0me\u001b[0m\u001b[0;34m,\u001b[0m \u001b[0murl\u001b[0m\u001b[0;34m=\u001b[0m\u001b[0murl\u001b[0m\u001b[0;34m,\u001b[0m \u001b[0mtimeout_value\u001b[0m\u001b[0;34m=\u001b[0m\u001b[0mread_timeout\u001b[0m\u001b[0;34m)\u001b[0m\u001b[0;34m\u001b[0m\u001b[0;34m\u001b[0m\u001b[0m\n",
      "\u001b[0;32m/gscratch/cse/alisaliu/miniconda3/envs/nli/lib/python3.9/site-packages/urllib3/packages/six.py\u001b[0m in \u001b[0;36mraise_from\u001b[0;34m(value, from_value)\u001b[0m\n",
      "\u001b[0;32m/gscratch/cse/alisaliu/miniconda3/envs/nli/lib/python3.9/site-packages/urllib3/connectionpool.py\u001b[0m in \u001b[0;36m_make_request\u001b[0;34m(self, conn, method, url, timeout, chunked, **httplib_request_kw)\u001b[0m\n\u001b[1;32m    438\u001b[0m                 \u001b[0;31m# Python 3\u001b[0m\u001b[0;34m\u001b[0m\u001b[0;34m\u001b[0m\u001b[0;34m\u001b[0m\u001b[0m\n\u001b[1;32m    439\u001b[0m                 \u001b[0;32mtry\u001b[0m\u001b[0;34m:\u001b[0m\u001b[0;34m\u001b[0m\u001b[0;34m\u001b[0m\u001b[0m\n\u001b[0;32m--> 440\u001b[0;31m                     \u001b[0mhttplib_response\u001b[0m \u001b[0;34m=\u001b[0m \u001b[0mconn\u001b[0m\u001b[0;34m.\u001b[0m\u001b[0mgetresponse\u001b[0m\u001b[0;34m(\u001b[0m\u001b[0;34m)\u001b[0m\u001b[0;34m\u001b[0m\u001b[0;34m\u001b[0m\u001b[0m\n\u001b[0m\u001b[1;32m    441\u001b[0m                 \u001b[0;32mexcept\u001b[0m \u001b[0mBaseException\u001b[0m \u001b[0;32mas\u001b[0m \u001b[0me\u001b[0m\u001b[0;34m:\u001b[0m\u001b[0;34m\u001b[0m\u001b[0;34m\u001b[0m\u001b[0m\n\u001b[1;32m    442\u001b[0m                     \u001b[0;31m# Remove the TypeError from the exception chain in\u001b[0m\u001b[0;34m\u001b[0m\u001b[0;34m\u001b[0m\u001b[0;34m\u001b[0m\u001b[0m\n",
      "\u001b[0;32m/gscratch/cse/alisaliu/miniconda3/envs/nli/lib/python3.9/http/client.py\u001b[0m in \u001b[0;36mgetresponse\u001b[0;34m(self)\u001b[0m\n\u001b[1;32m   1343\u001b[0m         \u001b[0;32mtry\u001b[0m\u001b[0;34m:\u001b[0m\u001b[0;34m\u001b[0m\u001b[0;34m\u001b[0m\u001b[0m\n\u001b[1;32m   1344\u001b[0m             \u001b[0;32mtry\u001b[0m\u001b[0;34m:\u001b[0m\u001b[0;34m\u001b[0m\u001b[0;34m\u001b[0m\u001b[0m\n\u001b[0;32m-> 1345\u001b[0;31m                 \u001b[0mresponse\u001b[0m\u001b[0;34m.\u001b[0m\u001b[0mbegin\u001b[0m\u001b[0;34m(\u001b[0m\u001b[0;34m)\u001b[0m\u001b[0;34m\u001b[0m\u001b[0;34m\u001b[0m\u001b[0m\n\u001b[0m\u001b[1;32m   1346\u001b[0m             \u001b[0;32mexcept\u001b[0m \u001b[0mConnectionError\u001b[0m\u001b[0;34m:\u001b[0m\u001b[0;34m\u001b[0m\u001b[0;34m\u001b[0m\u001b[0m\n\u001b[1;32m   1347\u001b[0m                 \u001b[0mself\u001b[0m\u001b[0;34m.\u001b[0m\u001b[0mclose\u001b[0m\u001b[0;34m(\u001b[0m\u001b[0;34m)\u001b[0m\u001b[0;34m\u001b[0m\u001b[0;34m\u001b[0m\u001b[0m\n",
      "\u001b[0;32m/gscratch/cse/alisaliu/miniconda3/envs/nli/lib/python3.9/http/client.py\u001b[0m in \u001b[0;36mbegin\u001b[0;34m(self)\u001b[0m\n\u001b[1;32m    305\u001b[0m         \u001b[0;31m# read until we get a non-100 response\u001b[0m\u001b[0;34m\u001b[0m\u001b[0;34m\u001b[0m\u001b[0;34m\u001b[0m\u001b[0m\n\u001b[1;32m    306\u001b[0m         \u001b[0;32mwhile\u001b[0m \u001b[0;32mTrue\u001b[0m\u001b[0;34m:\u001b[0m\u001b[0;34m\u001b[0m\u001b[0;34m\u001b[0m\u001b[0m\n\u001b[0;32m--> 307\u001b[0;31m             \u001b[0mversion\u001b[0m\u001b[0;34m,\u001b[0m \u001b[0mstatus\u001b[0m\u001b[0;34m,\u001b[0m \u001b[0mreason\u001b[0m \u001b[0;34m=\u001b[0m \u001b[0mself\u001b[0m\u001b[0;34m.\u001b[0m\u001b[0m_read_status\u001b[0m\u001b[0;34m(\u001b[0m\u001b[0;34m)\u001b[0m\u001b[0;34m\u001b[0m\u001b[0;34m\u001b[0m\u001b[0m\n\u001b[0m\u001b[1;32m    308\u001b[0m             \u001b[0;32mif\u001b[0m \u001b[0mstatus\u001b[0m \u001b[0;34m!=\u001b[0m \u001b[0mCONTINUE\u001b[0m\u001b[0;34m:\u001b[0m\u001b[0;34m\u001b[0m\u001b[0;34m\u001b[0m\u001b[0m\n\u001b[1;32m    309\u001b[0m                 \u001b[0;32mbreak\u001b[0m\u001b[0;34m\u001b[0m\u001b[0;34m\u001b[0m\u001b[0m\n",
      "\u001b[0;32m/gscratch/cse/alisaliu/miniconda3/envs/nli/lib/python3.9/http/client.py\u001b[0m in \u001b[0;36m_read_status\u001b[0;34m(self)\u001b[0m\n\u001b[1;32m    266\u001b[0m \u001b[0;34m\u001b[0m\u001b[0m\n\u001b[1;32m    267\u001b[0m     \u001b[0;32mdef\u001b[0m \u001b[0m_read_status\u001b[0m\u001b[0;34m(\u001b[0m\u001b[0mself\u001b[0m\u001b[0;34m)\u001b[0m\u001b[0;34m:\u001b[0m\u001b[0;34m\u001b[0m\u001b[0;34m\u001b[0m\u001b[0m\n\u001b[0;32m--> 268\u001b[0;31m         \u001b[0mline\u001b[0m \u001b[0;34m=\u001b[0m \u001b[0mstr\u001b[0m\u001b[0;34m(\u001b[0m\u001b[0mself\u001b[0m\u001b[0;34m.\u001b[0m\u001b[0mfp\u001b[0m\u001b[0;34m.\u001b[0m\u001b[0mreadline\u001b[0m\u001b[0;34m(\u001b[0m\u001b[0m_MAXLINE\u001b[0m \u001b[0;34m+\u001b[0m \u001b[0;36m1\u001b[0m\u001b[0;34m)\u001b[0m\u001b[0;34m,\u001b[0m \u001b[0;34m\"iso-8859-1\"\u001b[0m\u001b[0;34m)\u001b[0m\u001b[0;34m\u001b[0m\u001b[0;34m\u001b[0m\u001b[0m\n\u001b[0m\u001b[1;32m    269\u001b[0m         \u001b[0;32mif\u001b[0m \u001b[0mlen\u001b[0m\u001b[0;34m(\u001b[0m\u001b[0mline\u001b[0m\u001b[0;34m)\u001b[0m \u001b[0;34m>\u001b[0m \u001b[0m_MAXLINE\u001b[0m\u001b[0;34m:\u001b[0m\u001b[0;34m\u001b[0m\u001b[0;34m\u001b[0m\u001b[0m\n\u001b[1;32m    270\u001b[0m             \u001b[0;32mraise\u001b[0m \u001b[0mLineTooLong\u001b[0m\u001b[0;34m(\u001b[0m\u001b[0;34m\"status line\"\u001b[0m\u001b[0;34m)\u001b[0m\u001b[0;34m\u001b[0m\u001b[0;34m\u001b[0m\u001b[0m\n",
      "\u001b[0;32m/gscratch/cse/alisaliu/miniconda3/envs/nli/lib/python3.9/socket.py\u001b[0m in \u001b[0;36mreadinto\u001b[0;34m(self, b)\u001b[0m\n\u001b[1;32m    702\u001b[0m         \u001b[0;32mwhile\u001b[0m \u001b[0;32mTrue\u001b[0m\u001b[0;34m:\u001b[0m\u001b[0;34m\u001b[0m\u001b[0;34m\u001b[0m\u001b[0m\n\u001b[1;32m    703\u001b[0m             \u001b[0;32mtry\u001b[0m\u001b[0;34m:\u001b[0m\u001b[0;34m\u001b[0m\u001b[0;34m\u001b[0m\u001b[0m\n\u001b[0;32m--> 704\u001b[0;31m                 \u001b[0;32mreturn\u001b[0m \u001b[0mself\u001b[0m\u001b[0;34m.\u001b[0m\u001b[0m_sock\u001b[0m\u001b[0;34m.\u001b[0m\u001b[0mrecv_into\u001b[0m\u001b[0;34m(\u001b[0m\u001b[0mb\u001b[0m\u001b[0;34m)\u001b[0m\u001b[0;34m\u001b[0m\u001b[0;34m\u001b[0m\u001b[0m\n\u001b[0m\u001b[1;32m    705\u001b[0m             \u001b[0;32mexcept\u001b[0m \u001b[0mtimeout\u001b[0m\u001b[0;34m:\u001b[0m\u001b[0;34m\u001b[0m\u001b[0;34m\u001b[0m\u001b[0m\n\u001b[1;32m    706\u001b[0m                 \u001b[0mself\u001b[0m\u001b[0;34m.\u001b[0m\u001b[0m_timeout_occurred\u001b[0m \u001b[0;34m=\u001b[0m \u001b[0;32mTrue\u001b[0m\u001b[0;34m\u001b[0m\u001b[0;34m\u001b[0m\u001b[0m\n",
      "\u001b[0;32m/gscratch/cse/alisaliu/miniconda3/envs/nli/lib/python3.9/ssl.py\u001b[0m in \u001b[0;36mrecv_into\u001b[0;34m(self, buffer, nbytes, flags)\u001b[0m\n\u001b[1;32m   1239\u001b[0m                   \u001b[0;34m\"non-zero flags not allowed in calls to recv_into() on %s\"\u001b[0m \u001b[0;34m%\u001b[0m\u001b[0;34m\u001b[0m\u001b[0;34m\u001b[0m\u001b[0m\n\u001b[1;32m   1240\u001b[0m                   self.__class__)\n\u001b[0;32m-> 1241\u001b[0;31m             \u001b[0;32mreturn\u001b[0m \u001b[0mself\u001b[0m\u001b[0;34m.\u001b[0m\u001b[0mread\u001b[0m\u001b[0;34m(\u001b[0m\u001b[0mnbytes\u001b[0m\u001b[0;34m,\u001b[0m \u001b[0mbuffer\u001b[0m\u001b[0;34m)\u001b[0m\u001b[0;34m\u001b[0m\u001b[0;34m\u001b[0m\u001b[0m\n\u001b[0m\u001b[1;32m   1242\u001b[0m         \u001b[0;32melse\u001b[0m\u001b[0;34m:\u001b[0m\u001b[0;34m\u001b[0m\u001b[0;34m\u001b[0m\u001b[0m\n\u001b[1;32m   1243\u001b[0m             \u001b[0;32mreturn\u001b[0m \u001b[0msuper\u001b[0m\u001b[0;34m(\u001b[0m\u001b[0;34m)\u001b[0m\u001b[0;34m.\u001b[0m\u001b[0mrecv_into\u001b[0m\u001b[0;34m(\u001b[0m\u001b[0mbuffer\u001b[0m\u001b[0;34m,\u001b[0m \u001b[0mnbytes\u001b[0m\u001b[0;34m,\u001b[0m \u001b[0mflags\u001b[0m\u001b[0;34m)\u001b[0m\u001b[0;34m\u001b[0m\u001b[0;34m\u001b[0m\u001b[0m\n",
      "\u001b[0;32m/gscratch/cse/alisaliu/miniconda3/envs/nli/lib/python3.9/ssl.py\u001b[0m in \u001b[0;36mread\u001b[0;34m(self, len, buffer)\u001b[0m\n\u001b[1;32m   1097\u001b[0m         \u001b[0;32mtry\u001b[0m\u001b[0;34m:\u001b[0m\u001b[0;34m\u001b[0m\u001b[0;34m\u001b[0m\u001b[0m\n\u001b[1;32m   1098\u001b[0m             \u001b[0;32mif\u001b[0m \u001b[0mbuffer\u001b[0m \u001b[0;32mis\u001b[0m \u001b[0;32mnot\u001b[0m \u001b[0;32mNone\u001b[0m\u001b[0;34m:\u001b[0m\u001b[0;34m\u001b[0m\u001b[0;34m\u001b[0m\u001b[0m\n\u001b[0;32m-> 1099\u001b[0;31m                 \u001b[0;32mreturn\u001b[0m \u001b[0mself\u001b[0m\u001b[0;34m.\u001b[0m\u001b[0m_sslobj\u001b[0m\u001b[0;34m.\u001b[0m\u001b[0mread\u001b[0m\u001b[0;34m(\u001b[0m\u001b[0mlen\u001b[0m\u001b[0;34m,\u001b[0m \u001b[0mbuffer\u001b[0m\u001b[0;34m)\u001b[0m\u001b[0;34m\u001b[0m\u001b[0;34m\u001b[0m\u001b[0m\n\u001b[0m\u001b[1;32m   1100\u001b[0m             \u001b[0;32melse\u001b[0m\u001b[0;34m:\u001b[0m\u001b[0;34m\u001b[0m\u001b[0;34m\u001b[0m\u001b[0m\n\u001b[1;32m   1101\u001b[0m                 \u001b[0;32mreturn\u001b[0m \u001b[0mself\u001b[0m\u001b[0;34m.\u001b[0m\u001b[0m_sslobj\u001b[0m\u001b[0;34m.\u001b[0m\u001b[0mread\u001b[0m\u001b[0;34m(\u001b[0m\u001b[0mlen\u001b[0m\u001b[0;34m)\u001b[0m\u001b[0;34m\u001b[0m\u001b[0;34m\u001b[0m\u001b[0m\n",
      "\u001b[0;31mKeyboardInterrupt\u001b[0m: "
     ]
    }
   ],
   "source": [
    "results = []\n",
    "for i in tqdm(range(100)):\n",
    "    prompt = construct_prompt(ambiguous_words_dict)\n",
    "    gen = request(\n",
    "        prompt=prompt,\n",
    "        top_p=0.8,\n",
    "        model='text-davinci-002',\n",
    "        return_only_text=True\n",
    "    )\n",
    "    word = gen.split('\"')[1]\n",
    "    d1 = gen.split('meanings: ')[-1].split(' and')[0]\n",
    "    d2 = gen.split('or ')[-1]\n",
    "    \n",
    "    # check validity of generations\n",
    "    d1, d2 = trim_generation(d1), trim_generation(d2)\n",
    "    if (word not in ambiguous_words_dict \n",
    "#         and in_conceptnet(d1) and in_conceptnet(d2) \n",
    "        and ' ' in d1 and ' ' in d2\n",
    "        and np.all([pos not in d1] for pos in ['verb', 'noun', 'adjective', 'adverb'])\n",
    "        and np.all([pos not in d2] for pos in ['verb', 'noun', 'adjective', 'adverb'])\n",
    "        and word in d1.split(' ') and word in d2.split(' ')):\n",
    "        ambiguous_words_dict[word] = [d1, d2]\n",
    "    \n",
    "    results.append({\n",
    "        'prompt': prompt,\n",
    "        'gen': gen\n",
    "    })"
   ]
  },
  {
   "cell_type": "code",
   "execution_count": 46,
   "id": "5efff3b3",
   "metadata": {},
   "outputs": [
    {
     "data": {
      "text/plain": [
       "{'jam': ['strawberry jam', 'traffic jam'],\n",
       " 'bow': ['violin bow', 'hair bow'],\n",
       " 'mouse': ['computer mouse', 'house mouse'],\n",
       " 'trunk': ['elephant trunk', 'car trunk'],\n",
       " 'bass': ['sea bass', 'double bass'],\n",
       " 'crane': ['construction crane', 'whooping crane'],\n",
       " 'rose': ['rose bush', 'rose color'],\n",
       " 'hole': ['donut hole', 'golf hole'],\n",
       " 'rod': ['fishing rod', 'metal rod'],\n",
       " 'suit': ['business suit', 'playing card suit'],\n",
       " 'bat': ['baseball bat', 'bat the mammal'],\n",
       " 'run': ['to run as in to move quickly on foot',\n",
       "  'run as in a streak of success'],\n",
       " 'map': ['physical map', 'mental map'],\n",
       " 'lead': ['lead poisoning', 'lead in a pencil'],\n",
       " 'bear': ['teddy bear', 'grizzly bear'],\n",
       " 'fly': ['fly the insect', 'fly the verb'],\n",
       " 'spruce': ['Norway spruce', 'spruce up'],\n",
       " 'fair': ['fair the event', 'fair the adjective'],\n",
       " 'screen': ['computer screen', 'movie screen'],\n",
       " 'duck': ['duck the bird', 'duck the verb'],\n",
       " 'break': ['break the verb', 'break the noun'],\n",
       " 'sink': ['kitchen sink', 'sink the ship'],\n",
       " 'pipe': ['smoking pipe', 'water pipe'],\n",
       " 'left': ['left the direction', 'left the verb'],\n",
       " 'sauce': ['BBQ sauce', 'tomato sauce'],\n",
       " 'right': ['right the direction', 'right the verb'],\n",
       " 'jade': ['jade stone', 'jade color'],\n",
       " 'key': ['physical key', 'key on a keyboard'],\n",
       " 'ruby': ['ruby gemstone', 'ruby color'],\n",
       " 'pique': ['pique fabric', 'pique interest'],\n",
       " 'rate': ['interest rate', 'speed rate'],\n",
       " 'book': ['reading book', 'phone book'],\n",
       " 'seed': ['plant seed', 'seed the verb'],\n",
       " 'weight': ['weight measurement', 'the weight of an object']}"
      ]
     },
     "execution_count": 46,
     "metadata": {},
     "output_type": "execute_result"
    }
   ],
   "source": [
    "ambiguous_words_dict"
   ]
  },
  {
   "cell_type": "code",
   "execution_count": 241,
   "id": "6c735af1",
   "metadata": {},
   "outputs": [],
   "source": [
    "pd.DataFrame(ambiguous_words_dict.items(), columns=['word', 'disambiguations']).to_json('dalle/ambiguous_words.jsonl', lines=True, orient='records')"
   ]
  },
  {
   "cell_type": "code",
   "execution_count": 429,
   "id": "b6702d46",
   "metadata": {},
   "outputs": [],
   "source": [
    "def get_good_neighbors(edges, ambiguous_word, num=2, edge_direction='incoming'):\n",
    "    neighbor_names = []\n",
    "    words = []\n",
    "    for e in edges:\n",
    "        neighbor_name = e.start.text if edge_direction == 'incoming' else e.end.text\n",
    "        for word in neighbor_name.split('_'):\n",
    "            words.extend([word]*int(np.ceil(e.etc['weight'])))\n",
    "        neighbor_names.append(neighbor_name)\n",
    "    counter = Counter(words)\n",
    "    neighbor_common_words = [k for k,v in dict(sorted(counter.items(), key=lambda x: x[1], reverse=True)).items() if k != ambiguous_word][:num]\n",
    "    \n",
    "    neighbor_nodes = []\n",
    "    for word in neighbor_common_words:\n",
    "        if word not in neighbor_names:\n",
    "            # find a neighbor with the desired word\n",
    "            neighbor_nodes.append(random.sample([n for n in neighbor_names if word in n], k=1)[0])\n",
    "        else:\n",
    "            neighbor_nodes.append(word)\n",
    "    return neighbor_nodes"
   ]
  },
  {
   "cell_type": "code",
   "execution_count": 433,
   "id": "4877e684",
   "metadata": {
    "scrolled": false
   },
   "outputs": [],
   "source": [
    "def get_lexical_set(ambiguous_word, disambiguated_word, num_end_nodes=2):\n",
    "    words = []\n",
    "    disambiguated_word = '_'.join(disambiguated_word.split(' '))\n",
    "    lexical_set = set()\n",
    "\n",
    "    outgoing_edges = get_outgoing_edges(disambiguated_word)\n",
    "    neighbor_nodes = get_good_neighbors(outgoing_edges, ambiguous_word=ambiguous_word, edge_direction='outgoing')\n",
    "    lexical_set.update(neighbor_nodes)\n",
    "    \n",
    "    for neighbor_node in neighbor_nodes:\n",
    "        incoming_nodes = get_good_neighbors(get_incoming_edges(neighbor_node), ambiguous_word=ambiguous_word, edge_direction='incoming')\n",
    "        new_nodes = random.sample(incoming_nodes, k=min(len(incoming_nodes), 2))\n",
    "        lexical_set.update(new_nodes)\n",
    "    \n",
    "    lexical_set = [y for y in lexical_set if not any(x in y for x in lexical_set if x != y)]\n",
    "    return [' '.join(w.split('_')) for w in lexical_set]"
   ]
  },
  {
   "cell_type": "code",
   "execution_count": 253,
   "id": "975b07be",
   "metadata": {},
   "outputs": [],
   "source": [
    "def get_constraints(lexical_set, num_constraints=2):\n",
    "    return random.sample(lexical_set, k=min(len(lexical_set), num_constraints))"
   ]
  },
  {
   "cell_type": "code",
   "execution_count": 438,
   "id": "7c252fe7",
   "metadata": {},
   "outputs": [
    {
     "name": "stderr",
     "output_type": "stream",
     "text": [
      "100%|██████████| 7/7 [00:22<00:00,  3.23s/it]\n"
     ]
    }
   ],
   "source": [
    "constraints = []\n",
    "for word, disambiguations in tqdm(ambiguous_words_dict.items()):\n",
    "    d1, d2 = disambiguations\n",
    "    constraints.append([d2] + get_constraints(get_lexical_set(word, d1)))\n",
    "    constraints.append([d1] + get_constraints(get_lexical_set(word, d2)))"
   ]
  },
  {
   "cell_type": "code",
   "execution_count": 434,
   "id": "7a1a4684",
   "metadata": {},
   "outputs": [
    {
     "data": {
      "text/plain": [
       "['fast', 'slow', 'traffic', 'sign']"
      ]
     },
     "execution_count": 434,
     "metadata": {},
     "output_type": "execute_result"
    }
   ],
   "source": [
    "get_lexical_set('jam', 'traffic_jam')"
   ]
  },
  {
   "cell_type": "code",
   "execution_count": 355,
   "id": "debd4f87",
   "metadata": {},
   "outputs": [],
   "source": [
    "def construct_caption_prompt(lexical_subset):\n",
    "    return f'Write an image caption with the words {\", \".join(lexical_subset[:-1])} and {lexical_subset[-1]}.'"
   ]
  },
  {
   "cell_type": "code",
   "execution_count": 444,
   "id": "abc9987f",
   "metadata": {},
   "outputs": [],
   "source": [
    "def generate_caption(constraints, max_tries=5):\n",
    "    caption_prompt = construct_caption_prompt(constraints)\n",
    "    prompt = ''\n",
    "    num_tries = 0\n",
    "    while not np.all([w.lower() in prompt.lower() for w in constraints]):  # ensure constraints are met\n",
    "        prompt = request(\n",
    "            prompt=caption_prompt,\n",
    "            model='text-davinci-002',\n",
    "            top_p=0.8,\n",
    "            return_only_text=True,\n",
    "            stop=None\n",
    "        )\n",
    "        num_tries += 1\n",
    "        if num_tries > max_tries:\n",
    "            return None\n",
    "            break\n",
    "    return prompt"
   ]
  },
  {
   "cell_type": "code",
   "execution_count": 446,
   "id": "e3a50309",
   "metadata": {},
   "outputs": [
    {
     "name": "stdout",
     "output_type": "stream",
     "text": [
      "['traffic jam', 'jar', 'tomato chutney']: A traffic jam of cars, all bumper to bumper, extends as far as the eye can see. In the backseat of one of the cars, a jar of tomato chutney sits unopened.\n",
      "['strawberry jam', 'sign', 'slow']: A jar of strawberry jam with a hand-written sign that says \"Slow down and enjoy life.\"\n",
      "['bow tie', 'fiddlestick', 'violin bow']: A bow tie, fiddlestick, and violin bow on a table.\n",
      "['violin bow', 'knot', 'tie']: A violin bow tied with a knot, ready to be used.\n",
      "['house mouse', 'computer', 'desktop']: The house mouse scurries across the computer desktop, looking for a crumb or two.\n",
      "['computer mouse', 'opossum', 'mammal']: A computer mouse sits atop an opossum, both creatures classified as mammals.\n",
      "['car trunk', 'planet', 'star']: A car trunk, a planet and a star.\n",
      "['elephant trunk']: None\n",
      "['double bass', 'shark', 'ocean']: The double bassist on the shark-infested ocean floor.\n",
      "['sea bass', 'playing in jazz band', 'music']: Sea bass, playing in jazz band and music.\n",
      "['fish scale', 'balance', 'off keel']: The fish scale is a perfect example of balance and how to stay off keel.\n",
      "['bathroom scale', 'fish', 'shark']: The bathroom scale is no match for the fish shark.\n",
      "['grizzly bear', 'toy store', 'toy bear']: A grizzly bear in a toy store holding a toy bear.\n",
      "['teddy bear', 'grizzly', 'gryzzlí']: A teddy bear, a grizzly bear, and a gryzzlí bear all cuddle together.\n"
     ]
    }
   ],
   "source": [
    "for c in constraints:\n",
    "    print(f'{c}: {generate_caption(c)}')"
   ]
  },
  {
   "cell_type": "code",
   "execution_count": null,
   "id": "aee632d5",
   "metadata": {},
   "outputs": [],
   "source": []
  }
 ],
 "metadata": {
  "kernelspec": {
   "display_name": "Python 3 (ipykernel)",
   "language": "python",
   "name": "python3"
  },
  "language_info": {
   "codemirror_mode": {
    "name": "ipython",
    "version": 3
   },
   "file_extension": ".py",
   "mimetype": "text/x-python",
   "name": "python",
   "nbconvert_exporter": "python",
   "pygments_lexer": "ipython3",
   "version": "3.9.5"
  }
 },
 "nbformat": 4,
 "nbformat_minor": 5
}
