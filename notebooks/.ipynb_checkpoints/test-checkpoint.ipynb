{
 "cells": [
  {
   "cell_type": "code",
   "execution_count": 1,
   "id": "fdd11c1e",
   "metadata": {},
   "outputs": [
    {
     "name": "stdout",
     "output_type": "stream",
     "text": [
      "/mmfs1/gscratch/xlab/alisaliu/ambignli\n"
     ]
    }
   ],
   "source": [
    "from pathlib import Path\n",
    "\n",
    "while Path.cwd().name != 'ambignli':\n",
    "    %cd .."
   ]
  },
  {
   "cell_type": "code",
   "execution_count": 2,
   "id": "5b8fb596",
   "metadata": {},
   "outputs": [],
   "source": [
    "from utils.transformation_rules import get_rule"
   ]
  },
  {
   "cell_type": "code",
   "execution_count": 25,
   "id": "fab761e2",
   "metadata": {},
   "outputs": [
    {
     "name": "stdout",
     "output_type": "stream",
     "text": [
      "ABC -> DBEAC\n",
      "{'A': 'a great deal of the evidence has', 'C': 'been gathered', 'B': 'not', 'D': 'it is', 'E': 'the case that'}\n"
     ]
    }
   ],
   "source": [
    "p = 'A great deal of the evidence has not been gathered.'\n",
    "h = 'It is not the case that a great deal of the evidence has been gathered.'\n",
    "rule, key = get_rule(p, h)\n",
    "print(rule)\n",
    "print(key)"
   ]
  },
  {
   "cell_type": "code",
   "execution_count": 26,
   "id": "84f16f45",
   "metadata": {},
   "outputs": [],
   "source": [
    "before, after = rule.split(' -> ')\n",
    "idx_tracker = 0\n",
    "spans_changed = []\n",
    "\n",
    "for segment in after:\n",
    "    if segment not in before:\n",
    "        spans_changed.append((idx_tracker, idx_tracker+len(key[segment])))\n",
    "    idx_tracker += len(key[segment]) + 1 # white space comes after every segment"
   ]
  },
  {
   "cell_type": "code",
   "execution_count": 27,
   "id": "a36fd525",
   "metadata": {},
   "outputs": [
    {
     "data": {
      "text/plain": [
       "'It is not the case that a great deal of the evidence has been gathered.'"
      ]
     },
     "execution_count": 27,
     "metadata": {},
     "output_type": "execute_result"
    }
   ],
   "source": [
    "h"
   ]
  },
  {
   "cell_type": "code",
   "execution_count": 28,
   "id": "fd4a4af4",
   "metadata": {},
   "outputs": [
    {
     "data": {
      "text/plain": [
       "[(0, 5), (10, 23)]"
      ]
     },
     "execution_count": 28,
     "metadata": {},
     "output_type": "execute_result"
    }
   ],
   "source": [
    "spans_changed"
   ]
  },
  {
   "cell_type": "code",
   "execution_count": 31,
   "id": "61329995",
   "metadata": {},
   "outputs": [],
   "source": [
    "for i, span in enumerate(spans_changed):\n",
    "    a, b = span[0] + i*7, span[1] + i*7     # since the string is getting longer, we need to keep adjusting span indices\n",
    "    h = h[:a] + '<b>' + h[a:b] + '</b>' + h[b:]"
   ]
  },
  {
   "cell_type": "code",
   "execution_count": 32,
   "id": "60f126f2",
   "metadata": {},
   "outputs": [
    {
     "data": {
      "text/plain": [
       "'<b>It is</b> not <b>the case that</b> a great deal of the evidence has been gathered.'"
      ]
     },
     "execution_count": 32,
     "metadata": {},
     "output_type": "execute_result"
    }
   ],
   "source": [
    "h"
   ]
  }
 ],
 "metadata": {
  "kernelspec": {
   "display_name": "Python 3 (ipykernel)",
   "language": "python",
   "name": "python3"
  },
  "language_info": {
   "codemirror_mode": {
    "name": "ipython",
    "version": 3
   },
   "file_extension": ".py",
   "mimetype": "text/x-python",
   "name": "python",
   "nbconvert_exporter": "python",
   "pygments_lexer": "ipython3",
   "version": "3.9.5"
  }
 },
 "nbformat": 4,
 "nbformat_minor": 5
}
