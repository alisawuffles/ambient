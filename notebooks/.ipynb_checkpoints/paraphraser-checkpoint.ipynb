{
 "cells": [
  {
   "cell_type": "code",
   "execution_count": null,
   "id": "b9cce348",
   "metadata": {},
   "outputs": [],
   "source": [
    "from pathlib import Path\n",
    "\n",
    "while Path.cwd().name != 'ambignli':\n",
    "    %cd .."
   ]
  },
  {
   "cell_type": "code",
   "execution_count": null,
   "id": "6c7a878c",
   "metadata": {},
   "outputs": [],
   "source": [
    "from generation.paraphrase import paraphrase_gpt3"
   ]
  },
  {
   "cell_type": "code",
   "execution_count": null,
   "id": "7879fa5c",
   "metadata": {},
   "outputs": [],
   "source": [
    "paraphrase_gpt3(\"i hugged libby and told her to break a leg\", n=10)"
   ]
  },
  {
   "cell_type": "code",
   "execution_count": null,
   "id": "3a450265",
   "metadata": {},
   "outputs": [],
   "source": []
  }
 ],
 "metadata": {
  "kernelspec": {
   "display_name": "Python 3 (ipykernel)",
   "language": "python",
   "name": "python3"
  },
  "language_info": {
   "codemirror_mode": {
    "name": "ipython",
    "version": 3
   },
   "file_extension": ".py",
   "mimetype": "text/x-python",
   "name": "python",
   "nbconvert_exporter": "python",
   "pygments_lexer": "ipython3",
   "version": "3.9.5"
  }
 },
 "nbformat": 4,
 "nbformat_minor": 5
}
