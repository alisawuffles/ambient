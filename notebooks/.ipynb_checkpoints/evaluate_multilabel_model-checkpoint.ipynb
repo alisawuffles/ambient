{
 "cells": [
  {
   "cell_type": "code",
   "execution_count": 1,
   "id": "06a98b70",
   "metadata": {},
   "outputs": [
    {
     "name": "stdout",
     "output_type": "stream",
     "text": [
      "/mmfs1/gscratch/xlab/alisaliu/ambignli\n"
     ]
    }
   ],
   "source": [
    "from pathlib import Path\n",
    "\n",
    "while Path.cwd().name != 'ambignli':\n",
    "    %cd .."
   ]
  },
  {
   "cell_type": "code",
   "execution_count": 2,
   "id": "276ef1b7",
   "metadata": {},
   "outputs": [],
   "source": [
    "import pandas as pd\n",
    "from tqdm import tqdm\n",
    "from transformers import RobertaTokenizer, RobertaForSequenceClassification\n",
    "from modeling.multitask_model import RobertaForMultitaskSequenceClassification\n",
    "from utils.utils import predict_nli\n",
    "import matplotlib.pyplot as plt\n",
    "import seaborn as sns\n",
    "from utils.mturk_utils import read_batch\n",
    "from torch import sigmoid\n",
    "from collections import Counter\n",
    "from utils.utils import ensure_dir\n",
    "from sklearn.metrics import f1_score\n",
    "from utils.constants import NLI_LABELS\n",
    "import numpy as np\n",
    "import os"
   ]
  },
  {
   "cell_type": "code",
   "execution_count": 20,
   "id": "da7906f6",
   "metadata": {},
   "outputs": [],
   "source": [
    "def predict_nli(premise, hypothesis, model, tokenizer):\n",
    "    x = tokenizer(premise, hypothesis, return_tensors='pt', max_length=128, truncation=True).to('cuda')\n",
    "    logits = model(**x).logits\n",
    "    # multi-task model\n",
    "    if hasattr(model, 'output_heads'):\n",
    "        print('I am here')\n",
    "        probs = logits.softmax(dim=-1).squeeze(0)\n",
    "        return {model.config.id2label[i]: probs[i,1].item() for i in range(len(probs))}\n",
    "    # multi-label model\n",
    "    elif model.config.problem_type == 'multi_label_classification':\n",
    "        logits = logits.squeeze(0)\n",
    "        probs = sigmoid(logits)\n",
    "        return {model.config.id2label[i]: probs[i].item() for i in range(len(probs))}\n",
    "    # classification model\n",
    "    else:\n",
    "        probs = logits.softmax(dim=1).squeeze(0)\n",
    "        return {model.config.id2label[i]: probs[i].item() for i in range(len(probs))}"
   ]
  },
  {
   "cell_type": "code",
   "execution_count": 54,
   "id": "6adf46bd",
   "metadata": {},
   "outputs": [],
   "source": [
    "multilabel_model = RobertaForSequenceClassification.from_pretrained('models/roberta-large-wanli-multilabel').to('cuda')\n",
    "tokenizer = RobertaTokenizer.from_pretrained('models/roberta-large-wanli-multilabel')"
   ]
  },
  {
   "cell_type": "markdown",
   "id": "67082d32",
   "metadata": {},
   "source": [
    "## evaluate on dataset"
   ]
  },
  {
   "cell_type": "code",
   "execution_count": 5,
   "id": "3d0a22cb",
   "metadata": {},
   "outputs": [],
   "source": [
    "def format_multilabel_output(labels):\n",
    "    o = []\n",
    "    for label in NLI_LABELS:\n",
    "        if label in labels:\n",
    "            o.append(1)\n",
    "        else:\n",
    "            o.append(0)\n",
    "    return o"
   ]
  },
  {
   "cell_type": "code",
   "execution_count": 6,
   "id": "7822b0fd",
   "metadata": {},
   "outputs": [],
   "source": [
    "df = pd.read_json('annotation/ambignli/validated_examples.jsonl', lines=True)"
   ]
  },
  {
   "cell_type": "code",
   "execution_count": 7,
   "id": "83c90714",
   "metadata": {},
   "outputs": [
    {
     "data": {
      "text/html": [
       "<div>\n",
       "<style scoped>\n",
       "    .dataframe tbody tr th:only-of-type {\n",
       "        vertical-align: middle;\n",
       "    }\n",
       "\n",
       "    .dataframe tbody tr th {\n",
       "        vertical-align: top;\n",
       "    }\n",
       "\n",
       "    .dataframe thead th {\n",
       "        text-align: right;\n",
       "    }\n",
       "</style>\n",
       "<table border=\"1\" class=\"dataframe\">\n",
       "  <thead>\n",
       "    <tr style=\"text-align: right;\">\n",
       "      <th></th>\n",
       "      <th>id</th>\n",
       "      <th>premise</th>\n",
       "      <th>hypothesis</th>\n",
       "      <th>labels</th>\n",
       "      <th>worker_id</th>\n",
       "      <th>premise_ambiguous</th>\n",
       "      <th>hypothesis_ambiguous</th>\n",
       "      <th>disambiguations</th>\n",
       "      <th>annotations</th>\n",
       "    </tr>\n",
       "  </thead>\n",
       "  <tbody>\n",
       "    <tr>\n",
       "      <th>357</th>\n",
       "      <td>51439</td>\n",
       "      <td>In spite of its reputation for violence, the c...</td>\n",
       "      <td>The city is not as safe as its reputation sugg...</td>\n",
       "      <td>contradiction</td>\n",
       "      <td>A3AA2VKV87R6PG</td>\n",
       "      <td>False</td>\n",
       "      <td>False</td>\n",
       "      <td>[]</td>\n",
       "      <td>[contradiction, neutral]</td>\n",
       "    </tr>\n",
       "    <tr>\n",
       "      <th>1463</th>\n",
       "      <td>72751</td>\n",
       "      <td>He was very interested in her work.</td>\n",
       "      <td>He asked her many questions about her work.</td>\n",
       "      <td>neutral</td>\n",
       "      <td>A1KBELVHWNE4D5</td>\n",
       "      <td>False</td>\n",
       "      <td>False</td>\n",
       "      <td>[]</td>\n",
       "      <td>[neutral, neutral]</td>\n",
       "    </tr>\n",
       "    <tr>\n",
       "      <th>734</th>\n",
       "      <td>60401</td>\n",
       "      <td>The use of the machines is not necessarily res...</td>\n",
       "      <td>The use of the machines is restricted to autho...</td>\n",
       "      <td>contradiction</td>\n",
       "      <td>A1KBELVHWNE4D5</td>\n",
       "      <td>False</td>\n",
       "      <td>False</td>\n",
       "      <td>[]</td>\n",
       "      <td>[entailment, contradiction]</td>\n",
       "    </tr>\n",
       "  </tbody>\n",
       "</table>\n",
       "</div>"
      ],
      "text/plain": [
       "         id                                            premise  \\\n",
       "357   51439  In spite of its reputation for violence, the c...   \n",
       "1463  72751                He was very interested in her work.   \n",
       "734   60401  The use of the machines is not necessarily res...   \n",
       "\n",
       "                                             hypothesis         labels  \\\n",
       "357   The city is not as safe as its reputation sugg...  contradiction   \n",
       "1463        He asked her many questions about her work.        neutral   \n",
       "734   The use of the machines is restricted to autho...  contradiction   \n",
       "\n",
       "           worker_id  premise_ambiguous  hypothesis_ambiguous disambiguations  \\\n",
       "357   A3AA2VKV87R6PG              False                 False              []   \n",
       "1463  A1KBELVHWNE4D5              False                 False              []   \n",
       "734   A1KBELVHWNE4D5              False                 False              []   \n",
       "\n",
       "                      annotations  \n",
       "357      [contradiction, neutral]  \n",
       "1463           [neutral, neutral]  \n",
       "734   [entailment, contradiction]  "
      ]
     },
     "execution_count": 7,
     "metadata": {},
     "output_type": "execute_result"
    }
   ],
   "source": [
    "df.sample(3)"
   ]
  },
  {
   "cell_type": "code",
   "execution_count": 8,
   "id": "f5fd0e54",
   "metadata": {},
   "outputs": [
    {
     "name": "stderr",
     "output_type": "stream",
     "text": [
      "  0%|          | 0/1500 [00:01<?, ?it/s]\n"
     ]
    }
   ],
   "source": [
    "acc = 0\n",
    "f1 = 0\n",
    "df['predictions'] = None\n",
    "for i, row in tqdm(df.iterrows(), total=len(df.index)):\n",
    "    premise, hypothesis = row['premise'], row['hypothesis']\n",
    "    probs = predict_nli(premise, hypothesis, multilabel_model, tokenizer)\n",
    "    preds = set([l for l, p in probs.items() if p > 0.5])\n",
    "    df.at[i, 'predictions'] = preds\n",
    "    true_labels = set(row['labels'].split(', '))\n",
    "    if preds == true_labels:\n",
    "        acc += 1\n",
    "    f1 += f1_score(format_multilabel_output(true_labels), format_multilabel_output(preds))"
   ]
  },
  {
   "cell_type": "code",
   "execution_count": 25,
   "id": "f5a43ec0",
   "metadata": {},
   "outputs": [
    {
     "data": {
      "text/plain": [
       "tensor([0.3901, 0.1756, 0.4343], device='cuda:0', grad_fn=<SqueezeBackward1>)"
      ]
     },
     "execution_count": 25,
     "metadata": {},
     "output_type": "execute_result"
    }
   ],
   "source": [
    "x = tokenizer('The cat is fat and fluffy.', 'The cat is fat and fluffy.', return_tensors='pt', max_length=128, truncation=True).to('cuda')\n",
    "logits = multilabel_model(**x).logits\n",
    "logits.softmax(dim=-1).squeeze(0)"
   ]
  },
  {
   "cell_type": "code",
   "execution_count": 26,
   "id": "9044ee3b",
   "metadata": {},
   "outputs": [
    {
     "ename": "AttributeError",
     "evalue": "'RobertaForSequenceClassification' object has no attribute 'output_heads'",
     "output_type": "error",
     "traceback": [
      "\u001b[0;31m---------------------------------------------------------------------------\u001b[0m",
      "\u001b[0;31mAttributeError\u001b[0m                            Traceback (most recent call last)",
      "\u001b[0;32m/tmp/ipykernel_7709/376208667.py\u001b[0m in \u001b[0;36m<module>\u001b[0;34m\u001b[0m\n\u001b[0;32m----> 1\u001b[0;31m \u001b[0mmultilabel_model\u001b[0m\u001b[0;34m.\u001b[0m\u001b[0moutput_heads\u001b[0m\u001b[0;34m\u001b[0m\u001b[0;34m\u001b[0m\u001b[0m\n\u001b[0m",
      "\u001b[0;32m/gscratch/cse/alisaliu/miniconda3/envs/nli/lib/python3.9/site-packages/torch/nn/modules/module.py\u001b[0m in \u001b[0;36m__getattr__\u001b[0;34m(self, name)\u001b[0m\n\u001b[1;32m   1128\u001b[0m             \u001b[0;32mif\u001b[0m \u001b[0mname\u001b[0m \u001b[0;32min\u001b[0m \u001b[0mmodules\u001b[0m\u001b[0;34m:\u001b[0m\u001b[0;34m\u001b[0m\u001b[0;34m\u001b[0m\u001b[0m\n\u001b[1;32m   1129\u001b[0m                 \u001b[0;32mreturn\u001b[0m \u001b[0mmodules\u001b[0m\u001b[0;34m[\u001b[0m\u001b[0mname\u001b[0m\u001b[0;34m]\u001b[0m\u001b[0;34m\u001b[0m\u001b[0;34m\u001b[0m\u001b[0m\n\u001b[0;32m-> 1130\u001b[0;31m         raise AttributeError(\"'{}' object has no attribute '{}'\".format(\n\u001b[0m\u001b[1;32m   1131\u001b[0m             type(self).__name__, name))\n\u001b[1;32m   1132\u001b[0m \u001b[0;34m\u001b[0m\u001b[0m\n",
      "\u001b[0;31mAttributeError\u001b[0m: 'RobertaForSequenceClassification' object has no attribute 'output_heads'"
     ]
    }
   ],
   "source": [
    "multilabel_model.output_heads"
   ]
  },
  {
   "cell_type": "code",
   "execution_count": 30,
   "id": "6609b46f",
   "metadata": {},
   "outputs": [
    {
     "data": {
      "text/plain": [
       "0.0"
      ]
     },
     "execution_count": 30,
     "metadata": {},
     "output_type": "execute_result"
    }
   ],
   "source": [
    "acc/len(df)"
   ]
  },
  {
   "cell_type": "code",
   "execution_count": 31,
   "id": "bcfa2ab1",
   "metadata": {},
   "outputs": [
    {
     "data": {
      "text/plain": [
       "0.0013333333333333333"
      ]
     },
     "execution_count": 31,
     "metadata": {},
     "output_type": "execute_result"
    }
   ],
   "source": [
    "f1/len(df)"
   ]
  },
  {
   "cell_type": "markdown",
   "id": "ad3b09fc",
   "metadata": {},
   "source": [
    "## evaluate on single example"
   ]
  },
  {
   "cell_type": "code",
   "execution_count": 55,
   "id": "aff99595",
   "metadata": {},
   "outputs": [],
   "source": [
    "sns.set_style('white')\n",
    "sns.set_palette('muted')\n",
    "red = sns.color_palette('muted')[3]\n",
    "green = sns.color_palette('muted')[2]\n",
    "gray = sns.color_palette('muted')[-3]"
   ]
  },
  {
   "cell_type": "code",
   "execution_count": 56,
   "id": "38b40909",
   "metadata": {},
   "outputs": [
    {
     "name": "stdout",
     "output_type": "stream",
     "text": [
      "{'contradiction': 0.6540746688842773, 'entailment': 0.9770291447639465, 'neutral': 0.011850300244987011}\n"
     ]
    },
    {
     "name": "stderr",
     "output_type": "stream",
     "text": [
      "/gscratch/cse/alisaliu/miniconda3/envs/nli/lib/python3.9/site-packages/seaborn/_decorators.py:36: FutureWarning: Pass the following variables as keyword args: x, y. From version 0.12, the only valid positional argument will be `data`, and passing other arguments without an explicit keyword will result in an error or misinterpretation.\n",
      "  warnings.warn(\n"
     ]
    },
    {
     "data": {
      "text/plain": [
       "(0.0, 1.0)"
      ]
     },
     "execution_count": 56,
     "metadata": {},
     "output_type": "execute_result"
    },
    {
     "data": {
      "image/png": "[encoded data removed]",
      "text/plain": [
       "<Figure size 288x144 with 1 Axes>"
      ]
     },
     "metadata": {},
     "output_type": "display_data"
    }
   ],
   "source": [
    "premise = 'Most of the graduates of my program have moved on to other things because the jobs suck.'\n",
    "hypothesis = \"\"\"Some of the graduates of my program have moved on to other things because the jobs suck.\"\"\"\n",
    "probs = predict_nli(premise, hypothesis, multilabel_model, tokenizer)\n",
    "print(probs)\n",
    "x = list(probs.values())\n",
    "fig, ax = plt.subplots(figsize=(4,2))\n",
    "sns.barplot(x, NLI_LABELS, order=['entailment', 'neutral', 'contradiction'], palette=[green, gray, red])\n",
    "ax.set_xlim(right=1)"
   ]
  },
  {
   "cell_type": "markdown",
   "id": "052f3a5c",
   "metadata": {},
   "source": [
    "## read predictions file"
   ]
  },
  {
   "cell_type": "code",
   "execution_count": 48,
   "id": "c61ccdcf",
   "metadata": {},
   "outputs": [],
   "source": [
    "preds = pd.read_csv('models/roberta-large-wanli-set/eval_results/set_predictions/ambignli_predictions.txt', sep='\\t').prediction.tolist()\n",
    "golds = pd.read_json('annotation/ambignli/validated_examples.jsonl', lines=True).gold.tolist()"
   ]
  },
  {
   "cell_type": "code",
   "execution_count": 49,
   "id": "0670fa00",
   "metadata": {},
   "outputs": [
    {
     "name": "stderr",
     "output_type": "stream",
     "text": [
      "1500it [00:00, 2213.42it/s]\n"
     ]
    }
   ],
   "source": [
    "acc = 0\n",
    "f1 = 0\n",
    "df['predictions'] = None\n",
    "for pred, gold in tqdm(zip(preds, golds)):\n",
    "    true_labels = set(gold.split(', '))\n",
    "    pred_labels = set(pred.split(', '))\n",
    "    if pred_labels == true_labels:\n",
    "        acc += 1\n",
    "    f1 += f1_score([format_multilabel_output(true_labels)], [format_multilabel_output(pred_labels)])"
   ]
  },
  {
   "cell_type": "code",
   "execution_count": 50,
   "id": "d1d75d64",
   "metadata": {},
   "outputs": [
    {
     "data": {
      "text/plain": [
       "0.44666666666666666"
      ]
     },
     "execution_count": 50,
     "metadata": {},
     "output_type": "execute_result"
    }
   ],
   "source": [
    "acc/len(preds)"
   ]
  },
  {
   "cell_type": "code",
   "execution_count": 51,
   "id": "fbfc1cd2",
   "metadata": {},
   "outputs": [
    {
     "data": {
      "text/plain": [
       "0.7139999999999952"
      ]
     },
     "execution_count": 51,
     "metadata": {},
     "output_type": "execute_result"
    }
   ],
   "source": [
    "f1/len(preds)"
   ]
  },
  {
   "cell_type": "code",
   "execution_count": 57,
   "id": "e3891118",
   "metadata": {},
   "outputs": [
    {
     "data": {
      "text/plain": [
       "{'entailment', 'neutral'}"
      ]
     },
     "execution_count": 57,
     "metadata": {},
     "output_type": "execute_result"
    }
   ],
   "source": [
    "true_labels"
   ]
  },
  {
   "cell_type": "code",
   "execution_count": 58,
   "id": "ca5ca888",
   "metadata": {},
   "outputs": [
    {
     "data": {
      "text/plain": [
       "{'contradiction', 'neutral'}"
      ]
     },
     "execution_count": 58,
     "metadata": {},
     "output_type": "execute_result"
    }
   ],
   "source": [
    "pred_labels"
   ]
  },
  {
   "cell_type": "code",
   "execution_count": 59,
   "id": "3fd30267",
   "metadata": {},
   "outputs": [
    {
     "data": {
      "text/plain": [
       "[0, 1, 1]"
      ]
     },
     "execution_count": 59,
     "metadata": {},
     "output_type": "execute_result"
    }
   ],
   "source": [
    "format_multilabel_output(true_labels)"
   ]
  },
  {
   "cell_type": "code",
   "execution_count": null,
   "id": "f7dd9236",
   "metadata": {},
   "outputs": [],
   "source": []
  }
 ],
 "metadata": {
  "kernelspec": {
   "display_name": "Python 3 (ipykernel)",
   "language": "python",
   "name": "python3"
  },
  "language_info": {
   "codemirror_mode": {
    "name": "ipython",
    "version": 3
   },
   "file_extension": ".py",
   "mimetype": "text/x-python",
   "name": "python",
   "nbconvert_exporter": "python",
   "pygments_lexer": "ipython3",
   "version": "3.9.5"
  }
 },
 "nbformat": 4,
 "nbformat_minor": 5
}
