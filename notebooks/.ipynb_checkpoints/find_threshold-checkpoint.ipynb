{
 "cells": [
  {
   "cell_type": "code",
   "execution_count": 1,
   "id": "084fb6d7",
   "metadata": {},
   "outputs": [
    {
     "name": "stdout",
     "output_type": "stream",
     "text": [
      "/mmfs1/gscratch/xlab/alisaliu/ambignli\n"
     ]
    }
   ],
   "source": [
    "\"\"\"\n",
    "find threshold for classification & distributional models\n",
    "\"\"\"\n",
    "\n",
    "from pathlib import Path\n",
    "\n",
    "while Path.cwd().name != 'ambignli':\n",
    "    %cd .."
   ]
  },
  {
   "cell_type": "code",
   "execution_count": 65,
   "id": "b35116ce",
   "metadata": {},
   "outputs": [],
   "source": [
    "import pandas as pd\n",
    "from tqdm import tqdm\n",
    "from transformers import RobertaTokenizer, RobertaForSequenceClassification\n",
    "from modeling.multitask_model import RobertaForMultitaskSequenceClassification\n",
    "import numpy as np\n",
    "from sklearn.metrics import f1_score\n",
    "from utils.constants import NLI_LABELS, label2id\n",
    "import seaborn as sns\n",
    "import matplotlib.pyplot as plt\n",
    "from collections import defaultdict"
   ]
  },
  {
   "cell_type": "code",
   "execution_count": 6,
   "id": "d2b48380",
   "metadata": {},
   "outputs": [
    {
     "data": {
      "text/plain": [
       "0.3333333333333333"
      ]
     },
     "execution_count": 6,
     "metadata": {},
     "output_type": "execute_result"
    }
   ],
   "source": [
    "# precision: 1/3, recall: 1, micro F1 score = 2(1/3*1)/(1/3+1)\n",
    "# contradiction -- precision: 0, recall: 0\n",
    "# entailment -- precision: 0, recall: 0\n",
    "# neutral -- precision: 1, recall: 1\n",
    "# macro F1 score: 1/3\n",
    "\n",
    "f1_score([[0,0,1],[1,0,0],[0,1,0]], [[0,0,1],[0,0,0],[0,0,0]], average='macro')"
   ]
  },
  {
   "cell_type": "code",
   "execution_count": 76,
   "id": "38dcdff0",
   "metadata": {},
   "outputs": [],
   "source": [
    "model = RobertaForSequenceClassification.from_pretrained('../wanli/models/roberta-large-mnli').to('cuda')\n",
    "tokenizer = RobertaTokenizer.from_pretrained('../wanli/models/roberta-large-mnli')"
   ]
  },
  {
   "cell_type": "code",
   "execution_count": 46,
   "id": "c763e36a",
   "metadata": {},
   "outputs": [],
   "source": [
    "dev_df = pd.read_json('annotation/ambignli/validated_examples.jsonl', lines=True).sample(50).reset_index(drop=True)"
   ]
  },
  {
   "cell_type": "code",
   "execution_count": 56,
   "id": "15f13af6",
   "metadata": {},
   "outputs": [],
   "source": [
    "# construct true matrix\n",
    "T = np.zeros((len(dev_df.index), len(NLI_LABELS)))\n",
    "for i, ex in dev_df.iterrows():\n",
    "    for label in ex['gold'].split(', '):\n",
    "        T[i, label2id[label]] = 1"
   ]
  },
  {
   "cell_type": "code",
   "execution_count": 77,
   "id": "102858de",
   "metadata": {},
   "outputs": [],
   "source": [
    "# compute prediction matrix\n",
    "M = np.empty((0, len(NLI_LABELS)))\n",
    "for i, ex in dev_df.iterrows():\n",
    "    x = tokenizer(ex['premise'], ex['hypothesis'], return_tensors='pt', max_length=128, truncation=True).to('cuda')\n",
    "    logits = model(**x).logits.cpu().detach().numpy()\n",
    "    M = np.concatenate((M, logits))"
   ]
  },
  {
   "cell_type": "code",
   "execution_count": 78,
   "id": "a7a2c7b8",
   "metadata": {},
   "outputs": [],
   "source": [
    "thresholds = M.flatten()\n",
    "threshold_dict = {}\n",
    "\n",
    "for t in thresholds:\n",
    "    P = np.zeros((len(dev_df.index), len(NLI_LABELS)))\n",
    "    for i, ex in dev_df.iterrows():\n",
    "        for j, l in enumerate(NLI_LABELS):\n",
    "            if M[i, j] > t:\n",
    "                P[i,j] = 1\n",
    "    threshold_dict[t] = f1_score(T, P, average='macro')"
   ]
  },
  {
   "cell_type": "code",
   "execution_count": 81,
   "id": "dc3efac2",
   "metadata": {},
   "outputs": [
    {
     "name": "stderr",
     "output_type": "stream",
     "text": [
      "/gscratch/cse/alisaliu/miniconda3/envs/nli/lib/python3.9/site-packages/seaborn/_decorators.py:36: FutureWarning: Pass the following variables as keyword args: x, y. From version 0.12, the only valid positional argument will be `data`, and passing other arguments without an explicit keyword will result in an error or misinterpretation.\n",
      "  warnings.warn(\n"
     ]
    },
    {
     "data": {
      "text/plain": [
       "Text(0.5, 1.0, 'Original WANLI model (classification)')"
      ]
     },
     "execution_count": 81,
     "metadata": {},
     "output_type": "execute_result"
    },
    {
     "data": {
      "image/png": "[encoded data removed]",
      "text/plain": [
       "<Figure size 432x288 with 1 Axes>"
      ]
     },
     "metadata": {
      "needs_background": "light"
     },
     "output_type": "display_data"
    }
   ],
   "source": [
    "fig, ax = plt.subplots()\n",
    "sns.lineplot(threshold_dict.keys(), threshold_dict.values())\n",
    "ax.set_ylabel('Macro F1')\n",
    "ax.set_xlabel('Logit threshold')\n",
    "ax.set_title('Original WANLI model (classification)')"
   ]
  },
  {
   "cell_type": "code",
   "execution_count": null,
   "id": "6198b3d1",
   "metadata": {},
   "outputs": [],
   "source": []
  }
 ],
 "metadata": {
  "kernelspec": {
   "display_name": "Python 3 (ipykernel)",
   "language": "python",
   "name": "python3"
  },
  "language_info": {
   "codemirror_mode": {
    "name": "ipython",
    "version": 3
   },
   "file_extension": ".py",
   "mimetype": "text/x-python",
   "name": "python",
   "nbconvert_exporter": "python",
   "pygments_lexer": "ipython3",
   "version": "3.9.5"
  }
 },
 "nbformat": 4,
 "nbformat_minor": 5
}
