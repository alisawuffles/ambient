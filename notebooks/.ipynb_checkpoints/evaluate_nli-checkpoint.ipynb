{
 "cells": [
  {
   "cell_type": "code",
   "execution_count": 2,
   "id": "ca6e888c",
   "metadata": {},
   "outputs": [
    {
     "name": "stdout",
     "output_type": "stream",
     "text": [
      "/mmfs1/gscratch/xlab/alisaliu/wanli\n"
     ]
    }
   ],
   "source": [
    "from pathlib import Path\n",
    "\n",
    "while Path.cwd().name != 'ambignli':\n",
    "    %cd ..\n",
    "\n",
    "%cd '../wanli'"
   ]
  },
  {
   "cell_type": "code",
   "execution_count": 3,
   "id": "4674092e",
   "metadata": {},
   "outputs": [],
   "source": [
    "import pandas as pd\n",
    "import numpy as np\n",
    "from transformers import RobertaTokenizer, RobertaForSequenceClassification\n",
    "from utils.utils import predict_nli\n",
    "from collections import Counter\n",
    "from tqdm import tqdm"
   ]
  },
  {
   "cell_type": "code",
   "execution_count": 4,
   "id": "37d6e9e2",
   "metadata": {},
   "outputs": [],
   "source": [
    "wanli_model = RobertaForSequenceClassification.from_pretrained('alisawuffles/roberta-large-wanli').to('cuda')\n",
    "wanli_tokenizer = RobertaTokenizer.from_pretrained('models/roberta-large-wanli')"
   ]
  },
  {
   "cell_type": "code",
   "execution_count": 5,
   "id": "fe2c6336",
   "metadata": {},
   "outputs": [],
   "source": [
    "df = pd.read_json('data/big-bench/test.jsonl', lines=True)"
   ]
  },
  {
   "cell_type": "code",
   "execution_count": 6,
   "id": "5d4b177b",
   "metadata": {},
   "outputs": [
    {
     "name": "stderr",
     "output_type": "stream",
     "text": [
      "100%|██████████| 3324/3324 [00:52<00:00, 62.98it/s]\n"
     ]
    }
   ],
   "source": [
    "predictions = []\n",
    "model, tokenizer = wanli_model, wanli_tokenizer\n",
    "\n",
    "for i, row in tqdm(df.iterrows(), total=len(df.index)):\n",
    "    probs = predict_nli(row['premise'], row['hypothesis'], model, tokenizer)\n",
    "    pred = max(probs, key=probs.get)\n",
    "    predictions.append(pred)"
   ]
  },
  {
   "cell_type": "code",
   "execution_count": 16,
   "id": "22bf9883",
   "metadata": {},
   "outputs": [
    {
     "data": {
      "text/plain": [
       "0.851985559566787"
      ]
     },
     "execution_count": 16,
     "metadata": {},
     "output_type": "execute_result"
    }
   ],
   "source": [
    "np.sum([a == b for a,b in zip(df['gold'].tolist(), binary_predictions)])/len(df.index)"
   ]
  },
  {
   "cell_type": "code",
   "execution_count": 11,
   "id": "43b7211d",
   "metadata": {},
   "outputs": [],
   "source": [
    "binary_predictions = []\n",
    "for p in predictions:\n",
    "    if p == 'entailment':\n",
    "        binary_predictions.append('entailment')\n",
    "    else:\n",
    "        binary_predictions.append('non-entailment')"
   ]
  },
  {
   "cell_type": "code",
   "execution_count": null,
   "id": "88805942",
   "metadata": {},
   "outputs": [],
   "source": []
  }
 ],
 "metadata": {
  "kernelspec": {
   "display_name": "Python 3 (ipykernel)",
   "language": "python",
   "name": "python3"
  },
  "language_info": {
   "codemirror_mode": {
    "name": "ipython",
    "version": 3
   },
   "file_extension": ".py",
   "mimetype": "text/x-python",
   "name": "python",
   "nbconvert_exporter": "python",
   "pygments_lexer": "ipython3",
   "version": "3.9.5"
  }
 },
 "nbformat": 4,
 "nbformat_minor": 5
}
