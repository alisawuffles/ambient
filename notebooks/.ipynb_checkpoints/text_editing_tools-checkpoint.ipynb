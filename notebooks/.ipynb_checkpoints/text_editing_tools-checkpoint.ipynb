{
 "cells": [
  {
   "cell_type": "code",
   "execution_count": 1,
   "id": "1e0a7252",
   "metadata": {},
   "outputs": [
    {
     "name": "stdout",
     "output_type": "stream",
     "text": [
      "/mmfs1/gscratch/xlab/alisaliu/ambient\n"
     ]
    }
   ],
   "source": [
    "from pathlib import Path\n",
    "\n",
    "while Path.cwd().name != 'ambient':\n",
    "    %cd .."
   ]
  },
  {
   "cell_type": "code",
   "execution_count": 2,
   "id": "1a17adda",
   "metadata": {},
   "outputs": [],
   "source": [
    "import pandas as pd\n",
    "import json\n",
    "import random\n",
    "from tqdm import tqdm\n",
    "from transformers import T5Tokenizer, T5ForConditionalGeneration"
   ]
  },
  {
   "cell_type": "code",
   "execution_count": 3,
   "id": "b58198c7",
   "metadata": {},
   "outputs": [],
   "source": [
    "pile = pd.read_json('/data/pile/train/00.jsonl', lines=True)"
   ]
  },
  {
   "cell_type": "code",
   "execution_count": 4,
   "id": "0c2aab29",
   "metadata": {},
   "outputs": [
    {
     "name": "stderr",
     "output_type": "stream",
     "text": [
      "/gscratch/cse/alisaliu/miniconda3/envs/nli/lib/python3.9/site-packages/transformers/models/t5/tokenization_t5.py:163: FutureWarning: This tokenizer was incorrectly instantiated with a model max length of 512 which will be corrected in Transformers v5.\n",
      "For now, this behavior is kept to avoid breaking backwards compatibility when padding/encoding with `truncation is True`.\n",
      "- Be aware that you SHOULD NOT rely on t5-3b automatically truncating your input to 512 when padding/encoding.\n",
      "- If you want to encode/pad to sequences longer than 512 you can either instantiate this tokenizer with `model_max_length` or pass `max_length` when encoding/padding.\n",
      "- To avoid this warning, please instantiate this tokenizer with `model_max_length` set to your preferred value.\n",
      "  warnings.warn(\n"
     ]
    }
   ],
   "source": [
    "tokenizer = T5Tokenizer.from_pretrained(\"t5-3b\")\n",
    "model = T5ForConditionalGeneration.from_pretrained(\"t5-3b\")"
   ]
  },
  {
   "cell_type": "code",
   "execution_count": 23,
   "id": "0bf02c57",
   "metadata": {},
   "outputs": [],
   "source": [
    "def get_mask_filling(t5_output):\n",
    "    mask_idx = 0\n",
    "#     while True:\n",
    "    mask_token = get_t5_mask_token(mask_idx)\n",
    "    if mask_token in t5_output:\n",
    "        mask_infill = t5_output.split(mask_token)[1].split(get_t5_mask_token(mask_idx+1))[0].replace('</s>', '').strip()\n",
    "#         mask_idx += 1\n",
    "    \n",
    "    return mask_infill\n",
    "    \n",
    "def fill_masks(masked_sentence, t5_output):\n",
    "    mask_idx = 0\n",
    "    while True:\n",
    "        mask_token = get_t5_mask_token(mask_idx)\n",
    "        if mask_token in t5_output:\n",
    "            new_span = t5_output.split(mask_token)[1].split(get_t5_mask_token(mask_idx+1))[0].replace('</s>', '').strip()\n",
    "            masked_sentence = masked_sentence.replace(get_t5_mask_token(mask_idx), new_span)\n",
    "            mask_idx += 1\n",
    "        else:\n",
    "            break\n",
    "            \n",
    "    return masked_sentence\n",
    "\n",
    "def get_t5_mask_token(i):\n",
    "    return f'<extra_id_{i}>'\n",
    "\n",
    "\n",
    "def sample_endpoints(text_len, mask_len_range=(2,5)):\n",
    "    mask_start_idx = random.sample(range(text_len), 1)[0]\n",
    "    mask_len = random.sample(range(mask_len_range[0], mask_len_range[1]), 1)[0]\n",
    "    return mask_start_idx, mask_start_idx + mask_len\n",
    "\n",
    "def sample_idx(text_len):\n",
    "    mask_start_idx = random.sample(range(text_len), 1)[0]\n",
    "    return mask_start_idx\n",
    "\n",
    "def mask_and_replace_span(text):\n",
    "    text_words = text.split(' ')\n",
    "    \n",
    "    # sample mask placement\n",
    "    a, b = sample_endpoints(len(text_words))\n",
    "\n",
    "    # construct masked text\n",
    "    masked_tokens = text_words[a:b]\n",
    "    text_words = text_words[:a] + [get_t5_mask_token(0)] + text_words[b:]\n",
    "    masked_text = ' '.join(text_words)\n",
    "    masked_sentence = [sentence.strip() + '.' for sentence in masked_text.split('.') if get_t5_mask_token(0) in sentence][0]\n",
    "    \n",
    "    # fill mask with T5\n",
    "    input_ids = tokenizer(masked_sentence, return_tensors=\"pt\", padding=True).input_ids\n",
    "    masked_token_ids = [tokenizer(t, add_special_tokens=False).input_ids for t in masked_tokens]\n",
    "    try:\n",
    "        sequence_ids = model.generate(input_ids, do_sample=True, top_k=0, bad_words_ids=masked_token_ids)\n",
    "    except ValueError:\n",
    "        print(masked_tokens)\n",
    "        print(masked_token_ids)\n",
    "    output_sequence = tokenizer.batch_decode(sequence_ids)[0]\n",
    "    \n",
    "    # construct training text\n",
    "    mask_infill = get_mask_filling(output_sequence)\n",
    "    before = masked_text.split(masked_sentence)[0]\n",
    "    after = masked_text.split(masked_sentence)[-1]\n",
    "    perturbed_sentence = masked_sentence.replace(get_t5_mask_token(0), mask_infill)\n",
    "    train_sentence = before + perturbed_sentence + f' [replace(\"{mask_infill}\", \"{\" \".join(masked_tokens)}\")]' + after\n",
    "    \n",
    "    return train_sentence\n",
    "\n",
    "\n",
    "def mask_and_insert_span(text):\n",
    "    text_words = text.split(' ')\n",
    "    # sample mask placement\n",
    "    x = sample_idx(len(text_words))\n",
    "    \n",
    "    # construct masked text\n",
    "    text_words = text_words[:x] + [get_t5_mask_token(0)] + text_words[x:]\n",
    "    masked_text = ' '.join(text_words)\n",
    "    masked_sentence = [sentence.strip() + '.' for sentence in masked_text.split('.') if get_t5_mask_token(0) in sentence][0]\n",
    "    \n",
    "    # fill mask with T5\n",
    "    input_ids = tokenizer(masked_sentence, return_tensors=\"pt\", padding=True).input_ids\n",
    "    sequence_ids = model.generate(input_ids, do_sample=True, top_k=0)\n",
    "    output_sequence = tokenizer.batch_decode(sequence_ids)[0]\n",
    "    \n",
    "    # construct training text\n",
    "    mask_infill = get_mask_filling(output_sequence)\n",
    "    before = masked_text.split(masked_sentence)[0]\n",
    "    after = masked_text.split(masked_sentence)[-1]\n",
    "    perturbed_sentence = masked_sentence.replace(get_t5_mask_token(0), mask_infill)\n",
    "    train_sentence = before + perturbed_sentence + f' [delete(\"{mask_infill}\")]' + after\n",
    "    \n",
    "    return train_sentence\n",
    "\n",
    "\n",
    "def delete_span(text):\n",
    "    text_words = text.split(' ')\n",
    "    a, b = sample_endpoints(len(text_words))\n",
    "    \n",
    "    deleted_tokens = text_words[a:b]\n",
    "    print(deleted_tokens)\n",
    "    \n",
    "    train_sentence\n",
    "    \n",
    "    # construct training text"
   ]
  },
  {
   "cell_type": "code",
   "execution_count": null,
   "id": "2b3039bf",
   "metadata": {},
   "outputs": [
    {
     "name": "stderr",
     "output_type": "stream",
     "text": [
      "\r",
      "  0%|          | 0/7021438 [00:00<?, ?it/s]"
     ]
    }
   ],
   "source": [
    "with open('../tools/augmented_pile.txt', 'w') as fo:\n",
    "    for i, row in tqdm(pile.iterrows(), total=len(pile.index)):\n",
    "        text = row['text']\n",
    "        for line in text.split('\\n\\n'):\n",
    "            if len(line) > 100:\n",
    "                train_text = mask_and_replace_span(line)\n",
    "                fo.write(train_text + '\\n')\n",
    "                train_text = mask_and_insert_span(line)\n",
    "                fo.write(train_text + '\\n')"
   ]
  },
  {
   "cell_type": "code",
   "execution_count": 129,
   "id": "1f2e0ace",
   "metadata": {},
   "outputs": [],
   "source": [
    "with open('../tools/tool_augmented.txt', 'w') as fo:\n",
    "    for line in train_texts:\n",
    "        fo.write(f\"{line}\\n\")"
   ]
  },
  {
   "cell_type": "code",
   "execution_count": 11,
   "id": "b470faff",
   "metadata": {},
   "outputs": [
    {
     "data": {
      "text/plain": [
       "52"
      ]
     },
     "execution_count": 11,
     "metadata": {},
     "output_type": "execute_result"
    }
   ],
   "source": [
    "len('You get points every second for every plate you own.')"
   ]
  },
  {
   "cell_type": "code",
   "execution_count": 16,
   "id": "17d25b9b",
   "metadata": {},
   "outputs": [
    {
     "data": {
      "text/plain": [
       "'It is done, and submitted. You can play “Survival of the Tastiest” on Android, and on the web. Playing on the web works, but you have to simulate multi-touch for table moving and that can be a bit confusing.\\n\\nThere’s a lot I’d like to talk about. I’ll go through every topic, insted of making the typical what went right/wrong list.\\n\\nConcept\\n\\nWorking over the theme was probably one of the hardest tasks I had to face.\\n\\nOriginally, I had an idea of what kind of game I wanted to develop, gameplay wise – something with lots of enemies/actors, simple graphics, maybe set in space, controlled from a top-down view. I was confident I could fit any theme around it.\\n\\nIn the end, the problem with a theme like “Evolution” in a game is that evolution is unassisted. It happens through several seemingly random mutations over time, with the most apt permutation surviving. This genetic car simulator is, in my opinion, a great example of actual evolution of a species facing a challenge. But is it a game?\\n\\nIn a game, you need to control something to reach an objective. That control goes against what evolution is supposed to be like. If you allow the user to pick how to evolve something, it’s not evolution anymore – it’s the equivalent of intelligent design, the fable invented by creationists to combat the very idea of evolution. Being agnostic and a Pastafarian, that’s not something that rubbed me the right way.\\n\\nHence, my biggest dillema when deciding what to create was not with what I wanted to create, but with what I did not. I didn’t want to create an “intelligent design” simulator and wrongly call it evolution.\\n\\nThis is a problem, of course, every other contestant also had to face. And judging by the entries submitted, not many managed to work around it. I’d say the only real solution was through the use of artificial selection, somehow. So far, I haven’t seen any entry using this at its core gameplay.\\n\\nAlas, this is just a fun competition and after a while I decided not to be as strict with the game idea, and allowed myself to pick whatever I thought would work out.\\n\\nMy initial idea was to create something where humanity tried to evolve to a next level but had some kind of foe trying to stop them from doing so. I kind of had this image of human souls flying in space towards a monolith or a space baby (all based in 2001: A Space Odyssey of course) but I couldn’t think of compelling (read: serious) mechanics for that.\\n\\nBorgs were my next inspiration, as their whole hypothesis fit pretty well into the evolution theme. But how to make it work? Are you the borg, or fighting the Borg?\\n\\nThe third and final idea came to me through my girlfriend, who somehow gave me the idea of making something about the evolution of Pasta. The more I thought about it the more it sounded like it would work, so I decided to go with it.\\n\\nConversations with my inspiring co-worker Roushey (who also created the “Mechanical Underdogs” signature logo for my intros) further matured the concept, as it involved into the idea of having individual pieces of pasta flying around and trying to evolve until they became all-powerful. A secondary idea here was that the game would work to explain how the Flying Spaghetti Monster came to exist – by evolving from a normal dinner table.\\n\\nSo the idea evolved more or less into this: you are sitting a table. You have your own plate, with is your “base”. There are 5 other guests at the table, each with their own plate.\\n\\nYour plate can spawn little pieces of pasta. You do so by “ordering” them through a menu. Some pastas are better than others; some are faster, some are stronger. They have varying costs, which are debited from your credits (you start with a number of credits).\\n\\nOnce spawned, your pastas start flying around. Their instinct is to fly to other plates, in order to conquer them (the objective of the game is having your pasta conquer all the plates on the table). But they are really autonomous, so after being spawned, you have no control over your pasta (think DotA or LoL creeps).\\n\\nYour pasta doesn’t like other people’s pasta, so if they meet, they shoot sauce at each other until one dies. You get credits for other pastas your own pasta kill.\\n\\nOnce a pasta is in the vicinity of a plate, it starts conquering it for its team. It takes around 10 seconds for a plate to be conquered; less if more pasta from the same team are around. If pasta from other team are around, though, they get locked down in their attempt, unable to conquer the plate, until one of them die (think Battlefield’s standard “Conquest” mode).\\n\\nYou get points every second for every plate you own.\\n\\nOver time, the concept also evolved to use an Italian bistro as its main scenario.\\n\\nCarlos, Carlos’ Bistro’s founder and owner\\n\\nSetup\\n\\nNo major changes were made from my work setup. I used FDT and Starling creating an Adobe AIR (ActionScript) project, all tools or frameworks I already had some knowledge with.\\n\\nOne big change for me was that I livestreamed my work through a twitch.tv account. This was a new thing for me. As recommended by Roushey, I used a program called XSplit and I got to say, it is pretty amazing. It made the livestream pretty effortless and the features are awesome, even for the free version. It was great to have some of my friends watch me, and then interact with them and random people through chat. It was also good knowing that I was also recording a local version of the files, so I could make a timelapse video later.\\n\\nKnowing the video was being recorded also made me a lot more self-conscious about my computer use, as if someone was watching over my shoulder. It made me realize that sometimes I spend too much time in seemingly inane tasks (I ended up wasting the longest time just to get some text alignment the way I wanted – it’ll probably drive someone crazy if they watch it) and that I do way too many typos where writing code. I pretty much spend half of the time writing a line and the other half fixing the crazy characters in it.\\n\\nMy own stream was probably boring to watch since I was coding for the most time. But livestreaming is one of the cool things to do as a spectator too. It was great seeing other people working – I had a few tabs opened on my second monitor all the time. It’s actually a bit sad, because if I could, I could have spent the whole weekend just watching other people working! But I had to do my own work, so I’d only do it once in a while, when resting for a bit.\\n\\nDesign\\n\\nAlthough I wanted some simple, low-fi, high-contrast kind of design, I ended up going with somewhat realistic (vector) art. I think it worked very well, fitting the mood of the game, but I also went overboard.\\n\\nFor example: to know the state of a plate (who owns it, who’s conquering it and how much time they have left before conquering it, which pasta units are in the queue, etc), you have to look at the plate’s bill.\\n\\nThe problem I realized when doing some tests is that people never look at the bill! They think it’s some kind of prop, so they never actually read its details.\\n\\nPlus, if you’re zoomed out too much, you can’t actually read it, so it’s hard to know what’s going on with the game until you zoom in to the area of a specific plate.\\n\\nOne other solution that didn’t turn out to be as perfect as I thought was how to indicate who a plate base belongs to. In the game, that’s indicated by the plate’s decoration – its color denotes the team owner. But it’s something that fits so well into the design that people never realized it, until they were told about it.\\n\\nIn the end, the idea of going with a full physical metaphor is one that should be done with care. Things that are very important risk becoming background noise, unless the player knows its importance.\\n\\nOriginally, I wanted to avoid any kind of heads-up display in my game. In the end, I ended up adding it at the bottom to indicate your credits and bases owned, as well as the hideous out-of-place-and-still-not-obvious “Call Waiter” button. But in hindsight, I should have gone with a simple HUD from the start, especially one that indicated each team’s colors and general state of the game without the need for zooming in and out.\\n\\nDevelopment\\n\\nDevelopment went fast. But not fast enough.\\n\\nEven though I worked around 32+ hours for this Ludum Dare, the biggest problem I had to face in the end was overscoping. I had too much planned, and couldn’t get it all done.\\n\\nContent-wise, I had several kinds of pasta planned (Wikipedia is just amazing in that regard), split into several different groups, from small Pastina to huge Pasta al forno. But because of time constraints, I ended up scratching most of them, and ended up with 5 different types of very small pasta – barely something to start when talking about the evolution of Pasta.\\n\\nPastas used in the game. Unfortunately, the macs where never used\\n\\nWhich is one of the saddest things about the project, really. It had the framework and the features to allow an endless number of elements in there, but I just didn’t have time to draw the rest of the assets needed (something I loved to do, by the way).\\n\\nOther non-obvious features had to be dropped, too. For example, when ordering some pasta, you were supposed to select what kind of sauce you’d like with your pasta, each with different attributes. Bolognese, for example, is very strong, but inaccurate; Pesto is very accurate and has great range, but it’s weaker; and my favorite, Vodka, would triggers 10% loss of speed on the pasta hit by it.\\n\\nThe code for that is mostly in there. But in the end, I didn’t have time to implement the sauce selection interface; all pasta ended up using bolognese sauce.\\n\\nTo-do list: lots of things were not done\\n\\nActual programming also took a toll in the development time. Having been programming for a while, I like to believe I got to a point where I know how to make things right, but at the expense of forgetting how to do things wrong in a seemingly good way. What I mean is that I had to take a lot of shortcuts in my code to save time (e.g. a lot of singletons references for cross-communication rather than events or observers, all-encompassing check loops, not fast enough) that left a very sour taste in my mouth. While I know I used to do those a few years ago and survive, I almost cannot accept the state my code is in right now.\\n\\nAt the same time, I do know it was the right thing to do given the timeframe.\\n\\nOne small thing that had some impact was using a somewhat new platform for me. That’s Starling, the accelerated graphics framework I used in Flash. I had tested it before and I knew how to use it well – the API is very similar to Flash itself. However, there were some small details that had some impact during development, making me feel somewhat uneasy the whole time I was writing the game. It was, again, the right thing to do, but I should have used Starling more deeply before (which is the conundrum: I used it for Ludum Dare just so I could learn more about it).\\n\\nArgument and user experience\\n\\nOne final aspect of the game that I learned is that making the game obvious for your players goes a long way into making it fun. If you have to spend the longest time explaining things, your game is doing something wrong.\\n\\nAnd that’s exactly the problem Survival of the Tastiest ultimately faced. It’s very hard for people to understand what’s going on with the game, why, and how. I did have some introductory text at the beginning, but that was a last-minute thing. More importantly, I should have had a better interface or simplified the whole concept so it would be easier for people to understand.\\n\\nThat doesn’t mean the game itself should be simple. It just means that the experience and interface should be approachable and understandable.\\n\\nConclusion\\n\\nI’m extremely happy with what I’ve done and, especially given that this was my first Ludum Dare. However, I feel like I’ve learned a lot of what not to do.\\n\\nThe biggest problem is overscoping. Like Eric Decker said, the biggest lesson we can learn with this is probably with scoping – deciding what to do beforehand in a way you can complete it without having to rush and do something half-assed.\\n\\nI’m sure I will do more Ludum Dares in the future. But if there are any lessons I can take of it, they are to make it simple, to use frameworks and platforms you already have some absolute experience with (otherwise you’ll spend too much time trying to solve easy questions), and to scope for a game that you can complete in one day only (that way, you can actually take two days and make it cool).\\n\\nThis entry was posted\\non Monday, August 27th, 2012 at 10:54 am and is filed under LD #24.\\nYou can follow any responses to this entry through the RSS 2.0 feed.\\nYou can skip to the end and leave a response. Pinging is currently not allowed.\\n\\n3 Responses to ““Survival of the Tastiest” Post-mortem”\\n\\ndarn it , knowing that I missed your livestream makes me a sad panda ;( but more to the point, the game is … well for a startup its original to say the least ;D it has some really neat ideas and more importantly its designed arround touch screens whitch by the looks of the submission is something rare ;o or that could be just me and my short memory -_-! awesum game, love et <3'"
      ]
     },
     "execution_count": 16,
     "metadata": {},
     "output_type": "execute_result"
    }
   ],
   "source": [
    "text"
   ]
  },
  {
   "cell_type": "code",
   "execution_count": null,
   "id": "c3a3f51a",
   "metadata": {},
   "outputs": [],
   "source": []
  }
 ],
 "metadata": {
  "kernelspec": {
   "display_name": "Python 3 (ipykernel)",
   "language": "python",
   "name": "python3"
  },
  "language_info": {
   "codemirror_mode": {
    "name": "ipython",
    "version": 3
   },
   "file_extension": ".py",
   "mimetype": "text/x-python",
   "name": "python",
   "nbconvert_exporter": "python",
   "pygments_lexer": "ipython3",
   "version": "3.9.5"
  }
 },
 "nbformat": 4,
 "nbformat_minor": 5
}
