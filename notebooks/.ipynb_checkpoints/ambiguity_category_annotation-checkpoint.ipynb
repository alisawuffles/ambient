{
 "cells": [
  {
   "cell_type": "code",
   "execution_count": 1,
   "id": "ed2b8e0a",
   "metadata": {},
   "outputs": [
    {
     "name": "stdout",
     "output_type": "stream",
     "text": [
      "/mmfs1/gscratch/xlab/alisaliu/ambient\n"
     ]
    }
   ],
   "source": [
    "from pathlib import Path\n",
    "\n",
    "while Path.cwd().name != 'ambient':\n",
    "    %cd .."
   ]
  },
  {
   "cell_type": "code",
   "execution_count": 2,
   "id": "1bb3ffea",
   "metadata": {},
   "outputs": [],
   "source": [
    "import pandas as pd"
   ]
  },
  {
   "cell_type": "code",
   "execution_count": 3,
   "id": "f0d68439",
   "metadata": {},
   "outputs": [],
   "source": [
    "ambignli = pd.read_json('annotation/AmbiEnt/ambient_combined.jsonl', lines=True)\n",
    "ambiguous_df = ambignli[ambignli['premise_ambiguous'] | ambignli['hypothesis_ambiguous']]"
   ]
  },
  {
   "cell_type": "code",
   "execution_count": 4,
   "id": "e34f85c6",
   "metadata": {},
   "outputs": [],
   "source": [
    "ambiguous_df.sample(100).to_csv('analysis/ambiguous_examples_100.csv', index=False)"
   ]
  },
  {
   "cell_type": "code",
   "execution_count": 7,
   "id": "dd55f805",
   "metadata": {},
   "outputs": [],
   "source": [
    "small = ambiguous_df.sample(2)\n",
    "small"
   ]
  },
  {
   "cell_type": "code",
   "execution_count": null,
   "id": "48d0abf4",
   "metadata": {},
   "outputs": [],
   "source": [
    "small.to_csv('analysis/ambiguous_examples_2.csv', index=False)"
   ]
  }
 ],
 "metadata": {
  "kernelspec": {
   "display_name": "Python 3 (ipykernel)",
   "language": "python",
   "name": "python3"
  },
  "language_info": {
   "codemirror_mode": {
    "name": "ipython",
    "version": 3
   },
   "file_extension": ".py",
   "mimetype": "text/x-python",
   "name": "python",
   "nbconvert_exporter": "python",
   "pygments_lexer": "ipython3",
   "version": "3.9.5"
  }
 },
 "nbformat": 4,
 "nbformat_minor": 5
}
