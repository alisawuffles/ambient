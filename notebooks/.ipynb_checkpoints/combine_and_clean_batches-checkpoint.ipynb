{
 "cells": [
  {
   "cell_type": "code",
   "execution_count": 1,
   "id": "1cc678c0",
   "metadata": {},
   "outputs": [
    {
     "name": "stdout",
     "output_type": "stream",
     "text": [
      "/mmfs1/gscratch/xlab/alisaliu/ambignli\n"
     ]
    }
   ],
   "source": [
    "from pathlib import Path\n",
    "\n",
    "while Path.cwd().name != 'ambignli':\n",
    "    %cd .."
   ]
  },
  {
   "cell_type": "code",
   "execution_count": 32,
   "id": "38bdea24",
   "metadata": {},
   "outputs": [
    {
     "data": {
      "text/plain": [
       "'en_US'"
      ]
     },
     "execution_count": 32,
     "metadata": {},
     "output_type": "execute_result"
    }
   ],
   "source": [
    "import numpy as np\n",
    "import pandas as pd\n",
    "from utils.mturk_utils import read_batch, time_format\n",
    "import os\n",
    "import seaborn as sns\n",
    "from tqdm import tqdm\n",
    "import matplotlib.pyplot as plt\n",
    "from collections import Counter, defaultdict\n",
    "from datetime import datetime\n",
    "import math\n",
    "import locale\n",
    "locale.setlocale(locale.LC_TIME, 'en_US')"
   ]
  },
  {
   "cell_type": "code",
   "execution_count": 3,
   "id": "c5cc025d",
   "metadata": {},
   "outputs": [],
   "source": [
    "batches_dir = Path('annotation/batches')\n",
    "dirs = [d for d in os.listdir(batches_dir) if (os.path.isdir(batches_dir / d) and d.startswith('batch_'))]"
   ]
  },
  {
   "cell_type": "code",
   "execution_count": 4,
   "id": "a7ed8e74",
   "metadata": {},
   "outputs": [],
   "source": [
    "hits_per_annotator = Counter()\n",
    "batch_dfs = []\n",
    "\n",
    "for batch_dir in dirs:\n",
    "    batch_id = int(batch_dir.split('_')[-1])\n",
    "    batch_df = read_batch(batch_id)\n",
    "    batch_dfs.append(batch_df)\n",
    "    hits_per_annotator += batch_df.worker_id.value_counts()"
   ]
  },
  {
   "cell_type": "code",
   "execution_count": 5,
   "id": "ba534e8a",
   "metadata": {
    "scrolled": false
   },
   "outputs": [
    {
     "name": "stdout",
     "output_type": "stream",
     "text": [
      "Total annotations: 3221\n"
     ]
    },
    {
     "data": {
      "text/html": [
       "<div>\n",
       "<style scoped>\n",
       "    .dataframe tbody tr th:only-of-type {\n",
       "        vertical-align: middle;\n",
       "    }\n",
       "\n",
       "    .dataframe tbody tr th {\n",
       "        vertical-align: top;\n",
       "    }\n",
       "\n",
       "    .dataframe thead th {\n",
       "        text-align: right;\n",
       "    }\n",
       "</style>\n",
       "<table border=\"1\" class=\"dataframe\">\n",
       "  <thead>\n",
       "    <tr style=\"text-align: right;\">\n",
       "      <th></th>\n",
       "      <th>worker_id</th>\n",
       "      <th>submit_time</th>\n",
       "      <th>time_on_page</th>\n",
       "      <th>id</th>\n",
       "      <th>premise</th>\n",
       "      <th>hypothesis</th>\n",
       "      <th>feedback</th>\n",
       "      <th>premise1</th>\n",
       "      <th>premise2</th>\n",
       "      <th>premise3</th>\n",
       "      <th>premise4</th>\n",
       "      <th>hypothesis1</th>\n",
       "      <th>hypothesis2</th>\n",
       "      <th>hypothesis3</th>\n",
       "      <th>hypothesis4</th>\n",
       "      <th>q0_gold</th>\n",
       "      <th>q1_gold</th>\n",
       "      <th>q2_gold</th>\n",
       "      <th>q3_gold</th>\n",
       "    </tr>\n",
       "  </thead>\n",
       "  <tbody>\n",
       "    <tr>\n",
       "      <th>107</th>\n",
       "      <td>A15WACUALQNT90</td>\n",
       "      <td>2022-09-30 10:14:51</td>\n",
       "      <td>11.866</td>\n",
       "      <td>9928</td>\n",
       "      <td>There is no single answer to the question.</td>\n",
       "      <td>The answer to the question is 42.</td>\n",
       "      <td>{}</td>\n",
       "      <td>There is no single answer to the question.</td>\n",
       "      <td>There is no single answer to the question.</td>\n",
       "      <td>There is no single answer to the question.</td>\n",
       "      <td>There is no single answer to the question.</td>\n",
       "      <td>The answer to the question is 42.</td>\n",
       "      <td>The answer to the question is 42.</td>\n",
       "      <td>The answer to the question is 42.</td>\n",
       "      <td>The answer to the question is 42.</td>\n",
       "      <td>contradiction</td>\n",
       "      <td>nan</td>\n",
       "      <td>nan</td>\n",
       "      <td>nan</td>\n",
       "    </tr>\n",
       "    <tr>\n",
       "      <th>13</th>\n",
       "      <td>A15WACUALQNT90</td>\n",
       "      <td>2022-10-06 10:11:15</td>\n",
       "      <td>10.883</td>\n",
       "      <td>45737</td>\n",
       "      <td>I'll be there.</td>\n",
       "      <td>I'll be there for you.</td>\n",
       "      <td>{}</td>\n",
       "      <td>I'll be there.</td>\n",
       "      <td>I'll be there.</td>\n",
       "      <td>I'll be there.</td>\n",
       "      <td>I'll be there.</td>\n",
       "      <td>I'll be there for you.</td>\n",
       "      <td>I'll be there for you.</td>\n",
       "      <td>I'll be there for you.</td>\n",
       "      <td>I'll be there for you.</td>\n",
       "      <td>neutral</td>\n",
       "      <td>nan</td>\n",
       "      <td>nan</td>\n",
       "      <td>nan</td>\n",
       "    </tr>\n",
       "    <tr>\n",
       "      <th>213</th>\n",
       "      <td>A3SPV7CWJNSGKX</td>\n",
       "      <td>2022-09-29 17:35:57</td>\n",
       "      <td>120.856</td>\n",
       "      <td>16320</td>\n",
       "      <td>This is not to say that I do not like tennis.</td>\n",
       "      <td>I do not like tennis.</td>\n",
       "      <td>{}</td>\n",
       "      <td>This is not to say that I do not like tennis, ...</td>\n",
       "      <td>This is not to say that I do not like tennis, ...</td>\n",
       "      <td>This is not to say that I do not like tennis.</td>\n",
       "      <td>This is not to say that I do not like tennis.</td>\n",
       "      <td>I do not like tennis.</td>\n",
       "      <td>I do not like tennis.</td>\n",
       "      <td>I do not like tennis.</td>\n",
       "      <td>I do not like tennis.</td>\n",
       "      <td>neutral|contradiction</td>\n",
       "      <td>contradiction</td>\n",
       "      <td>neutral</td>\n",
       "      <td>nan</td>\n",
       "    </tr>\n",
       "  </tbody>\n",
       "</table>\n",
       "</div>"
      ],
      "text/plain": [
       "          worker_id         submit_time  time_on_page     id  \\\n",
       "107  A15WACUALQNT90 2022-09-30 10:14:51        11.866   9928   \n",
       "13   A15WACUALQNT90 2022-10-06 10:11:15        10.883  45737   \n",
       "213  A3SPV7CWJNSGKX 2022-09-29 17:35:57       120.856  16320   \n",
       "\n",
       "                                           premise  \\\n",
       "107     There is no single answer to the question.   \n",
       "13                                  I'll be there.   \n",
       "213  This is not to say that I do not like tennis.   \n",
       "\n",
       "                            hypothesis feedback  \\\n",
       "107  The answer to the question is 42.       {}   \n",
       "13              I'll be there for you.       {}   \n",
       "213              I do not like tennis.       {}   \n",
       "\n",
       "                                              premise1  \\\n",
       "107         There is no single answer to the question.   \n",
       "13                                      I'll be there.   \n",
       "213  This is not to say that I do not like tennis, ...   \n",
       "\n",
       "                                              premise2  \\\n",
       "107         There is no single answer to the question.   \n",
       "13                                      I'll be there.   \n",
       "213  This is not to say that I do not like tennis, ...   \n",
       "\n",
       "                                          premise3  \\\n",
       "107     There is no single answer to the question.   \n",
       "13                                  I'll be there.   \n",
       "213  This is not to say that I do not like tennis.   \n",
       "\n",
       "                                          premise4  \\\n",
       "107     There is no single answer to the question.   \n",
       "13                                  I'll be there.   \n",
       "213  This is not to say that I do not like tennis.   \n",
       "\n",
       "                           hypothesis1                        hypothesis2  \\\n",
       "107  The answer to the question is 42.  The answer to the question is 42.   \n",
       "13              I'll be there for you.             I'll be there for you.   \n",
       "213              I do not like tennis.              I do not like tennis.   \n",
       "\n",
       "                           hypothesis3                        hypothesis4  \\\n",
       "107  The answer to the question is 42.  The answer to the question is 42.   \n",
       "13              I'll be there for you.             I'll be there for you.   \n",
       "213              I do not like tennis.              I do not like tennis.   \n",
       "\n",
       "                   q0_gold        q1_gold  q2_gold q3_gold  \n",
       "107          contradiction            nan      nan     nan  \n",
       "13                 neutral            nan      nan     nan  \n",
       "213  neutral|contradiction  contradiction  neutral     nan  "
      ]
     },
     "execution_count": 5,
     "metadata": {},
     "output_type": "execute_result"
    }
   ],
   "source": [
    "annotations_df = pd.concat(batch_dfs)\n",
    "print(f'Total annotations: {len(annotations_df)}')\n",
    "annotations_df.sample(3)"
   ]
  },
  {
   "cell_type": "code",
   "execution_count": 29,
   "id": "a59539db",
   "metadata": {},
   "outputs": [
    {
     "data": {
      "text/plain": [
       "26"
      ]
     },
     "execution_count": 29,
     "metadata": {},
     "output_type": "execute_result"
    }
   ],
   "source": [
    "annotations_df.to_json('annotation/ambignli/annotated_examples.jsonl', lines=True, orient='records')"
   ]
  },
  {
   "cell_type": "code",
   "execution_count": null,
   "id": "db45b5be",
   "metadata": {},
   "outputs": [],
   "source": [
    "ambignli = clean_batch(annotations_df)\n",
    "ambignli"
   ]
  },
  {
   "cell_type": "code",
   "execution_count": null,
   "id": "c19b7dc3",
   "metadata": {},
   "outputs": [],
   "source": [
    "pd.DataFrame(example_rows).to_json('annotation/ambignli/cleaned_examples.jsonl', lines=True, orient='records')"
   ]
  },
  {
   "cell_type": "code",
   "execution_count": 26,
   "id": "46eb4ee3",
   "metadata": {},
   "outputs": [],
   "source": [
    "example_rows = []\n",
    "for _, example_df in annotations_df.groupby('id'):\n",
    "    annotations = example_df['q0_gold'].tolist()\n",
    "    if 'discard' in ' '.join(annotations):\n",
    "        continue\n",
    "    worker_ids = example_df['worker_id'].tolist()\n",
    "    example_id, premise, hypothesis = example_df.iloc[0].id, example_df.iloc[0].premise, example_df.iloc[0].hypothesis\n",
    "    \n",
    "    rewrites = defaultdict(list)\n",
    "    for _, row in example_df.iterrows():\n",
    "        if '|' in row['q0_gold']:\n",
    "            for i in range(1, 5):\n",
    "                if f'q{i}_gold' in row and not check_nan(row[f'q{i}_gold']):\n",
    "                    rewrites[row[f'q{i}_gold']].append({\n",
    "                        'premise': row[f'premise{i}'],\n",
    "                        'hypothesis': row[f'hypothesis{i}']\n",
    "                    })\n",
    "                \n",
    "    example_rows.append({\n",
    "        'id': example_id,\n",
    "        'worker_ids': worker_ids,\n",
    "        'premise': premise,\n",
    "        'hypothesis': hypothesis,\n",
    "        'annotations': annotations,\n",
    "        'disambiguations': rewrites\n",
    "    })"
   ]
  },
  {
   "cell_type": "code",
   "execution_count": 27,
   "id": "c365e576",
   "metadata": {},
   "outputs": [],
   "source": [
    "pd.DataFrame(example_rows).to_json('annotation/ambignli/annotated_examples.jsonl', lines=True, orient='records')"
   ]
  },
  {
   "cell_type": "code",
   "execution_count": null,
   "id": "93a9d7da",
   "metadata": {},
   "outputs": [],
   "source": [
    "fig, ax = plt.subplots()\n",
    "times = annotations_df.time_on_page.tolist()\n",
    "# annotations_df['submit_time'] = [datetime.strptime(t, time_format) for t in annotations_df['submit_time'].tolist()]\n",
    "annotations_df['submit_day'] = [t.date() for t in annotations_df['submit_time']]\n",
    "sns.histplot(times, kde=True)\n",
    "ax.set_xlim(left=0, right=200)\n",
    "ax.set_xlabel('Time per example (sec)')\n",
    "\n",
    "# p75 for seconds per example * $20/hour * \n",
    "p = 55\n",
    "seconds_in_hour = 60*60\n",
    "time_per_example = np.percentile(times, p)\n",
    "print(f'p{p} time per example: {time_per_example}')\n",
    "goal_pay_per_second = 20/seconds_in_hour\n",
    "print(time_per_example * goal_pay_per_second)   # calculated pay per example\n",
    "\n",
    "pay_per_example = 0.25\n",
    "print(pay_per_example * 1/time_per_example * seconds_in_hour) # empirical pay per example"
   ]
  },
  {
   "cell_type": "code",
   "execution_count": null,
   "id": "cdf4d0dc",
   "metadata": {},
   "outputs": [],
   "source": [
    "fig, ax = plt.subplots()\n",
    "sns.boxplot(data=annotations_df, x='submit_day', y='time_on_page')\n",
    "ax.set_ylim(bottom=0, top=200)\n",
    "ax.set_xlabel('Date')\n",
    "ax.set_ylabel('Time on page (sec)')\n",
    "plt.xticks(rotation=45)"
   ]
  },
  {
   "cell_type": "code",
   "execution_count": 45,
   "id": "457ecedf",
   "metadata": {},
   "outputs": [],
   "source": [
    "def validate(row):\n",
    "    premise, hypothesis = row['premise'], row['hypothesis']\n",
    "    if '|' in row['q0_gold']:\n",
    "        num_premise_revisions = 0\n",
    "        num_hypothesis_revisions = 0\n",
    "        for i in range(1, 5):\n",
    "            if f'q{i}_gold' in row and not check_nan(row[f'q{i}_gold']):\n",
    "                if row[f'premise{i}'] != premise:\n",
    "                    num_premise_revisions += 1\n",
    "                if row[f'hypothesis{i}'] != hypothesis:\n",
    "                    num_hypothesis_revisions += 1\n",
    "        if num_premise_revisions == 1 or num_hypothesis_revisions == 1:\n",
    "            return False\n",
    "    return True"
   ]
  },
  {
   "cell_type": "code",
   "execution_count": 46,
   "id": "d5eab5a9",
   "metadata": {},
   "outputs": [
    {
     "name": "stderr",
     "output_type": "stream",
     "text": [
      "3221it [00:00, 21346.93it/s]\n"
     ]
    }
   ],
   "source": [
    "bad_rows = 0\n",
    "for i, row in tqdm(annotations_df.iterrows()):\n",
    "    if not validate(row):\n",
    "        bad_rows += 1"
   ]
  },
  {
   "cell_type": "code",
   "execution_count": null,
   "id": "f27dbdda",
   "metadata": {},
   "outputs": [],
   "source": []
  }
 ],
 "metadata": {
  "kernelspec": {
   "display_name": "Python 3 (ipykernel)",
   "language": "python",
   "name": "python3"
  },
  "language_info": {
   "codemirror_mode": {
    "name": "ipython",
    "version": 3
   },
   "file_extension": ".py",
   "mimetype": "text/x-python",
   "name": "python",
   "nbconvert_exporter": "python",
   "pygments_lexer": "ipython3",
   "version": "3.9.5"
  }
 },
 "nbformat": 4,
 "nbformat_minor": 5
}
