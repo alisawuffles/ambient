{
 "cells": [
  {
   "cell_type": "code",
   "execution_count": 1,
   "id": "bc6e74ab",
   "metadata": {},
   "outputs": [
    {
     "name": "stdout",
     "output_type": "stream",
     "text": [
      "/mmfs1/gscratch/xlab/alisaliu/ambignli\n"
     ]
    }
   ],
   "source": [
    "from pathlib import Path\n",
    "\n",
    "while Path.cwd().name != 'ambignli':\n",
    "    %cd .."
   ]
  },
  {
   "cell_type": "code",
   "execution_count": 25,
   "id": "57e022d8",
   "metadata": {},
   "outputs": [],
   "source": [
    "import pandas as pd\n",
    "from tqdm import tqdm"
   ]
  },
  {
   "cell_type": "code",
   "execution_count": 29,
   "id": "e0195992",
   "metadata": {},
   "outputs": [],
   "source": [
    "test_df = pd.read_json('../wanli/data/wanli/test.jsonl', lines=True)\n",
    "annotations_df = pd.read_json('../wanli/data/wanli/anonymized_annotations.jsonl', lines=True)"
   ]
  },
  {
   "cell_type": "code",
   "execution_count": 30,
   "id": "3546c347",
   "metadata": {},
   "outputs": [
    {
     "name": "stderr",
     "output_type": "stream",
     "text": [
      "100%|██████████| 5000/5000 [00:02<00:00, 1936.14it/s]\n"
     ]
    }
   ],
   "source": [
    "test_disagree = []\n",
    "for i, row in tqdm(test_df.iterrows(), total=len(test_df.index)):\n",
    "    annotations = set(annotations_df.loc[annotations_df['id'] == row['id']].gold.tolist())\n",
    "    if len(annotations) > 1:\n",
    "        disagree_row = row.to_dict().copy()\n",
    "        disagree_row['annotations'] = annotations\n",
    "        test_disagree.append(disagree_row)"
   ]
  },
  {
   "cell_type": "code",
   "execution_count": 33,
   "id": "77420878",
   "metadata": {},
   "outputs": [
    {
     "data": {
      "text/html": [
       "<div>\n",
       "<style scoped>\n",
       "    .dataframe tbody tr th:only-of-type {\n",
       "        vertical-align: middle;\n",
       "    }\n",
       "\n",
       "    .dataframe tbody tr th {\n",
       "        vertical-align: top;\n",
       "    }\n",
       "\n",
       "    .dataframe thead th {\n",
       "        text-align: right;\n",
       "    }\n",
       "</style>\n",
       "<table border=\"1\" class=\"dataframe\">\n",
       "  <thead>\n",
       "    <tr style=\"text-align: right;\">\n",
       "      <th></th>\n",
       "      <th>id</th>\n",
       "      <th>premise</th>\n",
       "      <th>hypothesis</th>\n",
       "      <th>annotations</th>\n",
       "    </tr>\n",
       "  </thead>\n",
       "  <tbody>\n",
       "    <tr>\n",
       "      <th>0</th>\n",
       "      <td>88755</td>\n",
       "      <td>There is a persistent myth that the Egyptian m...</td>\n",
       "      <td>The Egyptian military was involved in the assa...</td>\n",
       "      <td>{neutral, contradiction}</td>\n",
       "    </tr>\n",
       "    <tr>\n",
       "      <th>1</th>\n",
       "      <td>270193</td>\n",
       "      <td>The party of the proletariat is the party of t...</td>\n",
       "      <td>The party of the proletariat is the party of t...</td>\n",
       "      <td>{entailment, neutral}</td>\n",
       "    </tr>\n",
       "    <tr>\n",
       "      <th>2</th>\n",
       "      <td>164269</td>\n",
       "      <td>If you're a good swimmer, it's a good idea to ...</td>\n",
       "      <td>The shallow end of the pool is good for swimming.</td>\n",
       "      <td>{entailment, neutral}</td>\n",
       "    </tr>\n",
       "    <tr>\n",
       "      <th>3</th>\n",
       "      <td>227592</td>\n",
       "      <td>He went on to say that if the government were ...</td>\n",
       "      <td>The money saved would be enough to increase th...</td>\n",
       "      <td>{entailment, neutral}</td>\n",
       "    </tr>\n",
       "    <tr>\n",
       "      <th>4</th>\n",
       "      <td>238645</td>\n",
       "      <td>This is not to say that the national security ...</td>\n",
       "      <td>The national security apparatus is not to blam...</td>\n",
       "      <td>{entailment, neutral}</td>\n",
       "    </tr>\n",
       "    <tr>\n",
       "      <th>...</th>\n",
       "      <td>...</td>\n",
       "      <td>...</td>\n",
       "      <td>...</td>\n",
       "      <td>...</td>\n",
       "    </tr>\n",
       "    <tr>\n",
       "      <th>1336</th>\n",
       "      <td>116694</td>\n",
       "      <td>Although a high-profile arrest was a good move...</td>\n",
       "      <td>The authorities were careful not to overreact.</td>\n",
       "      <td>{entailment, neutral}</td>\n",
       "    </tr>\n",
       "    <tr>\n",
       "      <th>1337</th>\n",
       "      <td>258933</td>\n",
       "      <td>It is clear that the key to this is the develo...</td>\n",
       "      <td>A broad base of support is necessary for a mov...</td>\n",
       "      <td>{entailment, neutral}</td>\n",
       "    </tr>\n",
       "    <tr>\n",
       "      <th>1338</th>\n",
       "      <td>286098</td>\n",
       "      <td>The recent rise of Asian and European immigran...</td>\n",
       "      <td>Melting pot is a cooking method.</td>\n",
       "      <td>{neutral, contradiction}</td>\n",
       "    </tr>\n",
       "    <tr>\n",
       "      <th>1339</th>\n",
       "      <td>167284</td>\n",
       "      <td>The sultan's scimitar gleamed as it arced thro...</td>\n",
       "      <td>The scimitar was as bright as the sun.</td>\n",
       "      <td>{entailment, neutral}</td>\n",
       "    </tr>\n",
       "    <tr>\n",
       "      <th>1340</th>\n",
       "      <td>245251</td>\n",
       "      <td>The survey indicates that, for many, the main ...</td>\n",
       "      <td>Opportunity is not a problem for many.</td>\n",
       "      <td>{neutral, contradiction}</td>\n",
       "    </tr>\n",
       "  </tbody>\n",
       "</table>\n",
       "<p>1341 rows × 4 columns</p>\n",
       "</div>"
      ],
      "text/plain": [
       "          id                                            premise  \\\n",
       "0      88755  There is a persistent myth that the Egyptian m...   \n",
       "1     270193  The party of the proletariat is the party of t...   \n",
       "2     164269  If you're a good swimmer, it's a good idea to ...   \n",
       "3     227592  He went on to say that if the government were ...   \n",
       "4     238645  This is not to say that the national security ...   \n",
       "...      ...                                                ...   \n",
       "1336  116694  Although a high-profile arrest was a good move...   \n",
       "1337  258933  It is clear that the key to this is the develo...   \n",
       "1338  286098  The recent rise of Asian and European immigran...   \n",
       "1339  167284  The sultan's scimitar gleamed as it arced thro...   \n",
       "1340  245251  The survey indicates that, for many, the main ...   \n",
       "\n",
       "                                             hypothesis  \\\n",
       "0     The Egyptian military was involved in the assa...   \n",
       "1     The party of the proletariat is the party of t...   \n",
       "2     The shallow end of the pool is good for swimming.   \n",
       "3     The money saved would be enough to increase th...   \n",
       "4     The national security apparatus is not to blam...   \n",
       "...                                                 ...   \n",
       "1336     The authorities were careful not to overreact.   \n",
       "1337  A broad base of support is necessary for a mov...   \n",
       "1338                   Melting pot is a cooking method.   \n",
       "1339             The scimitar was as bright as the sun.   \n",
       "1340             Opportunity is not a problem for many.   \n",
       "\n",
       "                   annotations  \n",
       "0     {neutral, contradiction}  \n",
       "1        {entailment, neutral}  \n",
       "2        {entailment, neutral}  \n",
       "3        {entailment, neutral}  \n",
       "4        {entailment, neutral}  \n",
       "...                        ...  \n",
       "1336     {entailment, neutral}  \n",
       "1337     {entailment, neutral}  \n",
       "1338  {neutral, contradiction}  \n",
       "1339     {entailment, neutral}  \n",
       "1340  {neutral, contradiction}  \n",
       "\n",
       "[1341 rows x 4 columns]"
      ]
     },
     "execution_count": 33,
     "metadata": {},
     "output_type": "execute_result"
    }
   ],
   "source": [
    "pd.DataFrame(test_disagree)[['id', 'premise', 'hypothesis', 'annotations']].to_csv('annotation/wanli_test/examples.csv', index=False)"
   ]
  },
  {
   "cell_type": "code",
   "execution_count": null,
   "id": "83df349a",
   "metadata": {},
   "outputs": [],
   "source": []
  }
 ],
 "metadata": {
  "kernelspec": {
   "display_name": "Python 3 (ipykernel)",
   "language": "python",
   "name": "python3"
  },
  "language_info": {
   "codemirror_mode": {
    "name": "ipython",
    "version": 3
   },
   "file_extension": ".py",
   "mimetype": "text/x-python",
   "name": "python",
   "nbconvert_exporter": "python",
   "pygments_lexer": "ipython3",
   "version": "3.9.5"
  }
 },
 "nbformat": 4,
 "nbformat_minor": 5
}
