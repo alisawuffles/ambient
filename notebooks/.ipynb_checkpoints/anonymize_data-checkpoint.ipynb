{
 "cells": [
  {
   "cell_type": "code",
   "execution_count": 7,
   "id": "c8421508",
   "metadata": {},
   "outputs": [],
   "source": [
    "from pathlib import Path\n",
    "\n",
    "while Path.cwd().name != 'ambient':\n",
    "    %cd '..'"
   ]
  },
  {
   "cell_type": "code",
   "execution_count": 13,
   "id": "d5f6b111",
   "metadata": {},
   "outputs": [],
   "source": [
    "import pandas as pd\n",
    "import json\n",
    "import random\n",
    "import string\n",
    "from utils.utils import flatten_list_of_lists"
   ]
  },
  {
   "cell_type": "code",
   "execution_count": 10,
   "id": "3f2078ce",
   "metadata": {},
   "outputs": [],
   "source": [
    "df = pd.read_json('AmbiEnt/linguist_annotated_examples.jsonl', lines=True)"
   ]
  },
  {
   "cell_type": "code",
   "execution_count": 20,
   "id": "cf42de8e",
   "metadata": {
    "scrolled": true
   },
   "outputs": [],
   "source": [
    "worker_ids = flatten_list_of_lists([worker_ids for worker_ids in df.worker_ids])\n",
    "worker_id_to_alias = {w: ''.join(random.choice(string.ascii_uppercase) for i in range(3)) for w in set(worker_ids)}\n",
    "assert len(set(worker_id_to_alias.values())) == len(set(worker_id_to_alias.keys()))"
   ]
  },
  {
   "cell_type": "code",
   "execution_count": 22,
   "id": "4e2d1dd8",
   "metadata": {},
   "outputs": [],
   "source": [
    "df['worker_ids'] = [[worker_id_to_alias[w] for w in workers] for workers in df['worker_ids']]"
   ]
  },
  {
   "cell_type": "code",
   "execution_count": 24,
   "id": "98ce9159",
   "metadata": {},
   "outputs": [],
   "source": [
    "df.to_json('../ambient-public/AmbiEnt/linguist_annotations.jsonl', lines=True, orient='records')"
   ]
  },
  {
   "cell_type": "code",
   "execution_count": 31,
   "id": "ed870d7c",
   "metadata": {},
   "outputs": [],
   "source": [
    "df = pd.read_json('AmbiEnt/test.jsonl', lines=True)\n",
    "df.drop('meta', axis=1).to_json('../ambient-public/AmbiEnt/test.jsonl', lines=True, orient='records')"
   ]
  },
  {
   "cell_type": "code",
   "execution_count": 36,
   "id": "141d1846",
   "metadata": {},
   "outputs": [],
   "source": [
    "df = pd.read_csv('AmbiEnt/category_annotations.csv')\n",
    "df.drop(['zfw', 'meta'], axis=1).to_json('../ambient-public/AmbiEnt/analysis/category_annotations.jsonl', lines=True, orient='records')"
   ]
  },
  {
   "cell_type": "code",
   "execution_count": null,
   "id": "ab548af4",
   "metadata": {},
   "outputs": [],
   "source": []
  }
 ],
 "metadata": {
  "kernelspec": {
   "display_name": "Python 3 (ipykernel)",
   "language": "python",
   "name": "python3"
  },
  "language_info": {
   "codemirror_mode": {
    "name": "ipython",
    "version": 3
   },
   "file_extension": ".py",
   "mimetype": "text/x-python",
   "name": "python",
   "nbconvert_exporter": "python",
   "pygments_lexer": "ipython3",
   "version": "3.9.5"
  }
 },
 "nbformat": 4,
 "nbformat_minor": 5
}
