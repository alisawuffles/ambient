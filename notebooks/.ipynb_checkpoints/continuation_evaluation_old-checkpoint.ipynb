{
 "cells": [
  {
   "cell_type": "code",
   "execution_count": 1,
   "id": "6f46d749",
   "metadata": {},
   "outputs": [
    {
     "name": "stdout",
     "output_type": "stream",
     "text": [
      "/mmfs1/gscratch/xlab/alisaliu/ambignli\n"
     ]
    }
   ],
   "source": [
    "from pathlib import Path\n",
    "\n",
    "while Path.cwd().name != 'ambignli':\n",
    "    %cd .."
   ]
  },
  {
   "cell_type": "code",
   "execution_count": 2,
   "id": "26f05242",
   "metadata": {},
   "outputs": [],
   "source": [
    "import pandas as pd\n",
    "import numpy as np\n",
    "from tqdm import tqdm\n",
    "from generation.gpt3_generation import request\n",
    "from transformers import RobertaTokenizer, RobertaForSequenceClassification\n",
    "from utils.utils import predict_nli, strip_punctuation_and_casing\n",
    "import openai\n",
    "import truecase\n",
    "import string\n",
    "from sklearn.metrics import f1_score\n",
    "from evaluation.evaluate_disambiguation_ranking import ranking_evaluation\n",
    "from evaluation.pmi import cross_entropy\n",
    "from evaluation.evaluate_disambiguation_generative import generative_evaluation\n",
    "from evaluation.evaluate_disambiguation_continuation import continuation_evaluation\n",
    "from evaluation.edit_f1 import get_edit_f1\n",
    "import itertools\n",
    "import seaborn as sns\n",
    "import matplotlib.pyplot as plt\n",
    "import random"
   ]
  },
  {
   "cell_type": "code",
   "execution_count": 3,
   "id": "411568b8",
   "metadata": {},
   "outputs": [
    {
     "name": "stdout",
     "output_type": "stream",
     "text": [
      "He threatened a woman with a knife.\n",
      "['Using a knife, he threatened a woman.', 'He threatened a woman who had a knife.']\n"
     ]
    }
   ],
   "source": [
    "ambiguous_sent = \"He threatened a woman with a knife.\"\n",
    "disambiguations = [\n",
    "    \"Using a knife, he threatened a woman.\", \n",
    "    \"He threatened a woman who had a knife.\"\n",
    "]\n",
    "print(ambiguous_sent)\n",
    "print(disambiguations)"
   ]
  },
  {
   "cell_type": "code",
   "execution_count": 9,
   "id": "bf640487",
   "metadata": {},
   "outputs": [
    {
     "name": "stdout",
     "output_type": "stream",
     "text": [
      "Using a knife, he threatened a woman.\n"
     ]
    },
    {
     "name": "stderr",
     "output_type": "stream",
     "text": [
      "100%|██████████| 10/10 [00:26<00:00,  2.64s/it]\n"
     ]
    },
    {
     "name": "stdout",
     "output_type": "stream",
     "text": [
      "['He then demanded her car keys and cell phone.', 'She was injured, but not seriously. He also attacked a second woman.', 'He demanded her purse and a man who was with her gave it to him.']\n",
      "He threatened a woman who had a knife.\n"
     ]
    },
    {
     "name": "stderr",
     "output_type": "stream",
     "text": [
      "100%|██████████| 10/10 [00:31<00:00,  3.11s/it]"
     ]
    },
    {
     "name": "stdout",
     "output_type": "stream",
     "text": [
      "['He was shot. End of story.', 'He’s got a knife. He’s going to stab her. He’s going to stab her.”', \"He threw a chair at her. He was taunting her. He was saying, 'I'm going to kill you. I'm going to stab you.' He was threatening her with the knife. He was threatening her with the chair. He was threatening her with a hammer.\"]\n"
     ]
    },
    {
     "name": "stderr",
     "output_type": "stream",
     "text": [
      "\n"
     ]
    }
   ],
   "source": [
    "generations_dict = {}\n",
    "for disambiguation in disambiguations:\n",
    "    print(disambiguation)\n",
    "    generations = []\n",
    "    for i in tqdm(range(10)):\n",
    "        gens = request(\n",
    "            prompt=disambiguation,\n",
    "            model='davinci',\n",
    "            stop='\\n',\n",
    "            return_only_text=True,\n",
    "            top_p=0.6,\n",
    "            n=100\n",
    "        )\n",
    "        generations.extend([g for g in gens if len(g)>5])\n",
    "    generations_dict[disambiguation] = generations\n",
    "    print(random.sample(generations, 3))"
   ]
  },
  {
   "cell_type": "code",
   "execution_count": 11,
   "id": "43bdccab",
   "metadata": {},
   "outputs": [],
   "source": [
    "gens = request(\n",
    "    prompt=disambiguation,\n",
    "    model='davinci',\n",
    "    stop='\\n',\n",
    "    return_only_text=True,\n",
    "    top_p=0.6,\n",
    "    n=1\n",
    ")\n",
    "gens"
   ]
  },
  {
   "cell_type": "code",
   "execution_count": 10,
   "id": "5acdfa39",
   "metadata": {},
   "outputs": [
    {
     "name": "stdout",
     "output_type": "stream",
     "text": [
      "386\n"
     ]
    }
   ],
   "source": [
    "num_continuations = min([len(gens) for gens in generations_dict.values()])\n",
    "print(num_continuations)\n",
    "\n",
    "for disambiguation, continuations in generations_dict.items():\n",
    "    generations_dict[disambiguation] = random.sample(continuations, num_continuations)"
   ]
  },
  {
   "cell_type": "code",
   "execution_count": 6,
   "id": "044a19c6",
   "metadata": {},
   "outputs": [
    {
     "name": "stdout",
     "output_type": "stream",
     "text": [
      "Using a knife, he threatened a woman. She was able to get away and called police. The suspect fled the scene before officers arrived.\n",
      "He threatened a woman who had a knife. ”\n"
     ]
    }
   ],
   "source": [
    "for disambiguation, continuations in generations_dict.items():\n",
    "    print(disambiguation + ' ' + random.sample(continuations, 1)[0])\n",
    "    \n",
    "    ce_r = cross_entropy(\n",
    "        [disambiguation]*num_continuations,\n",
    "        [' '+g for g in continuations],\n",
    "        engine='davinci'\n",
    "    )\n",
    "    \n",
    "    ce_ambig = cross_entropy(\n",
    "        [ambiguous_sent]*num_continuations,\n",
    "        [' '+g for g in continuations],\n",
    "        engine='davinci'\n",
    "    )\n",
    "    \n",
    "    generations_dict[disambiguation] = [\n",
    "        {'generation': g, 'ce_r': x, 'ce_ambig': y, 'pmi_ambig': x-y} for g,x,y in zip(continuations, ce_r, ce_ambig)\n",
    "    ]"
   ]
  },
  {
   "cell_type": "code",
   "execution_count": null,
   "id": "f9d4981a",
   "metadata": {},
   "outputs": [],
   "source": [
    "# how well does a LM with ambiguous context model the continuation?\n",
    "# ce_no_cond = cross_entropy(  # no conditioning\n",
    "#     ['']*(num_continuations*2),\n",
    "#     [' '+g for g in generations1 + generations2],\n",
    "#     engine='davinci'\n",
    "# )\n",
    "\n",
    "# CE when given ambiguous context\n",
    "ce_ambig = cross_entropy(\n",
    "    [ambiguous_sent]*(num_continuations*2),\n",
    "    [' '+g for g in generations1 + generations2],\n",
    "    engine='davinci'\n",
    ")\n",
    "\n",
    "# how much worse does LM model continuation when given ambiguous context? numbers should be mostly negative\n",
    "ce_r1 = cross_entropy(\n",
    "    [disambiguations[0]]*(num_continuations*2),\n",
    "    [' '+g for g in generations1 + generations2],\n",
    "    engine='davinci'\n",
    ")\n",
    "\n",
    "ce_r2 = cross_entropy(\n",
    "    [disambiguations[1]]*(num_continuations*2),\n",
    "    [' '+g for g in generations1 + generations2],\n",
    "    engine='davinci'\n",
    ")\n",
    "# r1_gen_dict = {\n",
    "#     g: {'ce_r1': x, 'ce_r2': y, 'pmi_ambig': x-z} for g,x,y,z in zip(generations1, ce_r1, ce_r2, ce_ambig)\n",
    "# }\n",
    "\n",
    "# r2_gen_dict = {\n",
    "#     g: {'ce_r1': x, 'ce_r2': y, 'pmi_ambig': y-z} for g,x,y,z in zip(generations2[::-1], ce_r1[::-1], ce_r2[::-1], ce_ambig[::-1])\n",
    "# }\n",
    "\n",
    "# r1_gen_dict = {\n",
    "#     g: {'pmi_ambig': x-z} for g,x,z in zip(generations1, ce_no_cond, ce_ambig)\n",
    "# }\n",
    "\n",
    "# r2_gen_dict = {\n",
    "#     g: {'pmi_ambig': x-z} for g,x,z in zip(generations2[::-1], ce_no_cond[::-1], ce_ambig[::-1])\n",
    "# }"
   ]
  },
  {
   "cell_type": "code",
   "execution_count": null,
   "id": "eafee1ac",
   "metadata": {},
   "outputs": [],
   "source": [
    "x1 = [x-z for g,x,z in zip(generations1, ce_r1, ce_ambig)]\n",
    "x2 = [y-z for g,y,z in zip(generations2[::-1], ce_r2[::-1], ce_ambig[::-1])]"
   ]
  },
  {
   "cell_type": "code",
   "execution_count": null,
   "id": "572f68cb",
   "metadata": {},
   "outputs": [],
   "source": [
    "x = [v['pmi_ambig'] for k,v in r1_gen_dict.items()]\n",
    "y = [v['pmi_ambig'] for k,v in r2_gen_dict.items()]"
   ]
  },
  {
   "cell_type": "code",
   "execution_count": null,
   "id": "0a63d4d3",
   "metadata": {},
   "outputs": [],
   "source": [
    "fig, ax = plt.subplots()\n",
    "sns.histplot(x1, label='Generations from r1', color=sns.color_palette('muted')[0], kde=True, stat='density')\n",
    "sns.histplot(x2, label='Generations from r2', color=sns.color_palette('muted')[1], kde=True, stat='density')\n",
    "ax.legend()\n",
    "ax.set_xlabel('PMI, using the disambiguation as the domain stem')\n",
    "plt.gcf().set_dpi(300)\n",
    "plt.show()"
   ]
  },
  {
   "cell_type": "code",
   "execution_count": 7,
   "id": "0fde46c6",
   "metadata": {},
   "outputs": [
    {
     "data": {
      "image/png": "[encoded data removed]",
      "text/plain": [
       "<Figure size 432x288 with 1 Axes>"
      ]
     },
     "metadata": {
      "needs_background": "light"
     },
     "output_type": "display_data"
    }
   ],
   "source": [
    "fig, ax = plt.subplots()\n",
    "for i, (disambiguation, continuations) in enumerate(generations_dict.items()):\n",
    "    x = [c['pmi_ambig'] for c in continuations]\n",
    "    sns.histplot(x, label=f'Generations from r{i+1}', color=sns.color_palette('muted')[i], kde=True, stat='density')"
   ]
  },
  {
   "cell_type": "code",
   "execution_count": null,
   "id": "eb5b1e3d",
   "metadata": {},
   "outputs": [],
   "source": []
  }
 ],
 "metadata": {
  "kernelspec": {
   "display_name": "Python 3 (ipykernel)",
   "language": "python",
   "name": "python3"
  },
  "language_info": {
   "codemirror_mode": {
    "name": "ipython",
    "version": 3
   },
   "file_extension": ".py",
   "mimetype": "text/x-python",
   "name": "python",
   "nbconvert_exporter": "python",
   "pygments_lexer": "ipython3",
   "version": "3.9.5"
  }
 },
 "nbformat": 4,
 "nbformat_minor": 5
}
