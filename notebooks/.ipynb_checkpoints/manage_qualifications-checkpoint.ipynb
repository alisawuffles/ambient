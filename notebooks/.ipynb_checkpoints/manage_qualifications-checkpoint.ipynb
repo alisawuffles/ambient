{
 "cells": [
  {
   "cell_type": "code",
   "execution_count": 1,
   "id": "f37428d0",
   "metadata": {},
   "outputs": [
    {
     "name": "stdout",
     "output_type": "stream",
     "text": [
      "/mmfs1/gscratch/xlab/alisaliu/ambignli\n"
     ]
    }
   ],
   "source": [
    "from pathlib import Path\n",
    "\n",
    "while Path.cwd().name != 'ambignli':\n",
    "    %cd .."
   ]
  },
  {
   "cell_type": "code",
   "execution_count": 2,
   "id": "ad8cf684",
   "metadata": {},
   "outputs": [],
   "source": [
    "import numpy as np\n",
    "import pandas as pd"
   ]
  },
  {
   "cell_type": "code",
   "execution_count": 10,
   "id": "60d41326",
   "metadata": {},
   "outputs": [
    {
     "data": {
      "text/plain": [
       "Index(['Name', 'Legal name', 'Email', 'SSN', 'Worker ID',\n",
       "       'U.S. citizen, Green Card holder, or resident for tax purposes?',\n",
       "       'Attended info session?', 'Qual-ed?', 'Checked pilot annotations?',\n",
       "       'Notes'],\n",
       "      dtype='object')"
      ]
     },
     "execution_count": 10,
     "metadata": {},
     "output_type": "execute_result"
    }
   ],
   "source": [
    "qual_id = '3P6HPTAPTB78J37QE72VCC16QKDFPI'\n",
    "participants_df = pd.read_csv('annotation/annotator_info/participants.csv')\n",
    "participants_df.columns"
   ]
  },
  {
   "cell_type": "code",
   "execution_count": 15,
   "id": "6825c4b6",
   "metadata": {},
   "outputs": [],
   "source": [
    "worker_info = []\n",
    "for worker_id in participants_df['Worker ID'].tolist():\n",
    "    if type(worker_id) == str:\n",
    "        worker_info.append({\n",
    "            'qualification_id': qual_id,\n",
    "            'worker_id': worker_id,\n",
    "            'integer_value': 1,\n",
    "        })"
   ]
  },
  {
   "cell_type": "code",
   "execution_count": 16,
   "id": "98f94f6a",
   "metadata": {},
   "outputs": [],
   "source": [
    "pd.DataFrame(worker_info).to_csv('annotation/workers.csv', index=False)"
   ]
  },
  {
   "cell_type": "code",
   "execution_count": null,
   "id": "3c5b65da",
   "metadata": {},
   "outputs": [],
   "source": []
  }
 ],
 "metadata": {
  "kernelspec": {
   "display_name": "Python 3 (ipykernel)",
   "language": "python",
   "name": "python3"
  },
  "language_info": {
   "codemirror_mode": {
    "name": "ipython",
    "version": 3
   },
   "file_extension": ".py",
   "mimetype": "text/x-python",
   "name": "python",
   "nbconvert_exporter": "python",
   "pygments_lexer": "ipython3",
   "version": "3.9.5"
  }
 },
 "nbformat": 4,
 "nbformat_minor": 5
}
