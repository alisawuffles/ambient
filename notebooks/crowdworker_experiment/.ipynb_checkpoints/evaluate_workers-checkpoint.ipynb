{
 "cells": [
  {
   "cell_type": "code",
   "execution_count": 1,
   "id": "f1b667ad",
   "metadata": {},
   "outputs": [
    {
     "name": "stdout",
     "output_type": "stream",
     "text": [
      "/mmfs1/gscratch/xlab/alisaliu/ambient/notebooks\n",
      "/mmfs1/gscratch/xlab/alisaliu/ambient\n"
     ]
    }
   ],
   "source": [
    "from pathlib import Path\n",
    "\n",
    "while Path.cwd().name != 'ambient':\n",
    "    %cd .."
   ]
  },
  {
   "cell_type": "code",
   "execution_count": 2,
   "id": "e2ca1de4",
   "metadata": {},
   "outputs": [],
   "source": [
    "import pandas as pd\n",
    "from mturk.crowdworker_utils import statistics_for_worker, read_batch\n",
    "import numpy as np\n",
    "import seaborn as sns\n",
    "import matplotlib.pyplot as plt\n",
    "from tqdm import tqdm\n",
    "import ast"
   ]
  },
  {
   "cell_type": "code",
   "execution_count": 3,
   "id": "68d6c07c",
   "metadata": {},
   "outputs": [],
   "source": [
    "batch_id = 5027593\n",
    "batch_df = read_batch(batch_id)"
   ]
  },
  {
   "cell_type": "code",
   "execution_count": 4,
   "id": "f64965d4",
   "metadata": {
    "scrolled": false
   },
   "outputs": [
    {
     "data": {
      "text/plain": [
       "{'A1DMXEJGJY02E1': {'num_examples': 52,\n",
       "  'median_time': 110.48,\n",
       "  'possible_interps_prop': 2.35,\n",
       "  'correct_disambiguation_prop': 0.98,\n",
       "  'correct_label_prop': 0.8,\n",
       "  'label_disagree_prop': 0.21},\n",
       " 'A2EDER9628S0A': {'num_examples': 28,\n",
       "  'median_time': 73.56,\n",
       "  'possible_interps_prop': 2.39,\n",
       "  'correct_disambiguation_prop': 0.98,\n",
       "  'correct_label_prop': 0.79,\n",
       "  'label_disagree_prop': 0.19},\n",
       " 'A2NAKIXS3DVGAA': {'num_examples': 56,\n",
       "  'median_time': 28.98,\n",
       "  'possible_interps_prop': 2.34,\n",
       "  'correct_disambiguation_prop': 0.99,\n",
       "  'correct_label_prop': 0.94,\n",
       "  'label_disagree_prop': 0.19},\n",
       " 'A2OFN0A5CPLH57': {'num_examples': 24,\n",
       "  'median_time': 42.44,\n",
       "  'possible_interps_prop': 2.17,\n",
       "  'correct_disambiguation_prop': 0.88,\n",
       "  'correct_label_prop': 0.83,\n",
       "  'label_disagree_prop': 0.2},\n",
       " 'A2T5CROJ0FWIJY': {'num_examples': 63,\n",
       "  'median_time': 153.11,\n",
       "  'possible_interps_prop': 2.37,\n",
       "  'correct_disambiguation_prop': 0.98,\n",
       "  'correct_label_prop': 0.81,\n",
       "  'label_disagree_prop': 0.19},\n",
       " 'A2VO8C41JJIQY9': {'num_examples': 39,\n",
       "  'median_time': 66.11,\n",
       "  'possible_interps_prop': 2.54,\n",
       "  'correct_disambiguation_prop': 0.94,\n",
       "  'correct_label_prop': 0.78,\n",
       "  'label_disagree_prop': 0.25},\n",
       " 'A320QA9HJFUOZO': {'num_examples': 19,\n",
       "  'median_time': 50.33,\n",
       "  'possible_interps_prop': 2.53,\n",
       "  'correct_disambiguation_prop': 0.97,\n",
       "  'correct_label_prop': 0.79,\n",
       "  'label_disagree_prop': 0.21},\n",
       " 'AKQAI78JTXXC9': {'num_examples': 68,\n",
       "  'median_time': 82.22,\n",
       "  'possible_interps_prop': 2.46,\n",
       "  'correct_disambiguation_prop': 0.96,\n",
       "  'correct_label_prop': 0.88,\n",
       "  'label_disagree_prop': 0.18},\n",
       " 'ATR6RB1RULOC0': {'num_examples': 27,\n",
       "  'median_time': 56.66,\n",
       "  'possible_interps_prop': 2.48,\n",
       "  'correct_disambiguation_prop': 1.0,\n",
       "  'correct_label_prop': 0.85,\n",
       "  'label_disagree_prop': 0.16},\n",
       " 'A1ELPYAFO7MANS': {'num_examples': 54,\n",
       "  'median_time': 152.01,\n",
       "  'possible_interps_prop': 2.61,\n",
       "  'correct_disambiguation_prop': 0.99,\n",
       "  'correct_label_prop': 0.8,\n",
       "  'label_disagree_prop': 0.18},\n",
       " 'A26LOVXF4QZZCO': {'num_examples': 26,\n",
       "  'median_time': 86.91,\n",
       "  'possible_interps_prop': 2.65,\n",
       "  'correct_disambiguation_prop': 0.98,\n",
       "  'correct_label_prop': 0.87,\n",
       "  'label_disagree_prop': 0.21},\n",
       " 'A38DXFI1TZA295': {'num_examples': 43,\n",
       "  'median_time': 50.49,\n",
       "  'possible_interps_prop': 2.6,\n",
       "  'correct_disambiguation_prop': 0.97,\n",
       "  'correct_label_prop': 0.84,\n",
       "  'label_disagree_prop': 0.23},\n",
       " 'A9HQ3E0F2AGVO': {'num_examples': 46,\n",
       "  'median_time': 140.99,\n",
       "  'possible_interps_prop': 2.5,\n",
       "  'correct_disambiguation_prop': 0.93,\n",
       "  'correct_label_prop': 0.74,\n",
       "  'label_disagree_prop': 0.24},\n",
       " 'A5TWD5QD99GZY': {'num_examples': 39,\n",
       "  'median_time': 41.57,\n",
       "  'possible_interps_prop': 2.46,\n",
       "  'correct_disambiguation_prop': 0.99,\n",
       "  'correct_label_prop': 0.91,\n",
       "  'label_disagree_prop': 0.16},\n",
       " 'AQXRHIMQ7UK7O': {'num_examples': 41,\n",
       "  'median_time': 48.9,\n",
       "  'possible_interps_prop': 2.56,\n",
       "  'correct_disambiguation_prop': 0.94,\n",
       "  'correct_label_prop': 0.88,\n",
       "  'label_disagree_prop': 0.18},\n",
       " 'A272X64FOZFYLB': {'num_examples': 3,\n",
       "  'median_time': 87.72,\n",
       "  'possible_interps_prop': 2.33,\n",
       "  'correct_disambiguation_prop': 1.0,\n",
       "  'correct_label_prop': 0.83,\n",
       "  'label_disagree_prop': 0.15},\n",
       " 'A1P3HHEXWNLJMP': {'num_examples': 29,\n",
       "  'median_time': 70.5,\n",
       "  'possible_interps_prop': 2.41,\n",
       "  'correct_disambiguation_prop': 0.98,\n",
       "  'correct_label_prop': 0.88,\n",
       "  'label_disagree_prop': 0.15},\n",
       " 'A3GWRDHAURRNK6': {'num_examples': 48,\n",
       "  'median_time': 44.4,\n",
       "  'possible_interps_prop': 2.6,\n",
       "  'correct_disambiguation_prop': 0.91,\n",
       "  'correct_label_prop': 0.85,\n",
       "  'label_disagree_prop': 0.21},\n",
       " 'A2EJ7U3TZAKROG': {'num_examples': 26,\n",
       "  'median_time': 37.46,\n",
       "  'possible_interps_prop': 2.58,\n",
       "  'correct_disambiguation_prop': 0.94,\n",
       "  'correct_label_prop': 0.92,\n",
       "  'label_disagree_prop': 0.21},\n",
       " 'A2BK45LZGGWPLX': {'num_examples': 6,\n",
       "  'median_time': 91.78,\n",
       "  'possible_interps_prop': 2.83,\n",
       "  'correct_disambiguation_prop': 1.0,\n",
       "  'correct_label_prop': 0.75,\n",
       "  'label_disagree_prop': 0.33},\n",
       " 'A1HKYY6XI2OHO1': {'num_examples': 1,\n",
       "  'median_time': 132.48,\n",
       "  'possible_interps_prop': 2.0,\n",
       "  'correct_disambiguation_prop': 1.0,\n",
       "  'correct_label_prop': 0.5,\n",
       "  'label_disagree_prop': 0.5}}"
      ]
     },
     "execution_count": 4,
     "metadata": {},
     "output_type": "execute_result"
    }
   ],
   "source": [
    "worker_statistics = {}\n",
    "for worker_id in batch_df.worker_id.unique():\n",
    "    try:\n",
    "        stats = statistics_for_worker(batch_df, worker_id)\n",
    "    except TypeError:\n",
    "        print(worker_id)\n",
    "    stats = {k: np.round(v, 2) for k,v in stats.items()}\n",
    "    worker_statistics[worker_id] = stats\n",
    "\n",
    "worker_statistics"
   ]
  },
  {
   "cell_type": "code",
   "execution_count": null,
   "id": "f1ddf20a",
   "metadata": {
    "scrolled": false
   },
   "outputs": [],
   "source": [
    "batch_df.loc[batch_df['worker_id'] == 'A2BK45LZGGWPLX'].to_dict(orient='records')"
   ]
  },
  {
   "cell_type": "code",
   "execution_count": null,
   "id": "5aca3495",
   "metadata": {
    "scrolled": true
   },
   "outputs": [],
   "source": [
    "batch_df.loc[batch_df['feedback'] != '{}'].to_dict(orient='records')"
   ]
  },
  {
   "cell_type": "code",
   "execution_count": null,
   "id": "fe7b040b",
   "metadata": {},
   "outputs": [],
   "source": [
    "median_time_per_worker = [v['median_time'] for k,v in worker_statistics.items()]\n",
    "print(np.percentile(median_time_per_worker, q=75))\n",
    "sns.histplot(median_time_per_worker, kde=True)"
   ]
  },
  {
   "cell_type": "code",
   "execution_count": null,
   "id": "b3439413",
   "metadata": {},
   "outputs": [],
   "source": []
  }
 ],
 "metadata": {
  "kernelspec": {
   "display_name": "Python 3 (ipykernel)",
   "language": "python",
   "name": "python3"
  },
  "language_info": {
   "codemirror_mode": {
    "name": "ipython",
    "version": 3
   },
   "file_extension": ".py",
   "mimetype": "text/x-python",
   "name": "python",
   "nbconvert_exporter": "python",
   "pygments_lexer": "ipython3",
   "version": "3.9.5"
  }
 },
 "nbformat": 4,
 "nbformat_minor": 5
}
