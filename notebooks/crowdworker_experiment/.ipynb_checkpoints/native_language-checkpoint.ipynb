{
 "cells": [
  {
   "cell_type": "code",
   "execution_count": 1,
   "id": "adaa54e5",
   "metadata": {},
   "outputs": [
    {
     "name": "stdout",
     "output_type": "stream",
     "text": [
      "/mmfs1/gscratch/xlab/alisaliu/ambient/notebooks\n",
      "/mmfs1/gscratch/xlab/alisaliu/ambient\n"
     ]
    }
   ],
   "source": [
    "from pathlib import Path\n",
    "\n",
    "while Path.cwd().name != 'ambient':\n",
    "    %cd .."
   ]
  },
  {
   "cell_type": "code",
   "execution_count": 38,
   "id": "aec8bc65",
   "metadata": {},
   "outputs": [],
   "source": [
    "import pandas as pd\n",
    "import csv"
   ]
  },
  {
   "cell_type": "code",
   "execution_count": 14,
   "id": "b09ec979",
   "metadata": {},
   "outputs": [],
   "source": [
    "survey_dir = Path('annotation/crowdworker_exp/L1_survey')\n",
    "df = pd.read_csv(survey_dir / 'native_language_survey.csv')"
   ]
  },
  {
   "cell_type": "code",
   "execution_count": 15,
   "id": "71064d2e",
   "metadata": {},
   "outputs": [],
   "source": [
    "df.drop_duplicates(subset='Worker ID', inplace=True)"
   ]
  },
  {
   "cell_type": "code",
   "execution_count": 16,
   "id": "6d688a22",
   "metadata": {},
   "outputs": [],
   "source": [
    "batch_df = pd.read_csv(survey_dir / 'Batch_5048983_batch_results.csv')"
   ]
  },
  {
   "cell_type": "code",
   "execution_count": 22,
   "id": "c232247b",
   "metadata": {},
   "outputs": [
    {
     "data": {
      "text/plain": [
       "{'A132MSWBBVTOES',\n",
       " 'A1HKYY6XI2OHO1',\n",
       " 'A2EJ7U3TZAKROG',\n",
       " 'A2OFN0A5CPLH57',\n",
       " 'A9HQ3E0F2AGVO',\n",
       " 'AKQAI78JTXXC9',\n",
       " 'AWVLT2L5AP873'}"
      ]
     },
     "execution_count": 22,
     "metadata": {},
     "output_type": "execute_result"
    }
   ],
   "source": [
    "set(batch_df.WorkerId.tolist())"
   ]
  },
  {
   "cell_type": "code",
   "execution_count": 24,
   "id": "b97c82ce",
   "metadata": {},
   "outputs": [],
   "source": [
    "to_bonus = set(df['Worker ID'].tolist()) - set(batch_df.WorkerId.tolist())"
   ]
  },
  {
   "cell_type": "code",
   "execution_count": 26,
   "id": "6856600a",
   "metadata": {},
   "outputs": [
    {
     "data": {
      "text/plain": [
       "21"
      ]
     },
     "execution_count": 26,
     "metadata": {},
     "output_type": "execute_result"
    }
   ],
   "source": [
    "len(to_bonus)"
   ]
  },
  {
   "cell_type": "code",
   "execution_count": 34,
   "id": "7dca080a",
   "metadata": {},
   "outputs": [
    {
     "data": {
      "text/plain": [
       "{'A002160837SWJFPIAI7L7',\n",
       " 'A1DMXEJGJY02E1',\n",
       " 'A1ELPYAFO7MANS',\n",
       " 'A1P3HHEXWNLJMP',\n",
       " 'A1SX8IVV82M0LW',\n",
       " 'A1YSYI926BBOHW',\n",
       " 'A26LOVXF4QZZCO',\n",
       " 'A2BK45LZGGWPLX',\n",
       " 'A2C84POENS2UNY',\n",
       " 'A2NAKIXS3DVGAA',\n",
       " 'A2VO8C41JJIQY9',\n",
       " 'A302KOFOYLD89A',\n",
       " 'A320QA9HJFUOZO',\n",
       " 'A38DXFI1TZA295',\n",
       " 'A3GWRDHAURRNK6',\n",
       " 'A3P9TM5PRYBH90',\n",
       " 'A5TWD5QD99GZY',\n",
       " 'A6KOTWP7N7RLU',\n",
       " 'AQXRHIMQ7UK7O',\n",
       " 'ATR6RB1RULOC0',\n",
       " 'AY7WPVKHVNBLG'}"
      ]
     },
     "execution_count": 34,
     "metadata": {},
     "output_type": "execute_result"
    }
   ],
   "source": [
    "to_bonus"
   ]
  },
  {
   "cell_type": "code",
   "execution_count": 35,
   "id": "5e8a952f",
   "metadata": {},
   "outputs": [],
   "source": [
    "quals_batch = pd.read_csv('annotation/crowdworker_exp/batches/quals_batch_5001351/Batch_5001351_batch_results.csv')"
   ]
  },
  {
   "cell_type": "code",
   "execution_count": 40,
   "id": "18f4236e",
   "metadata": {},
   "outputs": [],
   "source": [
    "with open(survey_dir / 'bonus.csv', 'w') as fo:\n",
    "    writer = csv.writer(fo)\n",
    "    writer.writerow(['worker_id','assignment_id','bonus'])\n",
    "    for worker_id in to_bonus:\n",
    "        assignment_id = quals_batch.loc[quals_batch['WorkerId'] == worker_id].iloc[0].AssignmentId\n",
    "        writer.writerow([worker_id,assignment_id,1.0])"
   ]
  },
  {
   "cell_type": "code",
   "execution_count": null,
   "id": "53ff3932",
   "metadata": {},
   "outputs": [],
   "source": []
  }
 ],
 "metadata": {
  "kernelspec": {
   "display_name": "Python 3 (ipykernel)",
   "language": "python",
   "name": "python3"
  },
  "language_info": {
   "codemirror_mode": {
    "name": "ipython",
    "version": 3
   },
   "file_extension": ".py",
   "mimetype": "text/x-python",
   "name": "python",
   "nbconvert_exporter": "python",
   "pygments_lexer": "ipython3",
   "version": "3.9.5"
  }
 },
 "nbformat": 4,
 "nbformat_minor": 5
}
