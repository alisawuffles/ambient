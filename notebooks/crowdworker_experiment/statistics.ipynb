{
 "cells": [
  {
   "cell_type": "code",
   "execution_count": 2,
   "id": "9558f561",
   "metadata": {},
   "outputs": [
    {
     "name": "stdout",
     "output_type": "stream",
     "text": [
      "/mmfs1/gscratch/xlab/alisaliu/ambient/notebooks\n",
      "/mmfs1/gscratch/xlab/alisaliu/ambient\n"
     ]
    }
   ],
   "source": [
    "from pathlib import Path\n",
    "\n",
    "while Path.cwd().name != 'ambient':\n",
    "    %cd .."
   ]
  },
  {
   "cell_type": "code",
   "execution_count": 3,
   "id": "2661c9db",
   "metadata": {},
   "outputs": [],
   "source": [
    "import pandas as pd\n",
    "from pathlib import Path\n",
    "from utils.constants import id2label, label2id\n",
    "from mturk.crowdworker_utils import read_batch, clean_batch, statistics_for_worker\n",
    "from mturk.crowdworker_stats import compute_agreement_statistics, compute_acceptability_statistics, compute_committee_perf\n",
    "import numpy as np\n",
    "import ast\n",
    "from scipy import stats\n",
    "import math\n",
    "import sys\n",
    "np.set_printoptions(threshold=sys.maxsize)\n",
    "import os\n",
    "from collections import Counter\n",
    "import seaborn as sns\n",
    "import matplotlib.pyplot as plt"
   ]
  },
  {
   "cell_type": "code",
   "execution_count": 4,
   "id": "61895a19",
   "metadata": {},
   "outputs": [
    {
     "name": "stdout",
     "output_type": "stream",
     "text": [
      "Number of examples annotated: 542\n"
     ]
    }
   ],
   "source": [
    "batches_dir = Path('annotation/crowdworker_exp/batches')\n",
    "dirs = [d for d in os.listdir(batches_dir) if (os.path.isdir(batches_dir / d) and d.startswith('batch_'))]\n",
    "hits_per_annotator = Counter()\n",
    "\n",
    "batch_dfs = []\n",
    "for batch_dir in dirs:\n",
    "    batch_df = pd.read_json(batches_dir / batch_dir / 'batch_results.jsonl', lines=True)\n",
    "    batch_df['labels'] = [ast.literal_eval(row['labels']) for _, row in batch_df.iterrows()]\n",
    "    batch_dfs.append(batch_df)\n",
    "\n",
    "results_df = pd.concat(batch_dfs)\n",
    "print(f'Number of examples annotated: {len(results_df.index)}')"
   ]
  },
  {
   "cell_type": "code",
   "execution_count": 12,
   "id": "94883262",
   "metadata": {},
   "outputs": [
    {
     "data": {
      "text/plain": [
       "{'ambiguous_kappa': 0.11736103121599217,\n",
       " 'disambiguated_kappa': 0.6704091908237546}"
      ]
     },
     "execution_count": 12,
     "metadata": {},
     "output_type": "execute_result"
    }
   ],
   "source": [
    "compute_agreement_statistics(results_df)"
   ]
  },
  {
   "cell_type": "code",
   "execution_count": 13,
   "id": "e384f93e",
   "metadata": {},
   "outputs": [
    {
     "data": {
      "text/plain": [
       "{'disambiguation_acceptability': 0.9673082798655668,\n",
       " 'all_disambiguation_acceptability': 0.9368593685936859,\n",
       " 'distractor_acceptability': 0.46562824506749734}"
      ]
     },
     "execution_count": 13,
     "metadata": {},
     "output_type": "execute_result"
    }
   ],
   "source": [
    "compute_acceptability_statistics(results_df)"
   ]
  },
  {
   "cell_type": "code",
   "execution_count": 10,
   "id": "0c0fdd6a",
   "metadata": {},
   "outputs": [
    {
     "data": {
      "text/plain": [
       "0.8966789667896679"
      ]
     },
     "execution_count": 10,
     "metadata": {},
     "output_type": "execute_result"
    }
   ],
   "source": [
    "compute_committee_perf(results_df)['committee_perf']"
   ]
  },
  {
   "cell_type": "code",
   "execution_count": 15,
   "id": "94e64545",
   "metadata": {},
   "outputs": [],
   "source": [
    "results_df.to_json('annotation/crowdworker_exp/annotation_results.jsonl', lines=True, orient='records')"
   ]
  },
  {
   "cell_type": "markdown",
   "id": "30c85c37",
   "metadata": {},
   "source": [
    "# Appendix stuff"
   ]
  },
  {
   "cell_type": "code",
   "execution_count": 30,
   "id": "de50c161",
   "metadata": {},
   "outputs": [
    {
     "name": "stdout",
     "output_type": "stream",
     "text": [
      "5039373\n",
      "5025919\n",
      "5040909\n",
      "5024336\n",
      "5041243\n",
      "5040305\n",
      "5040013\n",
      "5026450\n",
      "5027593\n",
      "Number of examples annotated: 542\n"
     ]
    }
   ],
   "source": [
    "batches_dir = Path('annotation/crowdworker_exp/batches')\n",
    "dirs = [d for d in os.listdir(batches_dir) if (os.path.isdir(batches_dir / d) and d.startswith('batch_'))]\n",
    "hits_per_annotator = Counter()\n",
    "\n",
    "batch_dfs = []\n",
    "for batch_dir in dirs:\n",
    "    batch_id = int(batch_dir.split('_')[-1])\n",
    "    print(batch_id)\n",
    "    batch_df = read_batch(batch_id)\n",
    "    batch_dfs.append(batch_df)\n",
    "    hits_per_annotator.update(batch_df.worker_id.value_counts().to_dict())\n",
    "\n",
    "batch_df = pd.concat(batch_dfs)\n",
    "print(f'Number of examples annotated: {len(results_df.index)}')"
   ]
  },
  {
   "cell_type": "code",
   "execution_count": 14,
   "id": "730aaa92",
   "metadata": {},
   "outputs": [
    {
     "data": {
      "text/plain": [
       "67.6335"
      ]
     },
     "execution_count": 14,
     "metadata": {},
     "output_type": "execute_result"
    }
   ],
   "source": [
    "time_on_page = batch_df.time_on_page.tolist()\n",
    "np.median(time_on_page)"
   ]
  },
  {
   "cell_type": "code",
   "execution_count": 16,
   "id": "50932fa4",
   "metadata": {},
   "outputs": [],
   "source": [
    "pay_statistics = {}\n",
    "for worker_id, worker_df in batch_df.groupby('worker_id'):\n",
    "    tot_examples = len(worker_df.index)\n",
    "    tot_pay = tot_examples * 0.4\n",
    "    tot_time = worker_df.time_on_page.sum()\n",
    "    pay_statistics[worker_id] = {\n",
    "        'total_examples': tot_examples, \n",
    "        'total_pay': tot_pay,\n",
    "        'total_time': tot_time,\n",
    "        'hourly_pay': tot_pay / (tot_time/60/60)\n",
    "    }"
   ]
  },
  {
   "cell_type": "code",
   "execution_count": 17,
   "id": "6959f362",
   "metadata": {
    "scrolled": false
   },
   "outputs": [
    {
     "data": {
      "text/plain": [
       "<AxesSubplot:ylabel='Count'>"
      ]
     },
     "execution_count": 17,
     "metadata": {},
     "output_type": "execute_result"
    },
    {
     "data": {
      "image/png": "[encoded data removed]",
      "text/plain": [
       "<Figure size 432x288 with 1 Axes>"
      ]
     },
     "metadata": {
      "needs_background": "light"
     },
     "output_type": "display_data"
    }
   ],
   "source": [
    "hourly_pays = [v['hourly_pay'] for k,v in pay_statistics.items()]\n",
    "sns.histplot(hourly_pays)"
   ]
  },
  {
   "cell_type": "code",
   "execution_count": 18,
   "id": "52298bf9",
   "metadata": {},
   "outputs": [
    {
     "data": {
      "text/plain": [
       "19.13176616032009"
      ]
     },
     "execution_count": 18,
     "metadata": {},
     "output_type": "execute_result"
    }
   ],
   "source": [
    "np.median(hourly_pays)"
   ]
  },
  {
   "cell_type": "code",
   "execution_count": 20,
   "id": "71e6b180",
   "metadata": {},
   "outputs": [
    {
     "data": {
      "text/plain": [
       "29"
      ]
     },
     "execution_count": 20,
     "metadata": {},
     "output_type": "execute_result"
    }
   ],
   "source": [
    "len(batch_df.worker_id.value_counts())"
   ]
  },
  {
   "cell_type": "code",
   "execution_count": 27,
   "id": "586c6c1e",
   "metadata": {},
   "outputs": [
    {
     "data": {
      "text/plain": [
       "{'A002160837SWJFPIAI7L7',\n",
       " 'A132MSWBBVTOES',\n",
       " 'A1DMXEJGJY02E1',\n",
       " 'A1ELPYAFO7MANS',\n",
       " 'A1HKYY6XI2OHO1',\n",
       " 'A1P3HHEXWNLJMP',\n",
       " 'A26LOVXF4QZZCO',\n",
       " 'A272X64FOZFYLB',\n",
       " 'A2BK45LZGGWPLX',\n",
       " 'A2C84POENS2UNY',\n",
       " 'A2EDER9628S0A',\n",
       " 'A2EJ7U3TZAKROG',\n",
       " 'A2NAKIXS3DVGAA',\n",
       " 'A2OFN0A5CPLH57',\n",
       " 'A2T5CROJ0FWIJY',\n",
       " 'A2TCX20FIMNWSS',\n",
       " 'A2VO8C41JJIQY9',\n",
       " 'A3135Y3RMFC3PK',\n",
       " 'A320QA9HJFUOZO',\n",
       " 'A38DXFI1TZA295',\n",
       " 'A3GWRDHAURRNK6',\n",
       " 'A3P9TM5PRYBH90',\n",
       " 'A5TWD5QD99GZY',\n",
       " 'A6KOTWP7N7RLU',\n",
       " 'A9HQ3E0F2AGVO',\n",
       " 'AKQAI78JTXXC9',\n",
       " 'AQXRHIMQ7UK7O',\n",
       " 'ATR6RB1RULOC0',\n",
       " 'AWVLT2L5AP873'}"
      ]
     },
     "execution_count": 27,
     "metadata": {},
     "output_type": "execute_result"
    }
   ],
   "source": [
    "set(batch_df.worker_id.tolist())"
   ]
  },
  {
   "cell_type": "code",
   "execution_count": 31,
   "id": "751f7515",
   "metadata": {},
   "outputs": [
    {
     "data": {
      "text/plain": [
       "Counter({'AKQAI78JTXXC9': 397,\n",
       "         'A2NAKIXS3DVGAA': 467,\n",
       "         'A9HQ3E0F2AGVO': 237,\n",
       "         'A1HKYY6XI2OHO1': 315,\n",
       "         'A2VO8C41JJIQY9': 326,\n",
       "         'A38DXFI1TZA295': 321,\n",
       "         'A5TWD5QD99GZY': 327,\n",
       "         'A3P9TM5PRYBH90': 137,\n",
       "         'A2EDER9628S0A': 161,\n",
       "         'ATR6RB1RULOC0': 272,\n",
       "         'A6KOTWP7N7RLU': 108,\n",
       "         'A320QA9HJFUOZO': 182,\n",
       "         'A2OFN0A5CPLH57': 102,\n",
       "         'A2C84POENS2UNY': 101,\n",
       "         'A2TCX20FIMNWSS': 26,\n",
       "         'A1DMXEJGJY02E1': 335,\n",
       "         'A2EJ7U3TZAKROG': 101,\n",
       "         'AWVLT2L5AP873': 55,\n",
       "         'A1P3HHEXWNLJMP': 69,\n",
       "         'A272X64FOZFYLB': 6,\n",
       "         'AQXRHIMQ7UK7O': 252,\n",
       "         'A3GWRDHAURRNK6': 126,\n",
       "         'A1ELPYAFO7MANS': 68,\n",
       "         'A2BK45LZGGWPLX': 57,\n",
       "         'A26LOVXF4QZZCO': 147,\n",
       "         'A2T5CROJ0FWIJY': 150,\n",
       "         'A132MSWBBVTOES': 1,\n",
       "         'A3135Y3RMFC3PK': 23,\n",
       "         'A002160837SWJFPIAI7L7': 9})"
      ]
     },
     "execution_count": 31,
     "metadata": {},
     "output_type": "execute_result"
    }
   ],
   "source": [
    "hits_per_annotator"
   ]
  },
  {
   "cell_type": "code",
   "execution_count": null,
   "id": "05cd0554",
   "metadata": {},
   "outputs": [],
   "source": []
  }
 ],
 "metadata": {
  "kernelspec": {
   "display_name": "Python 3 (ipykernel)",
   "language": "python",
   "name": "python3"
  },
  "language_info": {
   "codemirror_mode": {
    "name": "ipython",
    "version": 3
   },
   "file_extension": ".py",
   "mimetype": "text/x-python",
   "name": "python",
   "nbconvert_exporter": "python",
   "pygments_lexer": "ipython3",
   "version": "3.9.5"
  }
 },
 "nbformat": 4,
 "nbformat_minor": 5
}
