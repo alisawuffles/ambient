{
 "cells": [
  {
   "cell_type": "code",
   "execution_count": 1,
   "id": "4208fbfc",
   "metadata": {},
   "outputs": [
    {
     "name": "stdout",
     "output_type": "stream",
     "text": [
      "/mmfs1/gscratch/xlab/alisaliu/ambient/notebooks\n",
      "/mmfs1/gscratch/xlab/alisaliu/ambient\n"
     ]
    }
   ],
   "source": [
    "\"\"\"\n",
    "create AmbiEnt from the validation batches\n",
    "\"\"\"\n",
    "\n",
    "from pathlib import Path\n",
    "\n",
    "while Path.cwd().name != 'ambient':\n",
    "    %cd .."
   ]
  },
  {
   "cell_type": "code",
   "execution_count": 2,
   "id": "fdcf99e5",
   "metadata": {},
   "outputs": [],
   "source": [
    "import os\n",
    "from mturk.annotation_utils import read_batch, clean_validation_batch, statistics_for_worker\n",
    "import numpy as np\n",
    "import pandas as pd\n",
    "import seaborn as sns\n",
    "from collections import Counter"
   ]
  },
  {
   "cell_type": "code",
   "execution_count": 3,
   "id": "57a75f87",
   "metadata": {},
   "outputs": [],
   "source": [
    "def get_num_rewrites(row, key: str):\n",
    "    \"\"\"\n",
    "    key: one of premise, hypothesis\n",
    "    return number of distinct rewrites\n",
    "    \"\"\"\n",
    "    return len(set([d[key] for d in flatten_list_of_lists(row['disambiguations'].values()) if d[key] != row[key]]))\n",
    "\n",
    "def flatten_list_of_lists(list_of_lists):\n",
    "    return [x for sublist in list_of_lists for x in sublist]"
   ]
  },
  {
   "cell_type": "code",
   "execution_count": 10,
   "id": "65b63d90",
   "metadata": {},
   "outputs": [
    {
     "name": "stdout",
     "output_type": "stream",
     "text": [
      "Number of examples annotated: 2167\n",
      "Number of examples in validated dataset: 1503\n"
     ]
    },
    {
     "data": {
      "text/plain": [
       "Counter({'A3AA2VKV87R6PG': 345,\n",
       "         'A1KBELVHWNE4D5': 1473,\n",
       "         'A2AX828Q4WXK3Z': 248,\n",
       "         'A14KPHOYAQCFWH': 101})"
      ]
     },
     "execution_count": 10,
     "metadata": {},
     "output_type": "execute_result"
    }
   ],
   "source": [
    "batches_dir = Path('annotation/validation/batches')\n",
    "dirs = [d for d in os.listdir(batches_dir) if (os.path.isdir(batches_dir / d) and d.startswith('batch_'))]\n",
    "hits_per_annotator = Counter()\n",
    "\n",
    "batch_dfs = []\n",
    "for batch_dir in dirs:\n",
    "    batch_id = int(batch_dir.split('_')[1])\n",
    "    batch_df = read_batch(batch_id, batch_dir=batches_dir)\n",
    "    batch_dfs.append(batch_df)\n",
    "    hits_per_annotator += batch_df.worker_id.value_counts()\n",
    "\n",
    "validated_df = pd.concat(batch_dfs)\n",
    "print(f'Number of examples annotated: {len(validated_df.index)}')\n",
    "validated_df = clean_validation_batch(validated_df)\n",
    "print(f'Number of examples in validated dataset: {len(validated_df)}')\n",
    "validated_df.reset_index(drop=True, inplace=True)\n",
    "hits_per_annotator"
   ]
  },
  {
   "cell_type": "code",
   "execution_count": 11,
   "id": "e692ba52",
   "metadata": {},
   "outputs": [],
   "source": [
    "validated_df['premise_ambiguous'] = False\n",
    "validated_df['hypothesis_ambiguous'] = False\n",
    "validated_df['reformatted_disambiguations'] = None\n",
    "\n",
    "for i, row in validated_df.iterrows():\n",
    "    assert get_num_rewrites(row, 'premise') != 1 and get_num_rewrites(row, 'hypothesis') != 1\n",
    "    validated_df.at[i, 'gold'] = ', '.join(row['gold'].split('|'))\n",
    "    validated_df.at[i, 'reformatted_disambiguations'] = [d | {'label': l} for l, ds in row['disambiguations'].items() for d in ds]\n",
    "    \n",
    "    for key in ['premise', 'hypothesis']:\n",
    "        if get_num_rewrites(row, key) >= 2:\n",
    "            validated_df.at[i, f'{key}_ambiguous'] = True"
   ]
  },
  {
   "cell_type": "code",
   "execution_count": 12,
   "id": "73f4534c",
   "metadata": {},
   "outputs": [],
   "source": [
    "validated_df.drop('validator_id', axis=1, inplace=True)\n",
    "column_order = validated_df.columns.tolist()\n",
    "column_order.remove('disambiguations')\n",
    "validated_df = validated_df[column_order]\n",
    "validated_df.rename(columns={'reformatted_disambiguations': 'disambiguations', 'gold': 'labels'}, inplace=True)"
   ]
  },
  {
   "cell_type": "code",
   "execution_count": 13,
   "id": "d878e4f8",
   "metadata": {},
   "outputs": [
    {
     "name": "stdout",
     "output_type": "stream",
     "text": [
      "1503\n"
     ]
    }
   ],
   "source": [
    "validated_df.head(3)\n",
    "print(len(validated_df.index))"
   ]
  },
  {
   "cell_type": "code",
   "execution_count": 14,
   "id": "2cc1f743",
   "metadata": {},
   "outputs": [
    {
     "data": {
      "text/plain": [
       "0.2907518296739854"
      ]
     },
     "execution_count": 14,
     "metadata": {},
     "output_type": "execute_result"
    }
   ],
   "source": [
    "len(validated_df.loc[validated_df['premise_ambiguous'] | validated_df['hypothesis_ambiguous']])/len(validated_df.index)"
   ]
  },
  {
   "cell_type": "code",
   "execution_count": 15,
   "id": "2b10d541",
   "metadata": {},
   "outputs": [],
   "source": [
    "validated_df.sample(frac=1).to_json('annotation/AmbiEnt/validated_examples.jsonl', orient='records', lines=True)"
   ]
  },
  {
   "cell_type": "code",
   "execution_count": null,
   "id": "a2809499",
   "metadata": {},
   "outputs": [],
   "source": []
  }
 ],
 "metadata": {
  "kernelspec": {
   "display_name": "Python 3 (ipykernel)",
   "language": "python",
   "name": "python3"
  },
  "language_info": {
   "codemirror_mode": {
    "name": "ipython",
    "version": 3
   },
   "file_extension": ".py",
   "mimetype": "text/x-python",
   "name": "python",
   "nbconvert_exporter": "python",
   "pygments_lexer": "ipython3",
   "version": "3.9.5"
  }
 },
 "nbformat": 4,
 "nbformat_minor": 5
}
