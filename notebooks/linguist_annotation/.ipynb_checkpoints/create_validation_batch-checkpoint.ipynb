{
 "cells": [
  {
   "cell_type": "code",
   "execution_count": 1,
   "id": "f28ac848",
   "metadata": {},
   "outputs": [
    {
     "name": "stdout",
     "output_type": "stream",
     "text": [
      "/mmfs1/gscratch/xlab/alisaliu/ambignli/notebooks\n",
      "/mmfs1/gscratch/xlab/alisaliu/ambignli\n"
     ]
    }
   ],
   "source": [
    "from pathlib import Path\n",
    "\n",
    "while Path.cwd().name != 'ambient':\n",
    "    %cd .."
   ]
  },
  {
   "cell_type": "code",
   "execution_count": 5,
   "id": "b46942d0",
   "metadata": {},
   "outputs": [],
   "source": [
    "import numpy as np\n",
    "import pandas as pd\n",
    "import os\n",
    "from collections import defaultdict, Counter\n",
    "from sklearn.metrics import cohen_kappa_score\n",
    "from itertools import combinations\n",
    "from mturk.annotation_utils import read_batch, statistics_for_worker\n",
    "from utils.constants import id2label, NLI_LABELS\n",
    "from utils.transformation_rules import get_rule\n",
    "import seaborn as sns\n",
    "import matplotlib.pyplot as plt"
   ]
  },
  {
   "cell_type": "code",
   "execution_count": 13,
   "id": "924e0b08",
   "metadata": {
    "scrolled": true
   },
   "outputs": [
    {
     "name": "stdout",
     "output_type": "stream",
     "text": [
      "2020\n"
     ]
    },
    {
     "data": {
      "text/html": [
       "<div>\n",
       "<style scoped>\n",
       "    .dataframe tbody tr th:only-of-type {\n",
       "        vertical-align: middle;\n",
       "    }\n",
       "\n",
       "    .dataframe tbody tr th {\n",
       "        vertical-align: top;\n",
       "    }\n",
       "\n",
       "    .dataframe thead th {\n",
       "        text-align: right;\n",
       "    }\n",
       "</style>\n",
       "<table border=\"1\" class=\"dataframe\">\n",
       "  <thead>\n",
       "    <tr style=\"text-align: right;\">\n",
       "      <th></th>\n",
       "      <th>id</th>\n",
       "      <th>worker_ids</th>\n",
       "      <th>premise</th>\n",
       "      <th>hypothesis</th>\n",
       "      <th>annotations</th>\n",
       "      <th>disambiguations</th>\n",
       "    </tr>\n",
       "  </thead>\n",
       "  <tbody>\n",
       "    <tr>\n",
       "      <th>0</th>\n",
       "      <td>4</td>\n",
       "      <td>[A3FVGZKEEKXBON, A15WACUALQNT90]</td>\n",
       "      <td>We cannot be sure that the meeting will be pro...</td>\n",
       "      <td>We cannot be sure that the meeting will not be...</td>\n",
       "      <td>[entailment|neutral, entailment]</td>\n",
       "      <td>{'neutral': [{'premise': 'We cannot be sure th...</td>\n",
       "    </tr>\n",
       "    <tr>\n",
       "      <th>1</th>\n",
       "      <td>21</td>\n",
       "      <td>[A1HBYLYXKD7VWX, A15WACUALQNT90]</td>\n",
       "      <td>The first step is to contact your state's depa...</td>\n",
       "      <td>The next step is to contact your state's depar...</td>\n",
       "      <td>[entailment|contradiction, contradiction]</td>\n",
       "      <td>{'entailment': [{'premise': 'The first step is...</td>\n",
       "    </tr>\n",
       "    <tr>\n",
       "      <th>2</th>\n",
       "      <td>39</td>\n",
       "      <td>[A362GR9VFKI1V4, A15WACUALQNT90]</td>\n",
       "      <td>The person who told me the story is an unrelia...</td>\n",
       "      <td>I can't believe the story because the person w...</td>\n",
       "      <td>[entailment, neutral]</td>\n",
       "      <td>{}</td>\n",
       "    </tr>\n",
       "  </tbody>\n",
       "</table>\n",
       "</div>"
      ],
      "text/plain": [
       "   id                        worker_ids  \\\n",
       "0   4  [A3FVGZKEEKXBON, A15WACUALQNT90]   \n",
       "1  21  [A1HBYLYXKD7VWX, A15WACUALQNT90]   \n",
       "2  39  [A362GR9VFKI1V4, A15WACUALQNT90]   \n",
       "\n",
       "                                             premise  \\\n",
       "0  We cannot be sure that the meeting will be pro...   \n",
       "1  The first step is to contact your state's depa...   \n",
       "2  The person who told me the story is an unrelia...   \n",
       "\n",
       "                                          hypothesis  \\\n",
       "0  We cannot be sure that the meeting will not be...   \n",
       "1  The next step is to contact your state's depar...   \n",
       "2  I can't believe the story because the person w...   \n",
       "\n",
       "                                 annotations  \\\n",
       "0           [entailment|neutral, entailment]   \n",
       "1  [entailment|contradiction, contradiction]   \n",
       "2                      [entailment, neutral]   \n",
       "\n",
       "                                     disambiguations  \n",
       "0  {'neutral': [{'premise': 'We cannot be sure th...  \n",
       "1  {'entailment': [{'premise': 'The first step is...  \n",
       "2                                                 {}  "
      ]
     },
     "execution_count": 13,
     "metadata": {},
     "output_type": "execute_result"
    }
   ],
   "source": [
    "annotated_df = pd.read_json('annotation/ambignli/cleaned_examples.jsonl', lines=True)\n",
    "print(len(annotated_df))\n",
    "annotated_df.head(3)"
   ]
  },
  {
   "cell_type": "code",
   "execution_count": 7,
   "id": "14578186",
   "metadata": {},
   "outputs": [],
   "source": [
    "def format_label_colors(annotations):\n",
    "    for label in NLI_LABELS:\n",
    "        for x in [label.lower(), label.upper()]:\n",
    "            annotations = annotations.replace(x, f'<span class=\"{x.lower()}\">{x}</span>')\n",
    "    return annotations"
   ]
  },
  {
   "cell_type": "code",
   "execution_count": 8,
   "id": "b1fea409",
   "metadata": {},
   "outputs": [],
   "source": [
    "def get_spans_changed(original, revised):\n",
    "    \"\"\"\n",
    "    return the spans that were changed between the original text and the revised version\n",
    "    \"\"\"\n",
    "    rule, key = get_rule(original, revised)\n",
    "    before, after = rule.split(' -> ')\n",
    "    idx_tracker = 0\n",
    "    spans_changed = []\n",
    "\n",
    "    for segment in after:\n",
    "        if segment not in before:\n",
    "            spans_changed.append((idx_tracker, idx_tracker+len(key[segment])))\n",
    "        idx_tracker += len(key[segment]) + 1 # white space comes after every segment\n",
    "    \n",
    "    return spans_changed\n",
    "\n",
    "def format_revision(original, revised):\n",
    "    \"\"\"\n",
    "    bold the spans that were changed\n",
    "    \"\"\"\n",
    "    spans_changed = get_spans_changed(original, revised)\n",
    "    \n",
    "    for i, span in enumerate(spans_changed):\n",
    "        a, b = span[0] + i*7, span[1] + i*7     # since the string is getting longer, we need to keep adjusting span indices\n",
    "        revised = revised[:a] + '<b>' + revised[a:b] + '</b>' + revised[b:]\n",
    "    return revised"
   ]
  },
  {
   "cell_type": "code",
   "execution_count": 14,
   "id": "17313f0b",
   "metadata": {},
   "outputs": [],
   "source": [
    "error_ct = 0\n",
    "\n",
    "validation_data = []\n",
    "for i, row in annotated_df.iterrows():\n",
    "    if len(row['worker_ids']) < 2:\n",
    "        continue\n",
    "    \n",
    "    premise, hypothesis = row['premise'], row['hypothesis']\n",
    "    \n",
    "    disambiguation_text = ''\n",
    "    for label, disambiguations in row['disambiguations'].items():\n",
    "        disambiguation_text += f'{label.upper()}<br>'\n",
    "        for disambiguation in disambiguations:\n",
    "            revised_premise = disambiguation['premise']\n",
    "            revised_hypothesis = disambiguation['hypothesis']\n",
    "            premise_ambiguous = True if revised_premise != premise else False\n",
    "            hypothesis_ambiguous = True if revised_hypothesis != hypothesis else False\n",
    "            try:\n",
    "                if premise_ambiguous:\n",
    "                    revised_premise = format_revision(premise, revised_premise)\n",
    "                if hypothesis_ambiguous:\n",
    "                    revised_hypothesis = format_revision(hypothesis, revised_hypothesis)\n",
    "            except KeyError:\n",
    "                error_ct += 1\n",
    "                continue\n",
    "            disambiguation_text += f\"P': {revised_premise}<br>\" if premise_ambiguous else f\"P: {revised_premise}<br>\"\n",
    "            disambiguation_text += f\"H': {revised_hypothesis}<br>\" if hypothesis_ambiguous else f\"H: {revised_hypothesis}<br>\"\n",
    "    \n",
    "    disambiguation_text = format_label_colors(disambiguation_text)\n",
    "    \n",
    "    validation_data.append({\n",
    "        'id': row['id'],\n",
    "        'worker_ids': '<em>' + ', '.join(row['worker_ids']) + '</em>',\n",
    "        'premise': premise,\n",
    "        'hypothesis': hypothesis,\n",
    "        'annotations': format_label_colors(', '.join(row['annotations'])),\n",
    "        'disambiguations': disambiguation_text,\n",
    "    })"
   ]
  },
  {
   "cell_type": "code",
   "execution_count": 15,
   "id": "dd522043",
   "metadata": {
    "scrolled": true
   },
   "outputs": [
    {
     "data": {
      "text/plain": [
       "1973"
      ]
     },
     "execution_count": 15,
     "metadata": {},
     "output_type": "execute_result"
    }
   ],
   "source": [
    "len(validation_data)"
   ]
  },
  {
   "cell_type": "code",
   "execution_count": 16,
   "id": "5946aaae",
   "metadata": {},
   "outputs": [
    {
     "name": "stdout",
     "output_type": "stream",
     "text": [
      "batch_368416\n",
      "batch_368417\n",
      "batch_369355\n",
      "batch_369686\n",
      "batch_367632\n",
      "batch_371185\n",
      "batch_367636\n",
      "batch_372388\n",
      "batch_367494\n",
      "batch_368414\n",
      "batch_369357\n",
      "batch_372199\n",
      "batch_369687\n",
      "batch_369356\n"
     ]
    }
   ],
   "source": [
    "batches_dir = Path('annotation/validation/batches')\n",
    "dirs = [d for d in os.listdir(batches_dir) if (os.path.isdir(batches_dir / d) and d.startswith('batch_'))]\n",
    "\n",
    "validated_ids = []\n",
    "\n",
    "for batch_dir in dirs:\n",
    "    print(batch_dir)\n",
    "    batch_id = int(batch_dir.split('_')[-1])\n",
    "    batch_df = read_batch(batch_id, batch_dir=batches_dir)\n",
    "    validated_ids += batch_df.id.tolist()"
   ]
  },
  {
   "cell_type": "code",
   "execution_count": 18,
   "id": "dbe0a82c",
   "metadata": {},
   "outputs": [],
   "source": [
    "validation_df.sample(frac=1).to_csv('annotation/validation/remaining_examples.csv', index=False)"
   ]
  },
  {
   "cell_type": "code",
   "execution_count": null,
   "id": "65ef9fa6",
   "metadata": {},
   "outputs": [],
   "source": []
  }
 ],
 "metadata": {
  "kernelspec": {
   "display_name": "Python 3 (ipykernel)",
   "language": "python",
   "name": "python3"
  },
  "language_info": {
   "codemirror_mode": {
    "name": "ipython",
    "version": 3
   },
   "file_extension": ".py",
   "mimetype": "text/x-python",
   "name": "python",
   "nbconvert_exporter": "python",
   "pygments_lexer": "ipython3",
   "version": "3.9.5"
  }
 },
 "nbformat": 4,
 "nbformat_minor": 5
}
