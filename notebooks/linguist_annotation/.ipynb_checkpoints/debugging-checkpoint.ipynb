{
 "cells": [
  {
   "cell_type": "code",
   "execution_count": 1,
   "id": "58d6ef69",
   "metadata": {},
   "outputs": [
    {
     "name": "stdout",
     "output_type": "stream",
     "text": [
      "/mmfs1/gscratch/xlab/alisaliu/ambignli/notebooks\n",
      "/mmfs1/gscratch/xlab/alisaliu/ambignli\n"
     ]
    }
   ],
   "source": [
    "from pathlib import Path\n",
    "\n",
    "while Path.cwd().name != 'ambignli':\n",
    "    %cd .."
   ]
  },
  {
   "cell_type": "code",
   "execution_count": 2,
   "id": "11edb0b4",
   "metadata": {},
   "outputs": [],
   "source": [
    "import pandas as pd\n",
    "from tqdm import tqdm\n",
    "import random"
   ]
  },
  {
   "cell_type": "code",
   "execution_count": 4,
   "id": "f438e31f",
   "metadata": {},
   "outputs": [],
   "source": [
    "test_batch = pd.read_csv('annotation/validation/batches/test_batch_366725/Batch_366725_batch_results.csv')"
   ]
  },
  {
   "cell_type": "code",
   "execution_count": 15,
   "id": "68fd897b",
   "metadata": {},
   "outputs": [],
   "source": [
    "test_batch_ids = set(test_batch['Input.id'].tolist())"
   ]
  },
  {
   "cell_type": "code",
   "execution_count": 11,
   "id": "a8029032",
   "metadata": {},
   "outputs": [],
   "source": [
    "full = pd.read_json('annotation/ambignli/validated_examples.jsonl', lines=True)"
   ]
  },
  {
   "cell_type": "code",
   "execution_count": 17,
   "id": "5cb25fb3",
   "metadata": {},
   "outputs": [
    {
     "data": {
      "text/plain": [
       "49"
      ]
     },
     "execution_count": 17,
     "metadata": {},
     "output_type": "execute_result"
    }
   ],
   "source": [
    "len(set(full.id.tolist()).intersection(test_batch_ids))"
   ]
  },
  {
   "cell_type": "code",
   "execution_count": 19,
   "id": "9d3d54a0",
   "metadata": {},
   "outputs": [],
   "source": [
    "test_batch = pd.read_csv('annotation/batches/batch_365428/Batch_365428_batch_results.csv')"
   ]
  },
  {
   "cell_type": "code",
   "execution_count": null,
   "id": "74434503",
   "metadata": {},
   "outputs": [],
   "source": [
    "test_batch.loc[test_batch['id'] == ]"
   ]
  }
 ],
 "metadata": {
  "kernelspec": {
   "display_name": "Python 3 (ipykernel)",
   "language": "python",
   "name": "python3"
  },
  "language_info": {
   "codemirror_mode": {
    "name": "ipython",
    "version": 3
   },
   "file_extension": ".py",
   "mimetype": "text/x-python",
   "name": "python",
   "nbconvert_exporter": "python",
   "pygments_lexer": "ipython3",
   "version": "3.9.5"
  }
 },
 "nbformat": 4,
 "nbformat_minor": 5
}
