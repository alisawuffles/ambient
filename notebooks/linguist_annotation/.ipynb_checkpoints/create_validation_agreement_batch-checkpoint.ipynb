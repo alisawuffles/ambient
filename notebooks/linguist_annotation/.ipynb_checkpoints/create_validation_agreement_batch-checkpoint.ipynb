{
 "cells": [
  {
   "cell_type": "code",
   "execution_count": 1,
   "id": "e3e9163b",
   "metadata": {},
   "outputs": [
    {
     "name": "stdout",
     "output_type": "stream",
     "text": [
      "/mmfs1/gscratch/xlab/alisaliu/ambignli/notebooks\n",
      "/mmfs1/gscratch/xlab/alisaliu/ambignli\n"
     ]
    }
   ],
   "source": [
    "from pathlib import Path\n",
    "\n",
    "while Path.cwd().name != 'ambignli':\n",
    "    %cd .."
   ]
  },
  {
   "cell_type": "code",
   "execution_count": 25,
   "id": "430b940a",
   "metadata": {},
   "outputs": [],
   "source": [
    "import pandas as pd\n",
    "import numpy as np\n",
    "import random\n",
    "from sklearn.metrics import cohen_kappa_score\n",
    "from statsmodels.stats.inter_rater import fleiss_kappa, aggregate_raters"
   ]
  },
  {
   "cell_type": "code",
   "execution_count": 5,
   "id": "cfafd00f",
   "metadata": {},
   "outputs": [
    {
     "data": {
      "text/plain": [
       "0.3999999999999999"
      ]
     },
     "execution_count": 5,
     "metadata": {},
     "output_type": "execute_result"
    }
   ],
   "source": [
    "cohen_kappa_score([0,1,0],[0,1,1])"
   ]
  },
  {
   "cell_type": "code",
   "execution_count": 17,
   "id": "aa3748ab",
   "metadata": {},
   "outputs": [
    {
     "name": "stdout",
     "output_type": "stream",
     "text": [
      "[[2 0]\n",
      " [0 2]\n",
      " [1 1]]\n"
     ]
    },
    {
     "data": {
      "text/plain": [
       "0.33333333333333326"
      ]
     },
     "execution_count": 17,
     "metadata": {},
     "output_type": "execute_result"
    }
   ],
   "source": [
    "# input: rows = examples, columns = annotators, M[i,j] = what annotator j said about example i\n",
    "# output: M[i,k] = number of people who said k for example i\n",
    "arr = aggregate_raters([[0,0], [1,1], [0,1]])[0]\n",
    "print(arr)\n",
    "fleiss_kappa(arr)"
   ]
  },
  {
   "cell_type": "code",
   "execution_count": 32,
   "id": "25dfe985",
   "metadata": {},
   "outputs": [],
   "source": [
    "nextbatch = pd.read_csv('annotation/validation/nextbatches/examples_2.csv')\n",
    "interannotator_batch = nextbatch.sample(n=50)\n",
    "rest_batch = nextbatch.drop(interannotator_batch.index)"
   ]
  },
  {
   "cell_type": "code",
   "execution_count": 40,
   "id": "7e4cf0ba",
   "metadata": {},
   "outputs": [],
   "source": [
    "rest_batch.to_csv('annotation/validation/nextbatches/examples_2_subset.csv', index=False)\n",
    "interannotator_batch.to_csv('annotation/validation/nextbatches/interannotator_batch.csv', index=False)"
   ]
  },
  {
   "cell_type": "code",
   "execution_count": null,
   "id": "c4318129",
   "metadata": {},
   "outputs": [],
   "source": []
  }
 ],
 "metadata": {
  "kernelspec": {
   "display_name": "Python 3 (ipykernel)",
   "language": "python",
   "name": "python3"
  },
  "language_info": {
   "codemirror_mode": {
    "name": "ipython",
    "version": 3
   },
   "file_extension": ".py",
   "mimetype": "text/x-python",
   "name": "python",
   "nbconvert_exporter": "python",
   "pygments_lexer": "ipython3",
   "version": "3.9.5"
  }
 },
 "nbformat": 4,
 "nbformat_minor": 5
}
