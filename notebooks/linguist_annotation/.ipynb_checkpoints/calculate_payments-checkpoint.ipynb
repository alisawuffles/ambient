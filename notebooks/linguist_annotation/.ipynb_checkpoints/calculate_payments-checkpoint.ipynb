{
 "cells": [
  {
   "cell_type": "code",
   "execution_count": 1,
   "id": "f9985603",
   "metadata": {},
   "outputs": [
    {
     "name": "stdout",
     "output_type": "stream",
     "text": [
      "/mmfs1/gscratch/xlab/alisaliu/ambignli/notebooks\n",
      "/mmfs1/gscratch/xlab/alisaliu/ambignli\n"
     ]
    }
   ],
   "source": [
    "from pathlib import Path\n",
    "\n",
    "while Path.cwd().name != 'ambignli':\n",
    "    %cd .."
   ]
  },
  {
   "cell_type": "code",
   "execution_count": 2,
   "id": "140295d6",
   "metadata": {},
   "outputs": [
    {
     "data": {
      "text/plain": [
       "'en_US'"
      ]
     },
     "execution_count": 2,
     "metadata": {},
     "output_type": "execute_result"
    }
   ],
   "source": [
    "import pandas as pd\n",
    "from tqdm import tqdm\n",
    "from transformers import RobertaTokenizer, RobertaForSequenceClassification\n",
    "from utils.utils import predict_nli\n",
    "from torch import sigmoid\n",
    "from collections import Counter, defaultdict\n",
    "from utils.mturk_utils import read_batch\n",
    "import os\n",
    "import locale\n",
    "from datetime import datetime\n",
    "locale.setlocale(locale.LC_TIME, 'en_US')"
   ]
  },
  {
   "cell_type": "code",
   "execution_count": 3,
   "id": "9aa62fb9",
   "metadata": {},
   "outputs": [],
   "source": [
    "status_q = \"U.S. citizen, Green Card holder, or resident for tax purposes?\"\n",
    "participant_df = pd.read_csv('annotation/annotator_info/participants.csv')[['Name', status_q, 'Worker ID']]\n",
    "name_to_id = {row['Name']: row['Worker ID'] for i, row in participant_df.iterrows() if row[status_q] == 'No'}\n",
    "name_to_status = {row['Name']: row[status_q] for i, row in participant_df.iterrows()}\n",
    "id_to_name = {v:k for k,v in name_to_id.items()}"
   ]
  },
  {
   "cell_type": "code",
   "execution_count": 13,
   "id": "e4a3ea8e",
   "metadata": {},
   "outputs": [],
   "source": [
    "# week 1, 2: $0.25/ex\n",
    "# week 3: $20/hour\n",
    "# week 4,5: $20/hour + $0.05/ex\n",
    "\n",
    "# week 1, 2 (up until 10/16)\n",
    "# batch_folders = [\n",
    "#     'batch_364880',\n",
    "#     'batch_365428',\n",
    "#     'batch_365466',\n",
    "#     'batch_365544',\n",
    "#     'batch_365571',\n",
    "#     'batch_365593',\n",
    "#     'batch_365681',\n",
    "#     'batch_365867',\n",
    "#     'batch_366031',\n",
    "#     'batch_366125',\n",
    "#     'batch_366146',\n",
    "#     'batch_366279'\n",
    "# ]\n",
    "\n",
    "# week 3 (10/16 to 10/23)\n",
    "# batch_folders = [\n",
    "#     'batch_366834',\n",
    "#     'batch_366842',\n",
    "#     'batch_367198'\n",
    "# ]\n",
    "\n",
    "## week 4+5 (10/30 onwards)\n",
    "batch_folders = [\n",
    "    'batch_366947', # batch 40\n",
    "    'batch_367307', # batch 42\n",
    "    'batch_367308', # batch 43\n",
    "    'batch_367317',\n",
    "    'batch_367612',\n",
    "    'batch_367614',\n",
    "    'batch_368081',\n",
    "    'batch_368082'\n",
    "]"
   ]
  },
  {
   "cell_type": "code",
   "execution_count": 5,
   "id": "e6b8f58d",
   "metadata": {},
   "outputs": [],
   "source": [
    "def get_num_hits_per_worker(batch_folders):\n",
    "    hits_per_annotator = Counter()\n",
    "    for batch in batch_folders:\n",
    "        batch_id = batch.split('_')[-1]\n",
    "        batch_df = pd.read_csv(f'annotation/batches/batch_{batch_id}/Batch_{batch_id}_batch_results.csv')\n",
    "        hits_per_annotator += batch_df.WorkerId.value_counts()\n",
    "    return hits_per_annotator\n",
    "\n",
    "def get_time_per_worker(batch_folders):\n",
    "    time_per_annotator = Counter()\n",
    "    for batch in batch_folders:\n",
    "        batch_id = batch.split('_')[-1]\n",
    "        batch_df = pd.read_csv(f'annotation/batches/batch_{batch_id}/Batch_{batch_id}_batch_results.csv')\n",
    "        time_per_annotator += batch_df.groupby('WorkerId')['Answer.ee'].sum().to_dict()\n",
    "    return time_per_annotator"
   ]
  },
  {
   "cell_type": "code",
   "execution_count": 6,
   "id": "e85bcaf0",
   "metadata": {},
   "outputs": [],
   "source": [
    "def add_dicts(dict1, dict2):\n",
    "    dict1 = defaultdict(float, dict1)\n",
    "    dict2 = defaultdict(float, dict2)\n",
    "    sum_dict = {}\n",
    "    for key in list(dict1.keys())+list(dict2.keys()):\n",
    "        sum_dict[key] = dict1[key] + dict2[key]\n",
    "    return sum_dict"
   ]
  },
  {
   "cell_type": "code",
   "execution_count": 11,
   "id": "4047ffe7",
   "metadata": {},
   "outputs": [],
   "source": [
    "pay_per_hit = 0.05\n",
    "pay_per_second = 20 / (60*60)\n",
    "# pay_per_hit = 0.25\n",
    "\n",
    "# hits_per_annotator = get_num_hits_per_worker(batch_folders)\n",
    "# hits_pay_per_annotator = {id_to_name[k]: v*pay_per_hit for k,v in hits_per_annotator.items() if k in id_to_name}\n",
    "\n",
    "time_per_annotator = get_time_per_worker(batch_folders)\n",
    "time_pay_per_annotator = {id_to_name[k]: v*pay_per_second for k,v in time_per_annotator.items() if k in id_to_name}\n",
    "# pay_per_annotator = add_dicts(hits_pay_per_annotator, time_pay_per_annotator)"
   ]
  },
  {
   "cell_type": "code",
   "execution_count": 12,
   "id": "c3d2fa03",
   "metadata": {},
   "outputs": [
    {
     "data": {
      "text/plain": [
       "{'Jasmine Xie': 11.141733333333333}"
      ]
     },
     "execution_count": 12,
     "metadata": {},
     "output_type": "execute_result"
    }
   ],
   "source": [
    "time_pay_per_annotator"
   ]
  },
  {
   "cell_type": "code",
   "execution_count": 12,
   "id": "693f0be8",
   "metadata": {},
   "outputs": [],
   "source": [
    "pd.DataFrame(pay_per_annotator.items(), columns=['Name', 'Pay']).sort_values('Pay', ascending=False).to_csv('annotation/annotator_info/payments/week1-2.csv', index=False)"
   ]
  },
  {
   "cell_type": "code",
   "execution_count": 13,
   "id": "8eef5d6f",
   "metadata": {},
   "outputs": [
    {
     "data": {
      "text/plain": [
       "Counter({'A33CZOIP69KF5I': 1,\n",
       "         'AWZAHVWW0TNHP': 95,\n",
       "         'AZ1568AZA22GD': 162,\n",
       "         'A362GR9VFKI1V4': 232,\n",
       "         'A2D2ULNNAS97Z6': 301,\n",
       "         'A150G63O9PWMRT': 1,\n",
       "         'A2I77AI2YH9WZG': 84,\n",
       "         'A15WACUALQNT90': 806,\n",
       "         'A2JWOW2NFS1U8I': 54,\n",
       "         'A19B8RMTSQ93UN': 92,\n",
       "         'A1QWXN093H12SD': 62,\n",
       "         'A3SPV7CWJNSGKX': 46,\n",
       "         'A1QW104XQNIICA': 69,\n",
       "         'A29ZF8ZE9LWF57': 2,\n",
       "         'A37TR8J3QOFETB': 1,\n",
       "         'A3BMZ3RP4LQQN4': 57,\n",
       "         'A3FVGZKEEKXBON': 472,\n",
       "         'A2AM6K9TVHT3GO': 105,\n",
       "         'ALIC0JE97CQ49': 17,\n",
       "         'A1HBYLYXKD7VWX': 19,\n",
       "         'A3OPR2Z5P22028': 66,\n",
       "         'A3IVTKBNU262N5': 2,\n",
       "         'A34UNF33VD5RDC': 15,\n",
       "         'A2QT0XX0W627D4': 35,\n",
       "         'A1VZFTL8RBTK2P': 76,\n",
       "         'AT84PJH0EDWDZ': 13})"
      ]
     },
     "execution_count": 13,
     "metadata": {},
     "output_type": "execute_result"
    }
   ],
   "source": [
    "hits_per_annotator"
   ]
  },
  {
   "cell_type": "code",
   "execution_count": null,
   "id": "97fb8053",
   "metadata": {},
   "outputs": [],
   "source": []
  }
 ],
 "metadata": {
  "kernelspec": {
   "display_name": "Python 3 (ipykernel)",
   "language": "python",
   "name": "python3"
  },
  "language_info": {
   "codemirror_mode": {
    "name": "ipython",
    "version": 3
   },
   "file_extension": ".py",
   "mimetype": "text/x-python",
   "name": "python",
   "nbconvert_exporter": "python",
   "pygments_lexer": "ipython3",
   "version": "3.9.5"
  }
 },
 "nbformat": 4,
 "nbformat_minor": 5
}
