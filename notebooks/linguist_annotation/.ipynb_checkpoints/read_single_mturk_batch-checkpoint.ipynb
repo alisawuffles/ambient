{
 "cells": [
  {
   "cell_type": "code",
   "execution_count": 1,
   "id": "17aca68e",
   "metadata": {},
   "outputs": [
    {
     "name": "stdout",
     "output_type": "stream",
     "text": [
      "/mmfs1/gscratch/xlab/alisaliu/ambignli/notebooks\n",
      "/mmfs1/gscratch/xlab/alisaliu/ambignli\n"
     ]
    }
   ],
   "source": [
    "from pathlib import Path\n",
    "\n",
    "while Path.cwd().name != 'ambignli':\n",
    "    %cd .."
   ]
  },
  {
   "cell_type": "code",
   "execution_count": 2,
   "id": "470977f4",
   "metadata": {},
   "outputs": [
    {
     "data": {
      "text/plain": [
       "'en_US'"
      ]
     },
     "execution_count": 2,
     "metadata": {},
     "output_type": "execute_result"
    }
   ],
   "source": [
    "import numpy as np\n",
    "import pandas as pd\n",
    "from collections import defaultdict\n",
    "from sklearn.metrics import cohen_kappa_score\n",
    "from itertools import combinations\n",
    "from utils.constants import id2label\n",
    "from utils.mturk_utils import read_batch, statistics_for_worker\n",
    "import seaborn as sns\n",
    "import matplotlib.pyplot as plt\n",
    "import locale\n",
    "from datetime import datetime\n",
    "locale.setlocale(locale.LC_TIME, 'en_US')"
   ]
  },
  {
   "cell_type": "code",
   "execution_count": 63,
   "id": "1f4467ee",
   "metadata": {
    "scrolled": true
   },
   "outputs": [],
   "source": [
    "batch_id = 367198\n",
    "batch_df = read_batch(batch_id, batch_dir='annotation/batches/')"
   ]
  },
  {
   "cell_type": "code",
   "execution_count": 58,
   "id": "a4e435e7",
   "metadata": {},
   "outputs": [
    {
     "data": {
      "text/plain": [
       "A15WACUALQNT90    99\n",
       "A2JWOW2NFS1U8I    35\n",
       "A3FVGZKEEKXBON    23\n",
       "A2QT0XX0W627D4    14\n",
       "A2D2ULNNAS97Z6    11\n",
       "A1QW104XQNIICA    10\n",
       "A3GU7WPG63A7Y6    10\n",
       "Name: worker_id, dtype: int64"
      ]
     },
     "execution_count": 58,
     "metadata": {},
     "output_type": "execute_result"
    }
   ],
   "source": [
    "batch_df.worker_id.value_counts()"
   ]
  },
  {
   "cell_type": "code",
   "execution_count": 51,
   "id": "4b0683b2",
   "metadata": {},
   "outputs": [],
   "source": [
    "annotated_ids = set(batch_df['id'])\n",
    "scores_list = []\n",
    "for _, example_df in batch_df.groupby('id'):\n",
    "    annotations = example_df['q0_gold'].tolist()\n",
    "    try:\n",
    "        if 'discard' not in '.'.join(annotations):\n",
    "            scores_list.append(annotations)\n",
    "    except TypeError:\n",
    "        continue"
   ]
  },
  {
   "cell_type": "code",
   "execution_count": 52,
   "id": "b8a42a77",
   "metadata": {},
   "outputs": [
    {
     "data": {
      "text/plain": [
       "0.2972972972972973"
      ]
     },
     "execution_count": 52,
     "metadata": {},
     "output_type": "execute_result"
    }
   ],
   "source": [
    "# agreement overall\n",
    "np.sum([1 for l in scores_list if (len(set(l)) == 1)])/len(scores_list)"
   ]
  },
  {
   "cell_type": "code",
   "execution_count": 53,
   "id": "61afcba2",
   "metadata": {},
   "outputs": [
    {
     "name": "stdout",
     "output_type": "stream",
     "text": [
      "A2D2ULNNAS97Z6\n",
      "{'num_examples': 47, 'median_time': 25.107, 'prop_ambiguous': 0.10638297872340426, 'prop_discard': 0.14893617021276595}\n",
      "A3FVGZKEEKXBON\n",
      "{'num_examples': 99, 'median_time': 32.87, 'prop_ambiguous': 0.5656565656565656, 'prop_discard': 0.1414141414141414}\n",
      "A2I77AI2YH9WZG\n",
      "{'num_examples': 10, 'median_time': 128.923, 'prop_ambiguous': 0.4, 'prop_discard': 0.3}\n",
      "A15WACUALQNT90\n",
      "{'num_examples': 30, 'median_time': 36.308, 'prop_ambiguous': 0.4, 'prop_discard': 0.1}\n",
      "A2QT0XX0W627D4\n",
      "{'num_examples': 14, 'median_time': 9.901, 'prop_ambiguous': 0.07142857142857142, 'prop_discard': 0.21428571428571427}\n"
     ]
    }
   ],
   "source": [
    "worker_ids = set(batch_df.worker_id.tolist())\n",
    "for worker_id in worker_ids:\n",
    "    print(worker_id)\n",
    "    print(statistics_for_worker(batch_df, worker_id))"
   ]
  },
  {
   "cell_type": "code",
   "execution_count": 54,
   "id": "afaceac7",
   "metadata": {
    "scrolled": true
   },
   "outputs": [
    {
     "name": "stdout",
     "output_type": "stream",
     "text": [
      "\n",
      "-------------------- A2QT0XX0W627D4 (14) --------------------\n",
      "\n",
      "P: The data collected suggest that the problem is not as bad as previously thought.\n",
      "H: The data is not good enough to make a strong conclusion.\n",
      "Labels: neutral\n",
      "~\n",
      "P: I read a book about a woman who moved to a small town in Alaska.\n",
      "H: I read a book about a woman who moved to a small town in England.\n",
      "Labels: discard\n",
      "~\n",
      "P: There is no evidence that better schools lead to higher test scores.\n",
      "H: Better schools lead to higher test scores.\n",
      "Labels: contradiction\n",
      "~\n",
      "P: The median home price in the area has increased by 10 percent.\n",
      "H: The average home price in the area has increased by 10 percent.\n",
      "Labels: neutral\n",
      "~\n",
      "P: In the movie, the main character is an evil genius.\n",
      "H: In the book, the main character is an evil genius.\n",
      "Labels: discard\n",
      "~\n",
      "P: The theory goes that the moon was created when a piece of the earth broke off.\n",
      "H: The moon is a piece of the earth.\n",
      "Labels: discard\n",
      "~\n",
      "P: It is generally agreed that the tax code is in need of reform.\n",
      "H: The tax code is not in need of reform.\n",
      "Labels: contradiction\n",
      "~\n",
      "P: I'm not sure what to do.\n",
      "H: I'm sure that what I'm doing is the right thing.\n",
      "Labels: contradiction\n",
      "~\n",
      "P: In the 1990s, the company began to focus on the development of online services, and it soon became a leading provider of such services.\n",
      "H: The company was not a leading provider of online services in the 1990s.\n",
      "Labels: entailment\n",
      "~\n",
      "P: It is getting close to sunset.\n",
      "H: The sun is setting.\n",
      "Labels: entailment\n",
      "~\n",
      "P: All around the world, people are living in poverty.\n",
      "H: People are starving all around the world.\n",
      "Labels: entailment|neutral\n",
      "ENTAILMENT\n",
      "P: All around the world, people are living in poverty.\n",
      "H': People are starving all around the world due to poverty.\n",
      "NEUTRAL\n",
      "P: All around the world, people are living in poverty.\n",
      "H': People are starving all around the world but not because of poverty.\n",
      "NAN\n",
      "P: All around the world, people are living in poverty.\n",
      "H: People are starving all around the world.\n",
      "~\n",
      "P: The new procedures will require that all applications be made online.\n",
      "H: All applications must be made online.\n",
      "Labels: entailment\n",
      "~\n",
      "P: In the past, the quality of the products was not as good as it is now.\n",
      "H: The quality of the products is not as good as it is now.\n",
      "Labels: neutral\n",
      "~\n",
      "P: I find it difficult to believe that he was able to get the job done by himself.\n",
      "H: He was able to get the job done by himself.\n",
      "Labels: neutral\n",
      "~\n"
     ]
    }
   ],
   "source": [
    "for worker_id in worker_ids:\n",
    "    if worker_id != 'A2QT0XX0W627D4':\n",
    "        continue\n",
    "    worker_sub_df = batch_df.loc[batch_df['worker_id'] == worker_id]\n",
    "    print(f'\\n-------------------- {worker_id} ({len(worker_sub_df)}) --------------------\\n')\n",
    "    for i, row in worker_sub_df.iterrows():\n",
    "        premise, hypothesis = row['premise'], row['hypothesis']\n",
    "        print(f'P: {premise}\\nH: {hypothesis}')\n",
    "        labels = row[\"q0_gold\"]\n",
    "        print(f'Labels: {labels}')\n",
    "        if '|' in labels:\n",
    "            for i in range(1, 5):\n",
    "                if f'q{i}_gold' in row and not pd.isnull(row[f'q{i}_gold']):\n",
    "                    revised_premise = row[f'premise{i}']\n",
    "                    revised_hypothesis = row[f'hypothesis{i}']\n",
    "                    print(row[f'q{i}_gold'].upper())\n",
    "                    print(f\"P: {revised_premise}\") if revised_premise == premise else print(f\"P': {revised_premise}\")\n",
    "                    print(f\"H: {revised_hypothesis}\") if revised_hypothesis == hypothesis else print(f\"H': {revised_hypothesis}\")\n",
    "        if row['feedback'] != '{}':\n",
    "            print(f'Comments: {row[\"feedback\"]}')\n",
    "        print('~')"
   ]
  },
  {
   "cell_type": "code",
   "execution_count": 73,
   "id": "c7192b60",
   "metadata": {},
   "outputs": [
    {
     "name": "stdout",
     "output_type": "stream",
     "text": [
      "9214.401 sec * $0.006/sec * 1/202 examples\n",
      "Mean pay per example: 0.253\n"
     ]
    }
   ],
   "source": [
    "print(f'{batch_df[\"time_on_page\"].sum()} sec * ${np.round(20/(60*60),3)}/sec * 1/{len(batch_df)} examples')\n",
    "print(f'Mean pay per example: {np.round(batch_df[\"time_on_page\"].sum()*20/(60*60)/len(batch_df), 3)}')"
   ]
  },
  {
   "cell_type": "code",
   "execution_count": 75,
   "id": "47dea40f",
   "metadata": {},
   "outputs": [
    {
     "name": "stdout",
     "output_type": "stream",
     "text": [
      "26.0485\n",
      "45.615846534653485\n"
     ]
    },
    {
     "data": {
      "text/plain": [
       "(0.0, 150.0)"
      ]
     },
     "execution_count": 75,
     "metadata": {},
     "output_type": "execute_result"
    },
    {
     "data": {
      "image/png": "[encoded data removed]",
      "text/plain": [
       "<Figure size 432x288 with 1 Axes>"
      ]
     },
     "metadata": {
      "needs_background": "light"
     },
     "output_type": "display_data"
    }
   ],
   "source": [
    "# new_times = batch_df['time_on_page']\n",
    "fig, ax = plt.subplots()\n",
    "sns.histplot(batch_df['time_on_page'], kde=True, color=sns.color_palette('muted')[0], binwidth=10, stat='proportion')\n",
    "print(batch_df['time_on_page'].median())\n",
    "print(batch_df['time_on_page'].mean())\n",
    "ax.set_xlabel('Time on page (sec)')\n",
    "# ax.legend()\n",
    "ax.set_xlim(left=0, right=150)"
   ]
  },
  {
   "cell_type": "code",
   "execution_count": null,
   "id": "25c2ddc9",
   "metadata": {},
   "outputs": [],
   "source": [
    "# agreement on singly labeled examples\n",
    "singly_labeled = [l for l in scores_list if np.all(['|' not in a for a in l])]\n",
    "np.sum([1 for l in singly_labeled if (len(set(l)) == 1 and len(l)>1)])/np.sum([1 for l in singly_labeled if len(l)>1])"
   ]
  },
  {
   "cell_type": "code",
   "execution_count": null,
   "id": "133b4b90",
   "metadata": {},
   "outputs": [],
   "source": [
    "fig, ax = plt.subplots()\n",
    "# person_df = results_df.loc[results_df['WorkerId'] == 'A2I77AI2YH9WZG']\n",
    "person_df = results_df\n",
    "sns.histplot(person_df['Answer.ee'], kde=True)\n",
    "ax.set_xlabel('Time in seconds per example')\n",
    "print(person_df['Answer.ee'].quantile(q=0.75))"
   ]
  },
  {
   "cell_type": "code",
   "execution_count": null,
   "id": "c9cf9d74",
   "metadata": {},
   "outputs": [],
   "source": [
    "pairs = []\n",
    "for s in scores_list:\n",
    "    if len(s)>1:\n",
    "#         pairs_per_example = list(combinations(s,2))\n",
    "#         revised_pairs_per_examples = []   # revise so that subset equality is okay\n",
    "#         for p in pairs_per_example:\n",
    "#             if (p[0] in p[1]) or (p[1] in p[0]):\n",
    "#                 p = list(p)\n",
    "#                 p[1] = p[0]\n",
    "#                 p = tuple(p)\n",
    "#             revised_pairs_per_examples.append(p)\n",
    "#         pairs.extend(revised_pairs_per_examples)\n",
    "        pairs.extend(list(combinations(s,2)))\n",
    "labels1, labels2 = [p[0] for p in pairs], [p[1] for p in pairs]\n",
    "cohen_kappa_score(labels1, labels2)"
   ]
  },
  {
   "cell_type": "code",
   "execution_count": null,
   "id": "b9873c03",
   "metadata": {},
   "outputs": [],
   "source": [
    "processed_examples = []\n",
    "for id in annotated_ids:\n",
    "    sub_df = results_df.loc[results_df['Input.id'] == id]\n",
    "    dummy_row = sub_df.iloc[0]\n",
    "    annotations = sub_df['Answer.q0_gold'].tolist()\n",
    "    annotations = [textify(a) for a in annotations]\n",
    "    rewrites = defaultdict(list)\n",
    "    for _, row in sub_df.iterrows():\n",
    "        for i in range(1, 5):\n",
    "            if f'Answer.q{i}_gold' in row and not pd.isnull(row[f'Answer.q{i}_gold']):\n",
    "                label = id2label[row[f'Answer.q{i}_gold']]\n",
    "                rewrites[label].append({\n",
    "                    'premise': row[f'Answer.premise{i}'],\n",
    "                    'hypothesis': row[f'Answer.hypothesis{i}']\n",
    "                })\n",
    "    processed_examples.append({\n",
    "        'premise': dummy_row['Input.premise'],\n",
    "        'hypothesis': dummy_row['Input.hypothesis'],\n",
    "        'annotations': annotations,\n",
    "        \n",
    "        'rewrites': rewrites,\n",
    "        'comments': sub_df['Answer.feedback'].tolist()\n",
    "    })"
   ]
  },
  {
   "cell_type": "code",
   "execution_count": null,
   "id": "3af29f7b",
   "metadata": {
    "scrolled": false
   },
   "outputs": [],
   "source": [
    "with open(batch_dir / 'results.txt', 'w') as fo:\n",
    "    for ex in processed_examples:\n",
    "        if len(ex['annotations']) == 1:\n",
    "            continue\n",
    "        fo.write(f'Premise:\\t{ex[\"premise\"]}\\n')\n",
    "        fo.write(f'Hypothesis:\\t{ex[\"hypothesis\"]}\\n')\n",
    "        fo.write(f'Annotations:\\t{ex[\"annotations\"]}\\n')\n",
    "        for plausible_label in ex['rewrites']:\n",
    "            fo.write(f'{plausible_label.upper()}\\t\\n')\n",
    "            for revised_ex in ex['rewrites'][plausible_label]:\n",
    "                fo.write(f'\\tP:\\t{revised_ex[\"premise\"]}\\n') if revised_ex['premise'] == ex['premise'] else fo.write(f\"\\tP':\\t{revised_ex['premise']}\\n\")\n",
    "                fo.write(f'\\tH:\\t{revised_ex[\"hypothesis\"]}\\n') if revised_ex['hypothesis'] == ex['hypothesis'] else fo.write(f\"\\tH':\\t{revised_ex['hypothesis']}\\n\")\n",
    "        fo.write(f'Comments:\\n')\n",
    "        for comment in ex['comments']:\n",
    "            fo.write(f'\\t{comment}\\n')\n",
    "        fo.write('------------------------------\\n')"
   ]
  },
  {
   "cell_type": "code",
   "execution_count": null,
   "id": "9a7edcaa",
   "metadata": {},
   "outputs": [],
   "source": [
    "ex['comments']"
   ]
  },
  {
   "cell_type": "code",
   "execution_count": null,
   "id": "6e2566f3",
   "metadata": {},
   "outputs": [],
   "source": []
  }
 ],
 "metadata": {
  "kernelspec": {
   "display_name": "Python 3 (ipykernel)",
   "language": "python",
   "name": "python3"
  },
  "language_info": {
   "codemirror_mode": {
    "name": "ipython",
    "version": 3
   },
   "file_extension": ".py",
   "mimetype": "text/x-python",
   "name": "python",
   "nbconvert_exporter": "python",
   "pygments_lexer": "ipython3",
   "version": "3.9.5"
  }
 },
 "nbformat": 4,
 "nbformat_minor": 5
}
