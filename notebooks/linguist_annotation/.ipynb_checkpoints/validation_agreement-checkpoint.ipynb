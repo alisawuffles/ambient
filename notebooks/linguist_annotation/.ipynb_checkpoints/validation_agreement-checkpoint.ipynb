{
 "cells": [
  {
   "cell_type": "code",
   "execution_count": 1,
   "id": "af8825d4",
   "metadata": {},
   "outputs": [
    {
     "name": "stdout",
     "output_type": "stream",
     "text": [
      "/mmfs1/gscratch/xlab/alisaliu/ambignli/notebooks\n",
      "/mmfs1/gscratch/xlab/alisaliu/ambignli\n"
     ]
    }
   ],
   "source": [
    "from pathlib import Path\n",
    "\n",
    "while Path.cwd().name != 'ambignli':\n",
    "    %cd .."
   ]
  },
  {
   "cell_type": "code",
   "execution_count": 109,
   "id": "ada9fbf5",
   "metadata": {},
   "outputs": [],
   "source": [
    "import pandas as pd\n",
    "from utils.mturk_utils import read_batch, time_format, clean_batch\n",
    "from collections import defaultdict\n",
    "from utils.constants import id2label, NLI_LABELS\n",
    "from statsmodels.stats.inter_rater import fleiss_kappa, aggregate_raters"
   ]
  },
  {
   "cell_type": "code",
   "execution_count": 37,
   "id": "c4473b12",
   "metadata": {},
   "outputs": [],
   "source": [
    "batch_df = read_batch(369686)"
   ]
  },
  {
   "cell_type": "code",
   "execution_count": 38,
   "id": "efc15738",
   "metadata": {},
   "outputs": [
    {
     "data": {
      "text/plain": [
       "A2AX828Q4WXK3Z    50\n",
       "A3AA2VKV87R6PG    50\n",
       "A1KBELVHWNE4D5    50\n",
       "A14KPHOYAQCFWH    50\n",
       "Name: worker_id, dtype: int64"
      ]
     },
     "execution_count": 38,
     "metadata": {},
     "output_type": "execute_result"
    }
   ],
   "source": [
    "'''\n",
    "Zhaofeng: A2AX828Q4WXK3Z\n",
    "Julian: A3AA2VKV87R6PG\n",
    "Alane: A14KPHOYAQCFWH\n",
    "Alisa: A1KBELVHWNE4D5\n",
    "'''\n",
    "\n",
    "batch_df.worker_id.value_counts()"
   ]
  },
  {
   "cell_type": "code",
   "execution_count": 41,
   "id": "b3314f2c",
   "metadata": {},
   "outputs": [],
   "source": [
    "results = []\n",
    "for i, example_df in batch_df.groupby('id'):\n",
    "    dummy_row = example_df.iloc[0]\n",
    "    premise, hypothesis = dummy_row['premise'], dummy_row['hypothesis']\n",
    "    annotations = example_df.q0_gold.tolist()\n",
    "    results.append({\n",
    "        'premise': premise,\n",
    "        'hypothesis': hypothesis,\n",
    "        'annotations': annotations\n",
    "    })"
   ]
  },
  {
   "cell_type": "code",
   "execution_count": 45,
   "id": "f37f1775",
   "metadata": {},
   "outputs": [],
   "source": [
    "pd.DataFrame(results).to_json('annotation/validation/batches/batch_369686/annotations.jsonl', orient='records', lines=True)"
   ]
  },
  {
   "cell_type": "code",
   "execution_count": 66,
   "id": "beb4520c",
   "metadata": {},
   "outputs": [],
   "source": [
    "processed_examples = []\n",
    "for i, example_df in batch_df.groupby('id'):\n",
    "    dummy_row = example_df.iloc[0]\n",
    "    annotations = example_df['q0_gold'].tolist()\n",
    "    rewrites = defaultdict(list)\n",
    "    for _, row in example_df.iterrows():\n",
    "        for i in range(1, 5):\n",
    "            if f'q{i}_gold' in row and row[f'q{i}_gold'] != 'nan':\n",
    "                label = row[f'q{i}_gold']\n",
    "                rewrites[label].append({\n",
    "                    'premise': row[f'premise{i}'],\n",
    "                    'hypothesis': row[f'hypothesis{i}']\n",
    "                })\n",
    "    processed_examples.append({\n",
    "        'premise': dummy_row['premise'],\n",
    "        'hypothesis': dummy_row['hypothesis'],\n",
    "        'annotations': annotations,\n",
    "        'rewrites': rewrites,\n",
    "        'comments': example_df['feedback'].tolist()\n",
    "    })"
   ]
  },
  {
   "cell_type": "code",
   "execution_count": 68,
   "id": "240da183",
   "metadata": {},
   "outputs": [],
   "source": [
    "pd.DataFrame(processed_examples).to_json('annotation/validation/batches/batch_369686/annotations.json', indent=2, orient='index')"
   ]
  },
  {
   "cell_type": "code",
   "execution_count": 70,
   "id": "15672c7b",
   "metadata": {},
   "outputs": [],
   "source": [
    "processed_df = pd.DataFrame(processed_examples)"
   ]
  },
  {
   "cell_type": "code",
   "execution_count": 133,
   "id": "1803a167",
   "metadata": {},
   "outputs": [
    {
     "ename": "AttributeError",
     "evalue": "'int' object has no attribute 'append'",
     "output_type": "error",
     "traceback": [
      "\u001b[0;31m---------------------------------------------------------------------------\u001b[0m",
      "\u001b[0;31mAttributeError\u001b[0m                            Traceback (most recent call last)",
      "\u001b[0;32m/tmp/ipykernel_2331/372418120.py\u001b[0m in \u001b[0;36m<module>\u001b[0;34m\u001b[0m\n\u001b[1;32m      8\u001b[0m \u001b[0;32mfor\u001b[0m \u001b[0mi\u001b[0m\u001b[0;34m,\u001b[0m \u001b[0mrow\u001b[0m \u001b[0;32min\u001b[0m \u001b[0mprocessed_df\u001b[0m\u001b[0;34m.\u001b[0m\u001b[0miterrows\u001b[0m\u001b[0;34m(\u001b[0m\u001b[0;34m)\u001b[0m\u001b[0;34m:\u001b[0m\u001b[0;34m\u001b[0m\u001b[0;34m\u001b[0m\u001b[0m\n\u001b[1;32m      9\u001b[0m     \u001b[0;32mif\u001b[0m \u001b[0;34m'discard'\u001b[0m \u001b[0;32min\u001b[0m \u001b[0mrow\u001b[0m\u001b[0;34m[\u001b[0m\u001b[0;34m'annotations'\u001b[0m\u001b[0;34m]\u001b[0m\u001b[0;34m:\u001b[0m\u001b[0;34m\u001b[0m\u001b[0;34m\u001b[0m\u001b[0m\n\u001b[0;32m---> 10\u001b[0;31m         \u001b[0mdiscards_individual\u001b[0m\u001b[0;34m.\u001b[0m\u001b[0mappend\u001b[0m\u001b[0;34m(\u001b[0m\u001b[0mrow\u001b[0m\u001b[0;34m[\u001b[0m\u001b[0;34m'annotations'\u001b[0m\u001b[0;34m]\u001b[0m\u001b[0;34m.\u001b[0m\u001b[0mcount\u001b[0m\u001b[0;34m(\u001b[0m\u001b[0;34m'discard'\u001b[0m\u001b[0;34m)\u001b[0m\u001b[0;34m)\u001b[0m\u001b[0;34m\u001b[0m\u001b[0;34m\u001b[0m\u001b[0m\n\u001b[0m\u001b[1;32m     11\u001b[0m         \u001b[0mdiscards\u001b[0m \u001b[0;34m+=\u001b[0m \u001b[0;36m1\u001b[0m\u001b[0;34m\u001b[0m\u001b[0;34m\u001b[0m\u001b[0m\n\u001b[1;32m     12\u001b[0m         \u001b[0;32mcontinue\u001b[0m\u001b[0;34m\u001b[0m\u001b[0;34m\u001b[0m\u001b[0m\n",
      "\u001b[0;31mAttributeError\u001b[0m: 'int' object has no attribute 'append'"
     ]
    }
   ],
   "source": [
    "exact_match_ct = 0\n",
    "union_ct = 0\n",
    "tot = 0\n",
    "discards = 0\n",
    "discards_individual = 0\n",
    "annotations = []\n",
    "\n",
    "for i, row in processed_df.iterrows():\n",
    "    if 'discard' in row['annotations']:\n",
    "        discards_individual ++ row['annotations'].count('discard')\n",
    "        discards += 1\n",
    "        continue\n",
    "    tot += 1\n",
    "    annotations.append(row['annotations'])\n",
    "    unique_annotations = set(row['annotations']).difference({'discard'})\n",
    "    labels_union = set('|'.join(unique_annotations).split('|'))\n",
    "    biggest_label = get_biggest_annotation(unique_annotations)\n",
    "    if len(unique_annotations) == 1:\n",
    "        exact_match_ct += 1\n",
    "    if labels_union.issubset(set(biggest_label.split('|'))):\n",
    "        union_ct += 1"
   ]
  },
  {
   "cell_type": "code",
   "execution_count": 97,
   "id": "2ee72e57",
   "metadata": {},
   "outputs": [
    {
     "data": {
      "text/plain": [
       "0.6486486486486487"
      ]
     },
     "execution_count": 97,
     "metadata": {},
     "output_type": "execute_result"
    }
   ],
   "source": [
    "union_ct/tot"
   ]
  },
  {
   "cell_type": "code",
   "execution_count": 98,
   "id": "e913cde7",
   "metadata": {},
   "outputs": [
    {
     "data": {
      "text/plain": [
       "0.40540540540540543"
      ]
     },
     "execution_count": 98,
     "metadata": {},
     "output_type": "execute_result"
    }
   ],
   "source": [
    "exact_match_ct/tot"
   ]
  },
  {
   "cell_type": "code",
   "execution_count": 85,
   "id": "a7583b90",
   "metadata": {},
   "outputs": [],
   "source": [
    "def get_biggest_annotation(annotations):\n",
    "    \"\"\"\n",
    "    get annotation with the most labels\n",
    "    \"\"\"\n",
    "    def get_length(annotation):\n",
    "        return len(annotation.split('|'))\n",
    "\n",
    "    biggest_annotation = ''\n",
    "    for annot in annotations:\n",
    "        if get_length(annot) > get_length(biggest_annotation):\n",
    "            biggest_annotation = annot\n",
    "    return biggest_annotation"
   ]
  },
  {
   "cell_type": "code",
   "execution_count": 111,
   "id": "6146d7bb",
   "metadata": {},
   "outputs": [
    {
     "data": {
      "text/plain": [
       "0.4191419141914192"
      ]
     },
     "execution_count": 111,
     "metadata": {},
     "output_type": "execute_result"
    }
   ],
   "source": [
    "arr = aggregate_raters(annotations)[0]\n",
    "fleiss_kappa(arr)"
   ]
  },
  {
   "cell_type": "code",
   "execution_count": 121,
   "id": "4a72f852",
   "metadata": {},
   "outputs": [],
   "source": [
    "binary_annotations = {}\n",
    "for label in NLI_LABELS:\n",
    "    label_annotations = []\n",
    "    for ex_annotations in annotations:\n",
    "        ex_annotation = []\n",
    "        for annotation in ex_annotations:\n",
    "            if label in annotation:\n",
    "                ex_annotation.append(1)\n",
    "            else:\n",
    "                ex_annotation.append(0)\n",
    "        label_annotations.append(ex_annotation)\n",
    "    binary_annotations[label] = label_annotations"
   ]
  },
  {
   "cell_type": "code",
   "execution_count": 127,
   "id": "516b0cc9",
   "metadata": {},
   "outputs": [
    {
     "name": "stdout",
     "output_type": "stream",
     "text": [
      "contradiction: 0.6170312867560573\n",
      "entailment: 0.645402815214136\n",
      "neutral: 0.41388969380855806\n"
     ]
    }
   ],
   "source": [
    "for label in NLI_LABELS:\n",
    "    arr = aggregate_raters(binary_annotations[label])[0]\n",
    "    print(f'{label}: {fleiss_kappa(arr)}')"
   ]
  },
  {
   "cell_type": "code",
   "execution_count": 132,
   "id": "be90c3eb",
   "metadata": {},
   "outputs": [
    {
     "data": {
      "text/plain": [
       "13"
      ]
     },
     "execution_count": 132,
     "metadata": {},
     "output_type": "execute_result"
    }
   ],
   "source": [
    "discards"
   ]
  },
  {
   "cell_type": "code",
   "execution_count": null,
   "id": "9503fad2",
   "metadata": {},
   "outputs": [],
   "source": []
  }
 ],
 "metadata": {
  "kernelspec": {
   "display_name": "Python 3 (ipykernel)",
   "language": "python",
   "name": "python3"
  },
  "language_info": {
   "codemirror_mode": {
    "name": "ipython",
    "version": 3
   },
   "file_extension": ".py",
   "mimetype": "text/x-python",
   "name": "python",
   "nbconvert_exporter": "python",
   "pygments_lexer": "ipython3",
   "version": "3.9.5"
  }
 },
 "nbformat": 4,
 "nbformat_minor": 5
}
