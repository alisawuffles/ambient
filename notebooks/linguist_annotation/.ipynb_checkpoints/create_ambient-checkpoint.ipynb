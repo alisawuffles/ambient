{
 "cells": [
  {
   "cell_type": "code",
   "execution_count": 1,
   "id": "4208fbfc",
   "metadata": {},
   "outputs": [
    {
     "name": "stdout",
     "output_type": "stream",
     "text": [
      "/mmfs1/gscratch/xlab/alisaliu/ambient/notebooks\n",
      "/mmfs1/gscratch/xlab/alisaliu/ambient\n"
     ]
    }
   ],
   "source": [
    "\"\"\"\n",
    "create AmbiEnt from the validation batches\n",
    "\"\"\"\n",
    "\n",
    "from pathlib import Path\n",
    "\n",
    "while Path.cwd().name != 'ambient':\n",
    "    %cd .."
   ]
  },
  {
   "cell_type": "code",
   "execution_count": 2,
   "id": "fdcf99e5",
   "metadata": {},
   "outputs": [],
   "source": [
    "import os\n",
    "from mturk.annotation_utils import read_batch, clean_validation_batch, statistics_for_worker\n",
    "import numpy as np\n",
    "import pandas as pd\n",
    "import seaborn as sns\n",
    "from collections import Counter"
   ]
  },
  {
   "cell_type": "code",
   "execution_count": 3,
   "id": "57a75f87",
   "metadata": {},
   "outputs": [],
   "source": [
    "def get_num_rewrites(row, key: str):\n",
    "    \"\"\"\n",
    "    key: one of premise, hypothesis\n",
    "    return number of distinct rewrites\n",
    "    \"\"\"\n",
    "    return len(set([d[key] for d in flatten_list_of_lists(row['disambiguations'].values()) if d[key] != row[key]]))\n",
    "\n",
    "def flatten_list_of_lists(list_of_lists):\n",
    "    return [x for sublist in list_of_lists for x in sublist]"
   ]
  },
  {
   "cell_type": "code",
   "execution_count": 18,
   "id": "65b63d90",
   "metadata": {},
   "outputs": [
    {
     "name": "stdout",
     "output_type": "stream",
     "text": [
      "Number of examples annotated: 2167\n",
      "Number of examples in validated dataset: 1504\n"
     ]
    },
    {
     "data": {
      "text/plain": [
       "Counter({'A3AA2VKV87R6PG': 345,\n",
       "         'A1KBELVHWNE4D5': 1473,\n",
       "         'A2AX828Q4WXK3Z': 248,\n",
       "         'A14KPHOYAQCFWH': 101})"
      ]
     },
     "execution_count": 18,
     "metadata": {},
     "output_type": "execute_result"
    }
   ],
   "source": [
    "batches_dir = Path('annotation/validation/batches')\n",
    "dirs = [d for d in os.listdir(batches_dir) if (os.path.isdir(batches_dir / d) and d.startswith('batch_'))]\n",
    "hits_per_annotator = Counter()\n",
    "\n",
    "batch_dfs = []\n",
    "for batch_dir in dirs:\n",
    "    batch_id = int(batch_dir.split('_')[1])\n",
    "    batch_df = read_batch(batch_id, batch_dir=batches_dir)\n",
    "    batch_dfs.append(batch_df)\n",
    "    hits_per_annotator += batch_df.worker_id.value_counts()\n",
    "\n",
    "validated_df = pd.concat(batch_dfs)\n",
    "print(f'Number of examples annotated: {len(validated_df.index)}')\n",
    "validated_df = clean_validation_batch(validated_df)\n",
    "print(f'Number of examples in validated dataset: {len(validated_df)}')\n",
    "validated_df.reset_index(drop=True, inplace=True)\n",
    "hits_per_annotator"
   ]
  },
  {
   "cell_type": "code",
   "execution_count": 24,
   "id": "edfb228e",
   "metadata": {},
   "outputs": [
    {
     "data": {
      "text/html": [
       "<div>\n",
       "<style scoped>\n",
       "    .dataframe tbody tr th:only-of-type {\n",
       "        vertical-align: middle;\n",
       "    }\n",
       "\n",
       "    .dataframe tbody tr th {\n",
       "        vertical-align: top;\n",
       "    }\n",
       "\n",
       "    .dataframe thead th {\n",
       "        text-align: right;\n",
       "    }\n",
       "</style>\n",
       "<table border=\"1\" class=\"dataframe\">\n",
       "  <thead>\n",
       "    <tr style=\"text-align: right;\">\n",
       "      <th></th>\n",
       "      <th>id</th>\n",
       "      <th>premise</th>\n",
       "      <th>hypothesis</th>\n",
       "      <th>gold</th>\n",
       "      <th>premise_ambiguous</th>\n",
       "      <th>hypothesis_ambiguous</th>\n",
       "      <th>disambiguations</th>\n",
       "      <th>labels</th>\n",
       "    </tr>\n",
       "  </thead>\n",
       "  <tbody>\n",
       "    <tr>\n",
       "      <th>0</th>\n",
       "      <td>104020</td>\n",
       "      <td>The vote was close because many people were un...</td>\n",
       "      <td>The vote was close because many people abstained.</td>\n",
       "      <td>entailment|neutral</td>\n",
       "      <td>True</td>\n",
       "      <td>False</td>\n",
       "      <td>[{'premise': 'The vote was close because many ...</td>\n",
       "      <td>entailment, neutral</td>\n",
       "    </tr>\n",
       "    <tr>\n",
       "      <th>1</th>\n",
       "      <td>103930</td>\n",
       "      <td>The majority of people think that the governme...</td>\n",
       "      <td>The government is not doing enough to help the...</td>\n",
       "      <td>entailment</td>\n",
       "      <td>False</td>\n",
       "      <td>False</td>\n",
       "      <td>[]</td>\n",
       "      <td>entailment</td>\n",
       "    </tr>\n",
       "    <tr>\n",
       "      <th>2</th>\n",
       "      <td>103892</td>\n",
       "      <td>The poet's words are like the hands of the clo...</td>\n",
       "      <td>The clockmaker's hands are like the poet's words.</td>\n",
       "      <td>entailment</td>\n",
       "      <td>False</td>\n",
       "      <td>False</td>\n",
       "      <td>[]</td>\n",
       "      <td>entailment</td>\n",
       "    </tr>\n",
       "    <tr>\n",
       "      <th>3</th>\n",
       "      <td>103802</td>\n",
       "      <td>It is not that I don't want to see the movie, ...</td>\n",
       "      <td>I don't want to see the movie.</td>\n",
       "      <td>neutral|contradiction</td>\n",
       "      <td>True</td>\n",
       "      <td>False</td>\n",
       "      <td>[{'premise': 'I want to see the movie, but I d...</td>\n",
       "      <td>neutral, contradiction</td>\n",
       "    </tr>\n",
       "    <tr>\n",
       "      <th>4</th>\n",
       "      <td>103559</td>\n",
       "      <td>The most important characteristic of a good te...</td>\n",
       "      <td>The most important characteristic of a good te...</td>\n",
       "      <td>contradiction</td>\n",
       "      <td>False</td>\n",
       "      <td>False</td>\n",
       "      <td>[]</td>\n",
       "      <td>contradiction</td>\n",
       "    </tr>\n",
       "    <tr>\n",
       "      <th>...</th>\n",
       "      <td>...</td>\n",
       "      <td>...</td>\n",
       "      <td>...</td>\n",
       "      <td>...</td>\n",
       "      <td>...</td>\n",
       "      <td>...</td>\n",
       "      <td>...</td>\n",
       "      <td>...</td>\n",
       "    </tr>\n",
       "    <tr>\n",
       "      <th>1499</th>\n",
       "      <td>391</td>\n",
       "      <td>Even if you study hard, you can't expect to ge...</td>\n",
       "      <td>You can study hard and get an A on the test.</td>\n",
       "      <td>neutral|contradiction</td>\n",
       "      <td>False</td>\n",
       "      <td>True</td>\n",
       "      <td>[{'premise': 'Even if you study hard, you can'...</td>\n",
       "      <td>neutral, contradiction</td>\n",
       "    </tr>\n",
       "    <tr>\n",
       "      <th>1500</th>\n",
       "      <td>345</td>\n",
       "      <td>The novel was turned into a movie that was a h...</td>\n",
       "      <td>The novel was a huge success.</td>\n",
       "      <td>neutral</td>\n",
       "      <td>False</td>\n",
       "      <td>False</td>\n",
       "      <td>[]</td>\n",
       "      <td>neutral</td>\n",
       "    </tr>\n",
       "    <tr>\n",
       "      <th>1501</th>\n",
       "      <td>119</td>\n",
       "      <td>The teacher is speaking to the class about anc...</td>\n",
       "      <td>The teacher is speaking to the class about anc...</td>\n",
       "      <td>contradiction</td>\n",
       "      <td>False</td>\n",
       "      <td>False</td>\n",
       "      <td>[]</td>\n",
       "      <td>contradiction</td>\n",
       "    </tr>\n",
       "    <tr>\n",
       "      <th>1502</th>\n",
       "      <td>110</td>\n",
       "      <td>It is raining.</td>\n",
       "      <td>The ground is wet.</td>\n",
       "      <td>neutral</td>\n",
       "      <td>False</td>\n",
       "      <td>False</td>\n",
       "      <td>[]</td>\n",
       "      <td>neutral</td>\n",
       "    </tr>\n",
       "    <tr>\n",
       "      <th>1503</th>\n",
       "      <td>4</td>\n",
       "      <td>We cannot be sure that the meeting will be pro...</td>\n",
       "      <td>We cannot be sure that the meeting will not be...</td>\n",
       "      <td>entailment</td>\n",
       "      <td>False</td>\n",
       "      <td>False</td>\n",
       "      <td>[]</td>\n",
       "      <td>entailment</td>\n",
       "    </tr>\n",
       "  </tbody>\n",
       "</table>\n",
       "<p>1504 rows × 8 columns</p>\n",
       "</div>"
      ],
      "text/plain": [
       "          id                                            premise  \\\n",
       "0     104020  The vote was close because many people were un...   \n",
       "1     103930  The majority of people think that the governme...   \n",
       "2     103892  The poet's words are like the hands of the clo...   \n",
       "3     103802  It is not that I don't want to see the movie, ...   \n",
       "4     103559  The most important characteristic of a good te...   \n",
       "...      ...                                                ...   \n",
       "1499     391  Even if you study hard, you can't expect to ge...   \n",
       "1500     345  The novel was turned into a movie that was a h...   \n",
       "1501     119  The teacher is speaking to the class about anc...   \n",
       "1502     110                                     It is raining.   \n",
       "1503       4  We cannot be sure that the meeting will be pro...   \n",
       "\n",
       "                                             hypothesis  \\\n",
       "0     The vote was close because many people abstained.   \n",
       "1     The government is not doing enough to help the...   \n",
       "2     The clockmaker's hands are like the poet's words.   \n",
       "3                        I don't want to see the movie.   \n",
       "4     The most important characteristic of a good te...   \n",
       "...                                                 ...   \n",
       "1499       You can study hard and get an A on the test.   \n",
       "1500                      The novel was a huge success.   \n",
       "1501  The teacher is speaking to the class about anc...   \n",
       "1502                                 The ground is wet.   \n",
       "1503  We cannot be sure that the meeting will not be...   \n",
       "\n",
       "                       gold  premise_ambiguous  hypothesis_ambiguous  \\\n",
       "0        entailment|neutral               True                 False   \n",
       "1                entailment              False                 False   \n",
       "2                entailment              False                 False   \n",
       "3     neutral|contradiction               True                 False   \n",
       "4             contradiction              False                 False   \n",
       "...                     ...                ...                   ...   \n",
       "1499  neutral|contradiction              False                  True   \n",
       "1500                neutral              False                 False   \n",
       "1501          contradiction              False                 False   \n",
       "1502                neutral              False                 False   \n",
       "1503             entailment              False                 False   \n",
       "\n",
       "                                        disambiguations  \\\n",
       "0     [{'premise': 'The vote was close because many ...   \n",
       "1                                                    []   \n",
       "2                                                    []   \n",
       "3     [{'premise': 'I want to see the movie, but I d...   \n",
       "4                                                    []   \n",
       "...                                                 ...   \n",
       "1499  [{'premise': 'Even if you study hard, you can'...   \n",
       "1500                                                 []   \n",
       "1501                                                 []   \n",
       "1502                                                 []   \n",
       "1503                                                 []   \n",
       "\n",
       "                      labels  \n",
       "0        entailment, neutral  \n",
       "1                 entailment  \n",
       "2                 entailment  \n",
       "3     neutral, contradiction  \n",
       "4              contradiction  \n",
       "...                      ...  \n",
       "1499  neutral, contradiction  \n",
       "1500                 neutral  \n",
       "1501           contradiction  \n",
       "1502                 neutral  \n",
       "1503              entailment  \n",
       "\n",
       "[1504 rows x 8 columns]"
      ]
     },
     "execution_count": 24,
     "metadata": {},
     "output_type": "execute_result"
    }
   ],
   "source": [
    "validated_df"
   ]
  },
  {
   "cell_type": "code",
   "execution_count": 19,
   "id": "e692ba52",
   "metadata": {},
   "outputs": [],
   "source": [
    "validated_df['premise_ambiguous'] = False\n",
    "validated_df['hypothesis_ambiguous'] = False\n",
    "validated_df['reformatted_disambiguations'] = None\n",
    "\n",
    "for i, row in validated_df.iterrows():\n",
    "    assert get_num_rewrites(row, 'premise') != 1 and get_num_rewrites(row, 'hypothesis') != 1\n",
    "    validated_df.at[i, 'gold'] = ', '.join(row['gold'].split('|'))\n",
    "    validated_df.at[i, 'reformatted_disambiguations'] = [d | {'label': l} for l, ds in row['disambiguations'].items() for d in ds]\n",
    "    \n",
    "    for key in ['premise', 'hypothesis']:\n",
    "        if get_num_rewrites(row, key) >= 2:\n",
    "            validated_df.at[i, f'{key}_ambiguous'] = True"
   ]
  },
  {
   "cell_type": "code",
   "execution_count": 20,
   "id": "73f4534c",
   "metadata": {},
   "outputs": [],
   "source": [
    "validated_df.drop('validator_id', axis=1, inplace=True)\n",
    "column_order = validated_df.columns.tolist()\n",
    "column_order.remove('disambiguations')\n",
    "validated_df = validated_df[column_order]\n",
    "validated_df.rename(columns={'reformatted_disambiguations': 'disambiguations', 'gold': 'labels'}, inplace=True)"
   ]
  },
  {
   "cell_type": "code",
   "execution_count": 21,
   "id": "d878e4f8",
   "metadata": {},
   "outputs": [
    {
     "name": "stdout",
     "output_type": "stream",
     "text": [
      "1504\n"
     ]
    }
   ],
   "source": [
    "validated_df.head(3)\n",
    "print(len(validated_df.index))"
   ]
  },
  {
   "cell_type": "code",
   "execution_count": 22,
   "id": "2cc1f743",
   "metadata": {},
   "outputs": [
    {
     "data": {
      "text/plain": [
       "0.2925531914893617"
      ]
     },
     "execution_count": 22,
     "metadata": {},
     "output_type": "execute_result"
    }
   ],
   "source": [
    "len(validated_df.loc[validated_df['premise_ambiguous'] | validated_df['hypothesis_ambiguous']])/len(validated_df.index)"
   ]
  },
  {
   "cell_type": "code",
   "execution_count": 23,
   "id": "2b10d541",
   "metadata": {},
   "outputs": [],
   "source": [
    "validated_df.sample(frac=1).to_json('annotation/AmbiEnt/validated_examples.jsonl', orient='records', lines=True)"
   ]
  },
  {
   "cell_type": "code",
   "execution_count": null,
   "id": "a2809499",
   "metadata": {},
   "outputs": [],
   "source": []
  }
 ],
 "metadata": {
  "kernelspec": {
   "display_name": "Python 3 (ipykernel)",
   "language": "python",
   "name": "python3"
  },
  "language_info": {
   "codemirror_mode": {
    "name": "ipython",
    "version": 3
   },
   "file_extension": ".py",
   "mimetype": "text/x-python",
   "name": "python",
   "nbconvert_exporter": "python",
   "pygments_lexer": "ipython3",
   "version": "3.9.5"
  }
 },
 "nbformat": 4,
 "nbformat_minor": 5
}
