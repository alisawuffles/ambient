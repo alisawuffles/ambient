{
 "cells": [
  {
   "cell_type": "code",
   "execution_count": 1,
   "id": "1cc678c0",
   "metadata": {},
   "outputs": [
    {
     "name": "stdout",
     "output_type": "stream",
     "text": [
      "/mmfs1/gscratch/xlab/alisaliu/ambignli/notebooks\n",
      "/mmfs1/gscratch/xlab/alisaliu/ambignli\n"
     ]
    }
   ],
   "source": [
    "from pathlib import Path\n",
    "\n",
    "while Path.cwd().name != 'ambient':\n",
    "    %cd .."
   ]
  },
  {
   "cell_type": "code",
   "execution_count": 3,
   "id": "38bdea24",
   "metadata": {},
   "outputs": [
    {
     "data": {
      "text/plain": [
       "'en_US'"
      ]
     },
     "execution_count": 3,
     "metadata": {},
     "output_type": "execute_result"
    }
   ],
   "source": [
    "import numpy as np\n",
    "import pandas as pd\n",
    "from mturk.annotation_utils import read_batch, time_format, clean_annotation_batch\n",
    "import os\n",
    "from utils.constants import NLI_LABELS\n",
    "import seaborn as sns\n",
    "from tqdm import tqdm\n",
    "import matplotlib.pyplot as plt\n",
    "from utils.utils import flatten_list_of_lists\n",
    "from collections import Counter, defaultdict\n",
    "from datetime import datetime\n",
    "import math\n",
    "import locale\n",
    "locale.setlocale(locale.LC_TIME, 'en_US')"
   ]
  },
  {
   "cell_type": "code",
   "execution_count": 4,
   "id": "c5cc025d",
   "metadata": {},
   "outputs": [],
   "source": [
    "batches_dir = Path('annotation/batches')\n",
    "dirs = [d for d in os.listdir(batches_dir) if (os.path.isdir(batches_dir / d) and d.startswith('batch_'))]"
   ]
  },
  {
   "cell_type": "code",
   "execution_count": 5,
   "id": "a7ed8e74",
   "metadata": {},
   "outputs": [],
   "source": [
    "hits_per_annotator = Counter()\n",
    "batch_dfs = []\n",
    "\n",
    "for batch_dir in dirs:\n",
    "    batch_id = int(batch_dir.split('_')[-1])\n",
    "    batch_df = read_batch(batch_id, batch_dir=batches_dir)\n",
    "    batch_dfs.append(batch_df)\n",
    "    hits_per_annotator += batch_df.worker_id.value_counts()"
   ]
  },
  {
   "cell_type": "code",
   "execution_count": 6,
   "id": "ba534e8a",
   "metadata": {
    "scrolled": false
   },
   "outputs": [
    {
     "name": "stdout",
     "output_type": "stream",
     "text": [
      "Total annotations: 5232\n"
     ]
    },
    {
     "data": {
      "text/html": [
       "<div>\n",
       "<style scoped>\n",
       "    .dataframe tbody tr th:only-of-type {\n",
       "        vertical-align: middle;\n",
       "    }\n",
       "\n",
       "    .dataframe tbody tr th {\n",
       "        vertical-align: top;\n",
       "    }\n",
       "\n",
       "    .dataframe thead th {\n",
       "        text-align: right;\n",
       "    }\n",
       "</style>\n",
       "<table border=\"1\" class=\"dataframe\">\n",
       "  <thead>\n",
       "    <tr style=\"text-align: right;\">\n",
       "      <th></th>\n",
       "      <th>worker_id</th>\n",
       "      <th>submit_time</th>\n",
       "      <th>time_on_page</th>\n",
       "      <th>id</th>\n",
       "      <th>premise</th>\n",
       "      <th>hypothesis</th>\n",
       "      <th>feedback</th>\n",
       "      <th>premise1</th>\n",
       "      <th>premise2</th>\n",
       "      <th>premise3</th>\n",
       "      <th>premise4</th>\n",
       "      <th>hypothesis1</th>\n",
       "      <th>hypothesis2</th>\n",
       "      <th>hypothesis3</th>\n",
       "      <th>hypothesis4</th>\n",
       "      <th>q0_gold</th>\n",
       "      <th>q1_gold</th>\n",
       "      <th>q2_gold</th>\n",
       "      <th>q3_gold</th>\n",
       "    </tr>\n",
       "  </thead>\n",
       "  <tbody>\n",
       "    <tr>\n",
       "      <th>126</th>\n",
       "      <td>A1QW104XQNIICA</td>\n",
       "      <td>2022-10-09 16:12:43</td>\n",
       "      <td>14.371</td>\n",
       "      <td>75278</td>\n",
       "      <td>He's not very well off.</td>\n",
       "      <td>He's not very wealthy.</td>\n",
       "      <td>{}</td>\n",
       "      <td>He's not very well off.</td>\n",
       "      <td>He's not very well off.</td>\n",
       "      <td>He's not very well off.</td>\n",
       "      <td>He's not very well off.</td>\n",
       "      <td>He's not very wealthy.</td>\n",
       "      <td>He's not very wealthy.</td>\n",
       "      <td>He's not very wealthy.</td>\n",
       "      <td>He's not very wealthy.</td>\n",
       "      <td>entailment</td>\n",
       "      <td>nan</td>\n",
       "      <td>nan</td>\n",
       "      <td>nan</td>\n",
       "    </tr>\n",
       "    <tr>\n",
       "      <th>122</th>\n",
       "      <td>A15WACUALQNT90</td>\n",
       "      <td>2022-10-26 12:26:18</td>\n",
       "      <td>28.814</td>\n",
       "      <td>73923</td>\n",
       "      <td>I have a meeting with the CEO at 3pm.</td>\n",
       "      <td>I don't have time for a meeting at 3pm.</td>\n",
       "      <td>{}</td>\n",
       "      <td>I have a meeting with the CEO at 3pm.</td>\n",
       "      <td>I have a meeting with the CEO at 3pm.</td>\n",
       "      <td>I have a meeting with the CEO at 3pm.</td>\n",
       "      <td>I have a meeting with the CEO at 3pm.</td>\n",
       "      <td>I don't have time for another meeting at 3pm.</td>\n",
       "      <td>I don't have time for my meeting at 3pm.</td>\n",
       "      <td>I don't have time for a meeting at 3pm.</td>\n",
       "      <td>I don't have time for a meeting at 3pm.</td>\n",
       "      <td>entailment|contradiction</td>\n",
       "      <td>entailment</td>\n",
       "      <td>contradiction</td>\n",
       "      <td>nan</td>\n",
       "    </tr>\n",
       "    <tr>\n",
       "      <th>332</th>\n",
       "      <td>A15WACUALQNT90</td>\n",
       "      <td>2022-09-27 17:32:26</td>\n",
       "      <td>120.348</td>\n",
       "      <td>1896</td>\n",
       "      <td>We do not know for certain what happened to th...</td>\n",
       "      <td>The missing treasure has not been found.</td>\n",
       "      <td>{}</td>\n",
       "      <td>We do not know for certain what happened to th...</td>\n",
       "      <td>We do not know for certain what happened to th...</td>\n",
       "      <td>We do not know for certain what happened to th...</td>\n",
       "      <td>We do not know for certain what happened to th...</td>\n",
       "      <td>The missing treasure has not been found by us.</td>\n",
       "      <td>The missing treasure has not been found by any...</td>\n",
       "      <td>The missing treasure has not been found.</td>\n",
       "      <td>The missing treasure has not been found.</td>\n",
       "      <td>entailment|contradiction</td>\n",
       "      <td>entailment</td>\n",
       "      <td>contradiction</td>\n",
       "      <td>nan</td>\n",
       "    </tr>\n",
       "  </tbody>\n",
       "</table>\n",
       "</div>"
      ],
      "text/plain": [
       "          worker_id         submit_time  time_on_page     id  \\\n",
       "126  A1QW104XQNIICA 2022-10-09 16:12:43        14.371  75278   \n",
       "122  A15WACUALQNT90 2022-10-26 12:26:18        28.814  73923   \n",
       "332  A15WACUALQNT90 2022-09-27 17:32:26       120.348   1896   \n",
       "\n",
       "                                               premise  \\\n",
       "126                            He's not very well off.   \n",
       "122              I have a meeting with the CEO at 3pm.   \n",
       "332  We do not know for certain what happened to th...   \n",
       "\n",
       "                                   hypothesis feedback  \\\n",
       "126                    He's not very wealthy.       {}   \n",
       "122   I don't have time for a meeting at 3pm.       {}   \n",
       "332  The missing treasure has not been found.       {}   \n",
       "\n",
       "                                              premise1  \\\n",
       "126                            He's not very well off.   \n",
       "122              I have a meeting with the CEO at 3pm.   \n",
       "332  We do not know for certain what happened to th...   \n",
       "\n",
       "                                              premise2  \\\n",
       "126                            He's not very well off.   \n",
       "122              I have a meeting with the CEO at 3pm.   \n",
       "332  We do not know for certain what happened to th...   \n",
       "\n",
       "                                              premise3  \\\n",
       "126                            He's not very well off.   \n",
       "122              I have a meeting with the CEO at 3pm.   \n",
       "332  We do not know for certain what happened to th...   \n",
       "\n",
       "                                              premise4  \\\n",
       "126                            He's not very well off.   \n",
       "122              I have a meeting with the CEO at 3pm.   \n",
       "332  We do not know for certain what happened to th...   \n",
       "\n",
       "                                        hypothesis1  \\\n",
       "126                          He's not very wealthy.   \n",
       "122   I don't have time for another meeting at 3pm.   \n",
       "332  The missing treasure has not been found by us.   \n",
       "\n",
       "                                           hypothesis2  \\\n",
       "126                             He's not very wealthy.   \n",
       "122           I don't have time for my meeting at 3pm.   \n",
       "332  The missing treasure has not been found by any...   \n",
       "\n",
       "                                  hypothesis3  \\\n",
       "126                    He's not very wealthy.   \n",
       "122   I don't have time for a meeting at 3pm.   \n",
       "332  The missing treasure has not been found.   \n",
       "\n",
       "                                  hypothesis4                   q0_gold  \\\n",
       "126                    He's not very wealthy.                entailment   \n",
       "122   I don't have time for a meeting at 3pm.  entailment|contradiction   \n",
       "332  The missing treasure has not been found.  entailment|contradiction   \n",
       "\n",
       "        q1_gold        q2_gold q3_gold  \n",
       "126         nan            nan     nan  \n",
       "122  entailment  contradiction     nan  \n",
       "332  entailment  contradiction     nan  "
      ]
     },
     "execution_count": 6,
     "metadata": {},
     "output_type": "execute_result"
    }
   ],
   "source": [
    "annotations_df = pd.concat(batch_dfs)\n",
    "print(f'Total annotations: {len(annotations_df)}')\n",
    "annotations_df.sample(3)"
   ]
  },
  {
   "cell_type": "code",
   "execution_count": 7,
   "id": "a59539db",
   "metadata": {},
   "outputs": [],
   "source": [
    "annotations_df.to_json('annotation/AmbiEnt/annotated_examples.jsonl', lines=True, orient='records')"
   ]
  },
  {
   "cell_type": "code",
   "execution_count": 9,
   "id": "82a19c46",
   "metadata": {},
   "outputs": [
    {
     "name": "stdout",
     "output_type": "stream",
     "text": [
      "2020\n"
     ]
    }
   ],
   "source": [
    "ambient = clean_annotation_batch(annotations_df)\n",
    "ambient.sample(3)\n",
    "print(len(ambient.index))"
   ]
  },
  {
   "cell_type": "code",
   "execution_count": 10,
   "id": "7407261e",
   "metadata": {},
   "outputs": [],
   "source": [
    "ambient.to_json('annotation/AmbiEnt/cleaned_examples.jsonl', lines=True, orient='records')"
   ]
  }
 ],
 "metadata": {
  "kernelspec": {
   "display_name": "Python 3 (ipykernel)",
   "language": "python",
   "name": "python3"
  },
  "language_info": {
   "codemirror_mode": {
    "name": "ipython",
    "version": 3
   },
   "file_extension": ".py",
   "mimetype": "text/x-python",
   "name": "python",
   "nbconvert_exporter": "python",
   "pygments_lexer": "ipython3",
   "version": "3.9.5"
  }
 },
 "nbformat": 4,
 "nbformat_minor": 5
}
