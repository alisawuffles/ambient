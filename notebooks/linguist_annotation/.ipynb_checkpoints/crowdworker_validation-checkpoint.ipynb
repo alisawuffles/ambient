{
 "cells": [
  {
   "cell_type": "code",
   "execution_count": 1,
   "id": "8c014e99",
   "metadata": {},
   "outputs": [
    {
     "name": "stdout",
     "output_type": "stream",
     "text": [
      "/mmfs1/gscratch/xlab/alisaliu/ambignli/notebooks\n",
      "/mmfs1/gscratch/xlab/alisaliu/ambignli\n"
     ]
    }
   ],
   "source": [
    "from pathlib import Path\n",
    "\n",
    "while Path.cwd().name != 'ambignli':\n",
    "    %cd .."
   ]
  },
  {
   "cell_type": "code",
   "execution_count": 2,
   "id": "9514a09a",
   "metadata": {},
   "outputs": [],
   "source": [
    "import pandas as pd\n",
    "from tqdm import tqdm\n",
    "import random"
   ]
  },
  {
   "cell_type": "code",
   "execution_count": 4,
   "id": "fad21dd9",
   "metadata": {},
   "outputs": [],
   "source": [
    "ambignli = pd.read_json('annotation/ambignli/validated_examples.jsonl', lines=True)"
   ]
  },
  {
   "cell_type": "code",
   "execution_count": 8,
   "id": "83086eda",
   "metadata": {},
   "outputs": [],
   "source": [
    "ambiguous_df = ambignli[ambignli['premise_ambiguous'] ^ ambignli['hypothesis_ambiguous']]"
   ]
  },
  {
   "cell_type": "code",
   "execution_count": 11,
   "id": "1461c96b",
   "metadata": {},
   "outputs": [],
   "source": [
    "mturk_examples = []\n",
    "for i, row in ambiguous_df.iterrows():\n",
    "    ambiguous_sent_key = 'premise' if row['premise_ambiguous'] else 'hypothesis'\n",
    "    ambiguous_sent = row[ambiguous_sent_key]\n",
    "    disambiguations = [d[ambiguous_sent_key] for d in row['disambiguations']]\n",
    "    mturk_examples.append({\n",
    "        'premise': row['premise'],\n",
    "        'hypothesis': row['hypothesis'],\n",
    "        'ambiguous_sent': ambiguous_sent,\n",
    "        'interpretation1': disambiguations[0],\n",
    "        'interpretation2': disambiguations[1],\n",
    "        'premise1': disambiguations[0] if ambiguous_sent_key == 'premise' else row['premise'],\n",
    "        'premise2': disambiguations[1] if ambiguous_sent_key == 'premise' else row['premise'],\n",
    "        'hypothesis1': disambiguations[0] if ambiguous_sent_key == 'hypothesis' else row['hypothesis'],\n",
    "        'hypothesis2': disambiguations[1] if ambiguous_sent_key == 'hypothesis' else row['hypothesis'],\n",
    "    })"
   ]
  },
  {
   "cell_type": "code",
   "execution_count": 14,
   "id": "61d48c4f",
   "metadata": {},
   "outputs": [],
   "source": [
    "pd.DataFrame(mturk_examples).to_csv('annotation/crowdworker_exp/examples.csv', index=False)"
   ]
  },
  {
   "cell_type": "code",
   "execution_count": null,
   "id": "fc76cc83",
   "metadata": {},
   "outputs": [],
   "source": []
  }
 ],
 "metadata": {
  "kernelspec": {
   "display_name": "Python 3 (ipykernel)",
   "language": "python",
   "name": "python3"
  },
  "language_info": {
   "codemirror_mode": {
    "name": "ipython",
    "version": 3
   },
   "file_extension": ".py",
   "mimetype": "text/x-python",
   "name": "python",
   "nbconvert_exporter": "python",
   "pygments_lexer": "ipython3",
   "version": "3.9.5"
  }
 },
 "nbformat": 4,
 "nbformat_minor": 5
}
