{
 "cells": [
  {
   "cell_type": "code",
   "execution_count": 1,
   "id": "0919eb76",
   "metadata": {},
   "outputs": [
    {
     "name": "stdout",
     "output_type": "stream",
     "text": [
      "/mmfs1/gscratch/xlab/alisaliu/ambient/notebooks\n",
      "/mmfs1/gscratch/xlab/alisaliu/ambient\n"
     ]
    }
   ],
   "source": [
    "from pathlib import Path\n",
    "\n",
    "while Path.cwd().name != 'ambient':\n",
    "    %cd .."
   ]
  },
  {
   "cell_type": "code",
   "execution_count": 3,
   "id": "aa856758",
   "metadata": {},
   "outputs": [],
   "source": [
    "import pandas as pd\n",
    "from mturk.human_eval_utils import statistics_for_worker, read_batch\n",
    "import numpy as np\n",
    "import seaborn as sns\n",
    "import matplotlib.pyplot as plt\n",
    "from tqdm import tqdm\n",
    "import ast"
   ]
  },
  {
   "cell_type": "code",
   "execution_count": 4,
   "id": "260931c6",
   "metadata": {},
   "outputs": [],
   "source": [
    "batch_dir = 'annotation/human_eval/batches'\n",
    "batch_id = 5046353\n",
    "batch_df = read_batch(batch_id, batch_dir=batch_dir)"
   ]
  },
  {
   "cell_type": "code",
   "execution_count": 6,
   "id": "4f58a800",
   "metadata": {},
   "outputs": [
    {
     "data": {
      "text/plain": [
       "{'A1HKYY6XI2OHO1': {'num_examples': 51,\n",
       "  'median_time': 145.3,\n",
       "  'possible_interps_prop': 1.47,\n",
       "  'correct_disambiguation_prop': 0.49,\n",
       "  'correct_label_prop': 0.39,\n",
       "  'label_disagree_prop': 0.33},\n",
       " 'A320QA9HJFUOZO': {'num_examples': 22,\n",
       "  'median_time': 41.22,\n",
       "  'possible_interps_prop': 1.64,\n",
       "  'correct_disambiguation_prop': 0.55,\n",
       "  'correct_label_prop': 0.35,\n",
       "  'label_disagree_prop': 0.3},\n",
       " 'AQXRHIMQ7UK7O': {'num_examples': 37,\n",
       "  'median_time': 40.77,\n",
       "  'possible_interps_prop': 1.3,\n",
       "  'correct_disambiguation_prop': 0.43,\n",
       "  'correct_label_prop': 0.39,\n",
       "  'label_disagree_prop': 0.2},\n",
       " 'A5TWD5QD99GZY': {'num_examples': 34,\n",
       "  'median_time': 37.39,\n",
       "  'possible_interps_prop': 1.21,\n",
       "  'correct_disambiguation_prop': 0.4,\n",
       "  'correct_label_prop': 0.4,\n",
       "  'label_disagree_prop': 0.24},\n",
       " 'AKQAI78JTXXC9': {'num_examples': 52,\n",
       "  'median_time': 144.47,\n",
       "  'possible_interps_prop': 1.63,\n",
       "  'correct_disambiguation_prop': 0.54,\n",
       "  'correct_label_prop': 0.42,\n",
       "  'label_disagree_prop': 0.23},\n",
       " 'A2VO8C41JJIQY9': {'num_examples': 28,\n",
       "  'median_time': 56.78,\n",
       "  'possible_interps_prop': 1.39,\n",
       "  'correct_disambiguation_prop': 0.46,\n",
       "  'correct_label_prop': 0.37,\n",
       "  'label_disagree_prop': 0.3},\n",
       " 'A6KOTWP7N7RLU': {'num_examples': 10,\n",
       "  'median_time': 151.15,\n",
       "  'possible_interps_prop': 1.7,\n",
       "  'correct_disambiguation_prop': 0.57,\n",
       "  'correct_label_prop': 0.4,\n",
       "  'label_disagree_prop': 0.27},\n",
       " 'A2BK45LZGGWPLX': {'num_examples': 25,\n",
       "  'median_time': 48.66,\n",
       "  'possible_interps_prop': 1.68,\n",
       "  'correct_disambiguation_prop': 0.56,\n",
       "  'correct_label_prop': 0.4,\n",
       "  'label_disagree_prop': 0.25},\n",
       " 'A2EJ7U3TZAKROG': {'num_examples': 7,\n",
       "  'median_time': 48.34,\n",
       "  'possible_interps_prop': 1.29,\n",
       "  'correct_disambiguation_prop': 0.43,\n",
       "  'correct_label_prop': 0.33,\n",
       "  'label_disagree_prop': 0.17},\n",
       " 'A2NAKIXS3DVGAA': {'num_examples': 24,\n",
       "  'median_time': 26.5,\n",
       "  'possible_interps_prop': 1.29,\n",
       "  'correct_disambiguation_prop': 0.43,\n",
       "  'correct_label_prop': 0.44,\n",
       "  'label_disagree_prop': 0.28},\n",
       " 'A2TCX20FIMNWSS': {'num_examples': 10,\n",
       "  'median_time': 205.17,\n",
       "  'possible_interps_prop': 1.6,\n",
       "  'correct_disambiguation_prop': 0.53,\n",
       "  'correct_label_prop': 0.27,\n",
       "  'label_disagree_prop': 0.27}}"
      ]
     },
     "execution_count": 6,
     "metadata": {},
     "output_type": "execute_result"
    }
   ],
   "source": [
    "worker_statistics = {}\n",
    "for worker_id in batch_df.worker_id.unique():\n",
    "#     try:\n",
    "    stats = statistics_for_worker(batch_df, worker_id)\n",
    "    stats = {k: np.round(v, 2) for k,v in stats.items()}\n",
    "    worker_statistics[worker_id] = stats\n",
    "#     except TypeError:\n",
    "#         print(worker_id)\n",
    "\n",
    "worker_statistics"
   ]
  },
  {
   "cell_type": "code",
   "execution_count": null,
   "id": "f979bf9e",
   "metadata": {},
   "outputs": [],
   "source": [
    "row = batch_df.iloc[0]"
   ]
  },
  {
   "cell_type": "code",
   "execution_count": null,
   "id": "c84cce84",
   "metadata": {},
   "outputs": [],
   "source": [
    "for i, row in tqdm(batch_df.iterrows()):\n",
    "    worker_id = row['worker_id']\n",
    "    other_judgments = batch_df.loc[(batch_df['id'] == row['id']) & () & (batch_df['worker_id'] != worker_id)]\n",
    "    assert len(other_judgments) == 2"
   ]
  },
  {
   "cell_type": "code",
   "execution_count": null,
   "id": "295de347",
   "metadata": {},
   "outputs": [],
   "source": [
    "other_judgments"
   ]
  },
  {
   "cell_type": "code",
   "execution_count": null,
   "id": "4a8d7967",
   "metadata": {},
   "outputs": [],
   "source": []
  }
 ],
 "metadata": {
  "kernelspec": {
   "display_name": "Python 3 (ipykernel)",
   "language": "python",
   "name": "python3"
  },
  "language_info": {
   "codemirror_mode": {
    "name": "ipython",
    "version": 3
   },
   "file_extension": ".py",
   "mimetype": "text/x-python",
   "name": "python",
   "nbconvert_exporter": "python",
   "pygments_lexer": "ipython3",
   "version": "3.9.5"
  }
 },
 "nbformat": 4,
 "nbformat_minor": 5
}
