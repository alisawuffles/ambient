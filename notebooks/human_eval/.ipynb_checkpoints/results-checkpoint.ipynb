{
 "cells": [
  {
   "cell_type": "code",
   "execution_count": 1,
   "id": "54de7558",
   "metadata": {},
   "outputs": [
    {
     "name": "stdout",
     "output_type": "stream",
     "text": [
      "/mmfs1/gscratch/xlab/alisaliu/ambient/notebooks\n",
      "/mmfs1/gscratch/xlab/alisaliu/ambient\n"
     ]
    }
   ],
   "source": [
    "from pathlib import Path\n",
    "\n",
    "while Path.cwd().name != 'ambient':\n",
    "    %cd .."
   ]
  },
  {
   "cell_type": "code",
   "execution_count": 2,
   "id": "84e83261",
   "metadata": {},
   "outputs": [],
   "source": [
    "import pandas as pd\n",
    "from pathlib import Path\n",
    "from utils.constants import id2label, label2id\n",
    "from mturk.human_eval_utils import read_batch, clean_batch, statistics_for_worker\n",
    "from mturk.utils import get_disambiguation_idxs\n",
    "import numpy as np\n",
    "import ast\n",
    "from scipy import stats\n",
    "import math\n",
    "import sys\n",
    "np.set_printoptions(threshold=sys.maxsize)\n",
    "import os\n",
    "from collections import Counter\n",
    "import seaborn as sns\n",
    "import matplotlib.pyplot as plt\n",
    "from utils.utils import get_mode"
   ]
  },
  {
   "cell_type": "code",
   "execution_count": 3,
   "id": "ecc26ea6",
   "metadata": {},
   "outputs": [
    {
     "name": "stdout",
     "output_type": "stream",
     "text": [
      "Number of examples annotated: 300\n"
     ]
    }
   ],
   "source": [
    "batches_dir = Path('annotation/human_eval/batches')\n",
    "dirs = [d for d in os.listdir(batches_dir) if (os.path.isdir(batches_dir / d) and d.startswith('batch_'))]\n",
    "hits_per_annotator = Counter()\n",
    "\n",
    "batch_dfs = []\n",
    "for batch_dir in dirs:\n",
    "    batch_df = pd.read_json(batches_dir / batch_dir / 'batch_results.jsonl', lines=True)\n",
    "    batch_df['labels'] = [ast.literal_eval(row['labels']) for _, row in batch_df.iterrows()]\n",
    "    batch_dfs.append(batch_df)\n",
    "\n",
    "results_df = pd.concat(batch_dfs).reset_index(drop=True)\n",
    "print(f'Number of examples annotated: {len(results_df.index)}')"
   ]
  },
  {
   "cell_type": "code",
   "execution_count": 4,
   "id": "43e3e84f",
   "metadata": {},
   "outputs": [],
   "source": [
    "results_df['correct'] = False\n",
    "for i, row in results_df.iterrows():\n",
    "    disambiguation_idxs = [j for j, label in enumerate(row['labels']) if label]\n",
    "    if len(disambiguation_idxs) >= 2:\n",
    "        if np.all([(get_mode(row[f'd{j+1}_gold']) == True) and (get_mode(row[f'q{j+1}_gold']) == row['labels'][j]) for j in disambiguation_idxs]):\n",
    "            results_df.at[i, 'correct'] = True"
   ]
  },
  {
   "cell_type": "code",
   "execution_count": 5,
   "id": "514bf5b6",
   "metadata": {},
   "outputs": [
    {
     "name": "stdout",
     "output_type": "stream",
     "text": [
      "davinci 50 2.0\n",
      "flan-t5-xxl 50 0.0\n",
      "gpt-3.5-turbo 50 18.0\n",
      "gpt-4 50 32.0\n",
      "llama-65b 50 10.0\n",
      "text-davinci-003 50 4.0\n"
     ]
    }
   ],
   "source": [
    "for model, model_df in results_df.groupby('source'):\n",
    "    print(model, len(model_df.index), np.round(np.sum(model_df.correct)/len(model_df.index)*100, 1))"
   ]
  },
  {
   "cell_type": "code",
   "execution_count": 10,
   "id": "46ad2bd1",
   "metadata": {},
   "outputs": [],
   "source": [
    "def find_patterns(df):\n",
    "    copied, tot = 0, 0\n",
    "    for i, row in df.iterrows():\n",
    "        disambiguation_idxs = get_disambiguation_idxs(row)\n",
    "        for disambiguation in row['disambiguations'][disambiguation_idxs]:\n",
    "            if disambiguation == row[row['ambiguous_sent']]:\n",
    "                copied += 1\n",
    "            tot += 1"
   ]
  },
  {
   "cell_type": "code",
   "execution_count": 11,
   "id": "389e5072",
   "metadata": {
    "scrolled": false
   },
   "outputs": [
    {
     "ename": "TypeError",
     "evalue": "list indices must be integers or slices, not str",
     "output_type": "error",
     "traceback": [
      "\u001b[0;31m---------------------------------------------------------------------------\u001b[0m",
      "\u001b[0;31mTypeError\u001b[0m                                 Traceback (most recent call last)",
      "\u001b[0;32m/tmp/ipykernel_68512/2445275593.py\u001b[0m in \u001b[0;36m<module>\u001b[0;34m\u001b[0m\n\u001b[1;32m      1\u001b[0m \u001b[0mmodel\u001b[0m \u001b[0;34m=\u001b[0m \u001b[0;34m'davinci'\u001b[0m\u001b[0;34m\u001b[0m\u001b[0;34m\u001b[0m\u001b[0m\n\u001b[1;32m      2\u001b[0m \u001b[0mmodel_df\u001b[0m \u001b[0;34m=\u001b[0m \u001b[0mresults_df\u001b[0m\u001b[0;34m.\u001b[0m\u001b[0mloc\u001b[0m\u001b[0;34m[\u001b[0m\u001b[0mresults_df\u001b[0m\u001b[0;34m[\u001b[0m\u001b[0;34m'source'\u001b[0m\u001b[0;34m]\u001b[0m \u001b[0;34m==\u001b[0m \u001b[0mmodel\u001b[0m\u001b[0;34m]\u001b[0m\u001b[0;34m.\u001b[0m\u001b[0mto_dict\u001b[0m\u001b[0;34m(\u001b[0m\u001b[0morient\u001b[0m\u001b[0;34m=\u001b[0m\u001b[0;34m'records'\u001b[0m\u001b[0;34m)\u001b[0m\u001b[0;34m\u001b[0m\u001b[0;34m\u001b[0m\u001b[0m\n\u001b[0;32m----> 3\u001b[0;31m \u001b[0mfind_patterns\u001b[0m\u001b[0;34m(\u001b[0m\u001b[0mmodel_df\u001b[0m\u001b[0;34m)\u001b[0m\u001b[0;34m\u001b[0m\u001b[0;34m\u001b[0m\u001b[0m\n\u001b[0m",
      "\u001b[0;32m/tmp/ipykernel_68512/781422303.py\u001b[0m in \u001b[0;36mfind_patterns\u001b[0;34m(row)\u001b[0m\n\u001b[1;32m      1\u001b[0m \u001b[0;32mdef\u001b[0m \u001b[0mfind_patterns\u001b[0m\u001b[0;34m(\u001b[0m\u001b[0mrow\u001b[0m\u001b[0;34m)\u001b[0m\u001b[0;34m:\u001b[0m\u001b[0;34m\u001b[0m\u001b[0;34m\u001b[0m\u001b[0m\n\u001b[1;32m      2\u001b[0m     \u001b[0mcopied\u001b[0m\u001b[0;34m,\u001b[0m \u001b[0mtot\u001b[0m \u001b[0;34m=\u001b[0m \u001b[0;36m0\u001b[0m\u001b[0;34m,\u001b[0m \u001b[0;36m0\u001b[0m\u001b[0;34m\u001b[0m\u001b[0;34m\u001b[0m\u001b[0m\n\u001b[0;32m----> 3\u001b[0;31m     \u001b[0mdisambiguation_idxs\u001b[0m \u001b[0;34m=\u001b[0m \u001b[0mget_disambiguation_idxs\u001b[0m\u001b[0;34m(\u001b[0m\u001b[0mrow\u001b[0m\u001b[0;34m)\u001b[0m\u001b[0;34m\u001b[0m\u001b[0;34m\u001b[0m\u001b[0m\n\u001b[0m\u001b[1;32m      4\u001b[0m     \u001b[0;32mfor\u001b[0m \u001b[0mdisambiguation\u001b[0m \u001b[0;32min\u001b[0m \u001b[0mrow\u001b[0m\u001b[0;34m[\u001b[0m\u001b[0;34m'disambiguations'\u001b[0m\u001b[0;34m]\u001b[0m\u001b[0;34m[\u001b[0m\u001b[0mdisambiguation_idxs\u001b[0m\u001b[0;34m]\u001b[0m\u001b[0;34m:\u001b[0m\u001b[0;34m\u001b[0m\u001b[0;34m\u001b[0m\u001b[0m\n\u001b[1;32m      5\u001b[0m         \u001b[0;32mif\u001b[0m \u001b[0mdisambiguation\u001b[0m \u001b[0;34m==\u001b[0m \u001b[0mrow\u001b[0m\u001b[0;34m[\u001b[0m\u001b[0mrow\u001b[0m\u001b[0;34m[\u001b[0m\u001b[0;34m'ambiguous_sent'\u001b[0m\u001b[0;34m]\u001b[0m\u001b[0;34m]\u001b[0m\u001b[0;34m:\u001b[0m\u001b[0;34m\u001b[0m\u001b[0;34m\u001b[0m\u001b[0m\n",
      "\u001b[0;32m/mmfs1/gscratch/xlab/alisaliu/ambient/mturk/utils.py\u001b[0m in \u001b[0;36mget_disambiguation_idxs\u001b[0;34m(row)\u001b[0m\n\u001b[1;32m      1\u001b[0m \u001b[0;32mdef\u001b[0m \u001b[0mget_disambiguation_idxs\u001b[0m\u001b[0;34m(\u001b[0m\u001b[0mrow\u001b[0m\u001b[0;34m)\u001b[0m\u001b[0;34m:\u001b[0m\u001b[0;34m\u001b[0m\u001b[0;34m\u001b[0m\u001b[0m\n\u001b[0;32m----> 2\u001b[0;31m     \u001b[0;32mreturn\u001b[0m \u001b[0;34m[\u001b[0m\u001b[0mj\u001b[0m \u001b[0;32mfor\u001b[0m \u001b[0mj\u001b[0m\u001b[0;34m,\u001b[0m \u001b[0mlabel\u001b[0m \u001b[0;32min\u001b[0m \u001b[0menumerate\u001b[0m\u001b[0;34m(\u001b[0m\u001b[0mrow\u001b[0m\u001b[0;34m[\u001b[0m\u001b[0;34m'labels'\u001b[0m\u001b[0;34m]\u001b[0m\u001b[0;34m)\u001b[0m \u001b[0;32mif\u001b[0m \u001b[0mlabel\u001b[0m\u001b[0;34m]\u001b[0m\u001b[0;34m\u001b[0m\u001b[0;34m\u001b[0m\u001b[0m\n\u001b[0m",
      "\u001b[0;31mTypeError\u001b[0m: list indices must be integers or slices, not str"
     ]
    }
   ],
   "source": [
    "model = 'davinci'\n",
    "model_df = results_df.loc[results_df['source'] == model].to_dict(orient='records')\n",
    "find_patterns(model_df) "
   ]
  },
  {
   "cell_type": "markdown",
   "id": "d75942d7",
   "metadata": {},
   "source": [
    "### worker stuff"
   ]
  },
  {
   "cell_type": "code",
   "execution_count": null,
   "id": "9e072903",
   "metadata": {},
   "outputs": [],
   "source": [
    "batches_dir = Path('annotation/human_eval/batches')\n",
    "dirs = [d for d in os.listdir(batches_dir) if (os.path.isdir(batches_dir / d) and d.startswith('batch_'))]\n",
    "hits_per_annotator = Counter()\n",
    "\n",
    "batch_dfs = []\n",
    "for batch_dir in dirs:\n",
    "    batch_id = int(batch_dir.split('_')[-1])\n",
    "    print(batch_id)\n",
    "    batch_df = read_batch(batch_id, batch_dir=batches_dir)\n",
    "    batch_dfs.append(batch_df)\n",
    "\n",
    "batch_df = pd.concat(batch_dfs)\n",
    "print(f'Number of examples annotated: {len(results_df.index)}')"
   ]
  },
  {
   "cell_type": "code",
   "execution_count": null,
   "id": "3bd921d7",
   "metadata": {},
   "outputs": [],
   "source": [
    "batch_df.worker_id.value_counts()"
   ]
  },
  {
   "cell_type": "code",
   "execution_count": null,
   "id": "1cbe278f",
   "metadata": {},
   "outputs": [],
   "source": []
  }
 ],
 "metadata": {
  "kernelspec": {
   "display_name": "Python 3 (ipykernel)",
   "language": "python",
   "name": "python3"
  },
  "language_info": {
   "codemirror_mode": {
    "name": "ipython",
    "version": 3
   },
   "file_extension": ".py",
   "mimetype": "text/x-python",
   "name": "python",
   "nbconvert_exporter": "python",
   "pygments_lexer": "ipython3",
   "version": "3.9.5"
  }
 },
 "nbformat": 4,
 "nbformat_minor": 5
}
